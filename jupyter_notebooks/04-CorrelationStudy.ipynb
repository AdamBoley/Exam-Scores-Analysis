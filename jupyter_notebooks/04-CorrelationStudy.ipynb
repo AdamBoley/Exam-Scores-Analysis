{
 "cells": [
  {
   "cell_type": "markdown",
   "metadata": {},
   "source": [
    "# **Correlation Analysis Notebook**"
   ]
  },
  {
   "cell_type": "markdown",
   "metadata": {},
   "source": [
    "## Objectives\n",
    "- Determine how the variables of the dataset correlate"
   ]
  },
  {
   "cell_type": "markdown",
   "metadata": {},
   "source": [
    "## Inputs\n",
    "- student-exam-results.csv file"
   ]
  },
  {
   "cell_type": "markdown",
   "metadata": {},
   "source": [
    "## Outputs\n",
    "- Revealed correlations within the dataset"
   ]
  },
  {
   "cell_type": "markdown",
   "metadata": {},
   "source": [
    "## Additional comments"
   ]
  },
  {
   "cell_type": "markdown",
   "metadata": {},
   "source": [
    "# Change working directory"
   ]
  },
  {
   "cell_type": "markdown",
   "metadata": {},
   "source": [
    "Since this notebook exists in the jupyter_notebooks directory, we need to change the current working directory from the jupyter_notebooks directory to the workspace, so that any directories created in further codes cells are added in the correct place. \n",
    "\n",
    "We access the current directory with the OS packages' `getcwd()` method"
   ]
  },
  {
   "cell_type": "code",
   "execution_count": 1,
   "metadata": {},
   "outputs": [
    {
     "data": {
      "text/plain": [
       "'/workspace/Exam-Scores-Analysis/jupyter_notebooks'"
      ]
     },
     "execution_count": 1,
     "metadata": {},
     "output_type": "execute_result"
    }
   ],
   "source": [
    "import os\n",
    "current_directory = os.getcwd()\n",
    "current_directory\n"
   ]
  },
  {
   "cell_type": "markdown",
   "metadata": {},
   "source": [
    "We now want to set the working directory as the parent of the current working directory, jupyter_notebooks\n",
    "\n",
    "- The `os.path.dirname()` method gets the parent directory\n",
    "- The `os.chir()` method defines the new current directory\n",
    "- We do this to access all of the project's files and directories, rather than those in the jupyter_notebooks directory"
   ]
  },
  {
   "cell_type": "code",
   "execution_count": 2,
   "metadata": {},
   "outputs": [
    {
     "name": "stdout",
     "output_type": "stream",
     "text": [
      "You set a new current directory\n"
     ]
    }
   ],
   "source": [
    "os.chdir(os.path.dirname(current_directory))\n",
    "print(\"You set a new current directory\")"
   ]
  },
  {
   "cell_type": "markdown",
   "metadata": {},
   "source": [
    "To make certain of things, we now use a code cell to confirm that we have set the current working directory properly"
   ]
  },
  {
   "cell_type": "code",
   "execution_count": 3,
   "metadata": {},
   "outputs": [
    {
     "data": {
      "text/plain": [
       "'/workspace/Exam-Scores-Analysis'"
      ]
     },
     "execution_count": 3,
     "metadata": {},
     "output_type": "execute_result"
    }
   ],
   "source": [
    "current_directory = os.getcwd()\n",
    "current_directory"
   ]
  },
  {
   "cell_type": "markdown",
   "metadata": {},
   "source": [
    "## Correlation Study\n",
    "\n",
    "Now that we have become more familiar with the dataset, we can perform a correlation study. As is noted in the Churnometer walkthrough project, we could use the Predictive Power Score library, however the feature variables are categorical. This means that we use One Hot Encoding to encode the categorical variables so that we can determine correlation scores.\n",
    "\n",
    "However, our task is larger in scope, since we have 5 target variables. We need to see how each feature variable correlates with each target variable. First, as we have a new notebook, we need to re-import the dataset."
   ]
  },
  {
   "cell_type": "code",
   "execution_count": 4,
   "metadata": {},
   "outputs": [
    {
     "data": {
      "text/html": [
       "<div>\n",
       "<style scoped>\n",
       "    .dataframe tbody tr th:only-of-type {\n",
       "        vertical-align: middle;\n",
       "    }\n",
       "\n",
       "    .dataframe tbody tr th {\n",
       "        vertical-align: top;\n",
       "    }\n",
       "\n",
       "    .dataframe thead th {\n",
       "        text-align: right;\n",
       "    }\n",
       "</style>\n",
       "<table border=\"1\" class=\"dataframe\">\n",
       "  <thead>\n",
       "    <tr style=\"text-align: right;\">\n",
       "      <th></th>\n",
       "      <th>gender</th>\n",
       "      <th>ethnicity</th>\n",
       "      <th>parental_education</th>\n",
       "      <th>lunch_program</th>\n",
       "      <th>test_preparation_course</th>\n",
       "      <th>math_score</th>\n",
       "      <th>reading_score</th>\n",
       "      <th>writing_score</th>\n",
       "      <th>average_score</th>\n",
       "      <th>literacy_score</th>\n",
       "    </tr>\n",
       "  </thead>\n",
       "  <tbody>\n",
       "    <tr>\n",
       "      <th>0</th>\n",
       "      <td>male</td>\n",
       "      <td>group A</td>\n",
       "      <td>high school</td>\n",
       "      <td>standard</td>\n",
       "      <td>completed</td>\n",
       "      <td>67</td>\n",
       "      <td>67</td>\n",
       "      <td>63</td>\n",
       "      <td>65</td>\n",
       "      <td>65</td>\n",
       "    </tr>\n",
       "    <tr>\n",
       "      <th>1</th>\n",
       "      <td>female</td>\n",
       "      <td>group D</td>\n",
       "      <td>some high school</td>\n",
       "      <td>free/reduced</td>\n",
       "      <td>none</td>\n",
       "      <td>40</td>\n",
       "      <td>59</td>\n",
       "      <td>55</td>\n",
       "      <td>51</td>\n",
       "      <td>57</td>\n",
       "    </tr>\n",
       "    <tr>\n",
       "      <th>2</th>\n",
       "      <td>male</td>\n",
       "      <td>group E</td>\n",
       "      <td>some college</td>\n",
       "      <td>free/reduced</td>\n",
       "      <td>none</td>\n",
       "      <td>59</td>\n",
       "      <td>60</td>\n",
       "      <td>50</td>\n",
       "      <td>56</td>\n",
       "      <td>55</td>\n",
       "    </tr>\n",
       "    <tr>\n",
       "      <th>3</th>\n",
       "      <td>male</td>\n",
       "      <td>group B</td>\n",
       "      <td>high school</td>\n",
       "      <td>standard</td>\n",
       "      <td>none</td>\n",
       "      <td>77</td>\n",
       "      <td>78</td>\n",
       "      <td>68</td>\n",
       "      <td>74</td>\n",
       "      <td>73</td>\n",
       "    </tr>\n",
       "    <tr>\n",
       "      <th>4</th>\n",
       "      <td>male</td>\n",
       "      <td>group E</td>\n",
       "      <td>associate's degree</td>\n",
       "      <td>standard</td>\n",
       "      <td>completed</td>\n",
       "      <td>78</td>\n",
       "      <td>73</td>\n",
       "      <td>68</td>\n",
       "      <td>73</td>\n",
       "      <td>70</td>\n",
       "    </tr>\n",
       "  </tbody>\n",
       "</table>\n",
       "</div>"
      ],
      "text/plain": [
       "   gender ethnicity  parental_education lunch_program test_preparation_course  \\\n",
       "0    male   group A         high school      standard               completed   \n",
       "1  female   group D    some high school  free/reduced                    none   \n",
       "2    male   group E        some college  free/reduced                    none   \n",
       "3    male   group B         high school      standard                    none   \n",
       "4    male   group E  associate's degree      standard               completed   \n",
       "\n",
       "   math_score  reading_score  writing_score  average_score  literacy_score  \n",
       "0          67             67             63             65              65  \n",
       "1          40             59             55             51              57  \n",
       "2          59             60             50             56              55  \n",
       "3          77             78             68             74              73  \n",
       "4          78             73             68             73              70  "
      ]
     },
     "execution_count": 4,
     "metadata": {},
     "output_type": "execute_result"
    }
   ],
   "source": [
    "import pandas as pd\n",
    "df = pd.read_csv('outputs/datasets/collection/student-exam-results.csv')\n",
    "df.head()"
   ]
  },
  {
   "cell_type": "markdown",
   "metadata": {},
   "source": [
    "Now we can apply the One Hot Encoder"
   ]
  },
  {
   "cell_type": "code",
   "execution_count": 5,
   "metadata": {},
   "outputs": [
    {
     "name": "stdout",
     "output_type": "stream",
     "text": [
      "(1000, 22)\n"
     ]
    },
    {
     "data": {
      "text/html": [
       "<div>\n",
       "<style scoped>\n",
       "    .dataframe tbody tr th:only-of-type {\n",
       "        vertical-align: middle;\n",
       "    }\n",
       "\n",
       "    .dataframe tbody tr th {\n",
       "        vertical-align: top;\n",
       "    }\n",
       "\n",
       "    .dataframe thead th {\n",
       "        text-align: right;\n",
       "    }\n",
       "</style>\n",
       "<table border=\"1\" class=\"dataframe\">\n",
       "  <thead>\n",
       "    <tr style=\"text-align: right;\">\n",
       "      <th></th>\n",
       "      <th>math_score</th>\n",
       "      <th>reading_score</th>\n",
       "      <th>writing_score</th>\n",
       "      <th>average_score</th>\n",
       "      <th>literacy_score</th>\n",
       "      <th>gender_male</th>\n",
       "      <th>gender_female</th>\n",
       "      <th>ethnicity_group A</th>\n",
       "      <th>ethnicity_group D</th>\n",
       "      <th>ethnicity_group E</th>\n",
       "      <th>...</th>\n",
       "      <th>parental_education_high school</th>\n",
       "      <th>parental_education_some high school</th>\n",
       "      <th>parental_education_some college</th>\n",
       "      <th>parental_education_associate's degree</th>\n",
       "      <th>parental_education_bachelor's degree</th>\n",
       "      <th>parental_education_master's degree</th>\n",
       "      <th>lunch_program_standard</th>\n",
       "      <th>lunch_program_free/reduced</th>\n",
       "      <th>test_preparation_course_completed</th>\n",
       "      <th>test_preparation_course_none</th>\n",
       "    </tr>\n",
       "  </thead>\n",
       "  <tbody>\n",
       "    <tr>\n",
       "      <th>0</th>\n",
       "      <td>67</td>\n",
       "      <td>67</td>\n",
       "      <td>63</td>\n",
       "      <td>65</td>\n",
       "      <td>65</td>\n",
       "      <td>1</td>\n",
       "      <td>0</td>\n",
       "      <td>1</td>\n",
       "      <td>0</td>\n",
       "      <td>0</td>\n",
       "      <td>...</td>\n",
       "      <td>1</td>\n",
       "      <td>0</td>\n",
       "      <td>0</td>\n",
       "      <td>0</td>\n",
       "      <td>0</td>\n",
       "      <td>0</td>\n",
       "      <td>1</td>\n",
       "      <td>0</td>\n",
       "      <td>1</td>\n",
       "      <td>0</td>\n",
       "    </tr>\n",
       "    <tr>\n",
       "      <th>1</th>\n",
       "      <td>40</td>\n",
       "      <td>59</td>\n",
       "      <td>55</td>\n",
       "      <td>51</td>\n",
       "      <td>57</td>\n",
       "      <td>0</td>\n",
       "      <td>1</td>\n",
       "      <td>0</td>\n",
       "      <td>1</td>\n",
       "      <td>0</td>\n",
       "      <td>...</td>\n",
       "      <td>0</td>\n",
       "      <td>1</td>\n",
       "      <td>0</td>\n",
       "      <td>0</td>\n",
       "      <td>0</td>\n",
       "      <td>0</td>\n",
       "      <td>0</td>\n",
       "      <td>1</td>\n",
       "      <td>0</td>\n",
       "      <td>1</td>\n",
       "    </tr>\n",
       "    <tr>\n",
       "      <th>2</th>\n",
       "      <td>59</td>\n",
       "      <td>60</td>\n",
       "      <td>50</td>\n",
       "      <td>56</td>\n",
       "      <td>55</td>\n",
       "      <td>1</td>\n",
       "      <td>0</td>\n",
       "      <td>0</td>\n",
       "      <td>0</td>\n",
       "      <td>1</td>\n",
       "      <td>...</td>\n",
       "      <td>0</td>\n",
       "      <td>0</td>\n",
       "      <td>1</td>\n",
       "      <td>0</td>\n",
       "      <td>0</td>\n",
       "      <td>0</td>\n",
       "      <td>0</td>\n",
       "      <td>1</td>\n",
       "      <td>0</td>\n",
       "      <td>1</td>\n",
       "    </tr>\n",
       "    <tr>\n",
       "      <th>3</th>\n",
       "      <td>77</td>\n",
       "      <td>78</td>\n",
       "      <td>68</td>\n",
       "      <td>74</td>\n",
       "      <td>73</td>\n",
       "      <td>1</td>\n",
       "      <td>0</td>\n",
       "      <td>0</td>\n",
       "      <td>0</td>\n",
       "      <td>0</td>\n",
       "      <td>...</td>\n",
       "      <td>1</td>\n",
       "      <td>0</td>\n",
       "      <td>0</td>\n",
       "      <td>0</td>\n",
       "      <td>0</td>\n",
       "      <td>0</td>\n",
       "      <td>1</td>\n",
       "      <td>0</td>\n",
       "      <td>0</td>\n",
       "      <td>1</td>\n",
       "    </tr>\n",
       "    <tr>\n",
       "      <th>4</th>\n",
       "      <td>78</td>\n",
       "      <td>73</td>\n",
       "      <td>68</td>\n",
       "      <td>73</td>\n",
       "      <td>70</td>\n",
       "      <td>1</td>\n",
       "      <td>0</td>\n",
       "      <td>0</td>\n",
       "      <td>0</td>\n",
       "      <td>1</td>\n",
       "      <td>...</td>\n",
       "      <td>0</td>\n",
       "      <td>0</td>\n",
       "      <td>0</td>\n",
       "      <td>1</td>\n",
       "      <td>0</td>\n",
       "      <td>0</td>\n",
       "      <td>1</td>\n",
       "      <td>0</td>\n",
       "      <td>1</td>\n",
       "      <td>0</td>\n",
       "    </tr>\n",
       "  </tbody>\n",
       "</table>\n",
       "<p>5 rows × 22 columns</p>\n",
       "</div>"
      ],
      "text/plain": [
       "   math_score  reading_score  writing_score  average_score  literacy_score  \\\n",
       "0          67             67             63             65              65   \n",
       "1          40             59             55             51              57   \n",
       "2          59             60             50             56              55   \n",
       "3          77             78             68             74              73   \n",
       "4          78             73             68             73              70   \n",
       "\n",
       "   gender_male  gender_female  ethnicity_group A  ethnicity_group D  \\\n",
       "0            1              0                  1                  0   \n",
       "1            0              1                  0                  1   \n",
       "2            1              0                  0                  0   \n",
       "3            1              0                  0                  0   \n",
       "4            1              0                  0                  0   \n",
       "\n",
       "   ethnicity_group E  ...  parental_education_high school  \\\n",
       "0                  0  ...                               1   \n",
       "1                  0  ...                               0   \n",
       "2                  1  ...                               0   \n",
       "3                  0  ...                               1   \n",
       "4                  1  ...                               0   \n",
       "\n",
       "   parental_education_some high school  parental_education_some college  \\\n",
       "0                                    0                                0   \n",
       "1                                    1                                0   \n",
       "2                                    0                                1   \n",
       "3                                    0                                0   \n",
       "4                                    0                                0   \n",
       "\n",
       "   parental_education_associate's degree  \\\n",
       "0                                      0   \n",
       "1                                      0   \n",
       "2                                      0   \n",
       "3                                      0   \n",
       "4                                      1   \n",
       "\n",
       "   parental_education_bachelor's degree  parental_education_master's degree  \\\n",
       "0                                     0                                   0   \n",
       "1                                     0                                   0   \n",
       "2                                     0                                   0   \n",
       "3                                     0                                   0   \n",
       "4                                     0                                   0   \n",
       "\n",
       "   lunch_program_standard  lunch_program_free/reduced  \\\n",
       "0                       1                           0   \n",
       "1                       0                           1   \n",
       "2                       0                           1   \n",
       "3                       1                           0   \n",
       "4                       1                           0   \n",
       "\n",
       "   test_preparation_course_completed  test_preparation_course_none  \n",
       "0                                  1                             0  \n",
       "1                                  0                             1  \n",
       "2                                  0                             1  \n",
       "3                                  0                             1  \n",
       "4                                  1                             0  \n",
       "\n",
       "[5 rows x 22 columns]"
      ]
     },
     "execution_count": 5,
     "metadata": {},
     "output_type": "execute_result"
    }
   ],
   "source": [
    "from feature_engine.encoding import OneHotEncoder\n",
    "one_hot_encoder = OneHotEncoder(variables = df.columns[df.dtypes=='object'].to_list(), drop_last=False)\n",
    "df_one_hot_encoder = one_hot_encoder.fit_transform(df)\n",
    "print(df_one_hot_encoder.shape)\n",
    "df_one_hot_encoder.head()"
   ]
  },
  {
   "cell_type": "markdown",
   "metadata": {},
   "source": [
    "We note that the encoded dataset now has 22 columns, and that the 5 target variables have been preserved."
   ]
  },
  {
   "cell_type": "markdown",
   "metadata": {},
   "source": [
    "### Maths score correlation"
   ]
  },
  {
   "cell_type": "markdown",
   "metadata": {},
   "source": [
    "#### Pearson"
   ]
  },
  {
   "cell_type": "code",
   "execution_count": 9,
   "metadata": {},
   "outputs": [
    {
     "data": {
      "text/plain": [
       "average_score                          0.919267\n",
       "literacy_score                         0.821858\n",
       "reading_score                          0.819398\n",
       "writing_score                          0.805944\n",
       "lunch_program_free/reduced            -0.374431\n",
       "lunch_program_standard                 0.374431\n",
       "ethnicity_group E                      0.203515\n",
       "gender_male                            0.200863\n",
       "gender_female                         -0.200863\n",
       "parental_education_some high school   -0.179725\n",
       "Name: math_score, dtype: float64"
      ]
     },
     "execution_count": 9,
     "metadata": {},
     "output_type": "execute_result"
    }
   ],
   "source": [
    "math_correlation_pearson = df_one_hot_encoder.corr(method='pearson')['math_score'].sort_values(key=abs, ascending=False)[1:].head(10)\n",
    "math_correlation_pearson"
   ]
  },
  {
   "cell_type": "markdown",
   "metadata": {},
   "source": [
    "We can see that the other 4 target variables correlate highly with math_score. By default, we exclude the first entry, which is math_score's correlation with itself. Since, in any prediction situation, we will not know the other test scores, we cannot use them in the correlation study, so we can adjust the correlation code cell to exclude the first 5 rows, so as to better reveal how the feature variables correlate with the math_score variable."
   ]
  },
  {
   "cell_type": "code",
   "execution_count": 11,
   "metadata": {},
   "outputs": [
    {
     "data": {
      "text/plain": [
       "lunch_program_free/reduced             -0.374431\n",
       "lunch_program_standard                  0.374431\n",
       "ethnicity_group E                       0.203515\n",
       "gender_male                             0.200863\n",
       "gender_female                          -0.200863\n",
       "parental_education_some high school    -0.179725\n",
       "test_preparation_course_none           -0.151704\n",
       "test_preparation_course_completed       0.151704\n",
       "ethnicity_group C                      -0.146533\n",
       "parental_education_bachelor's degree    0.117535\n",
       "Name: math_score, dtype: float64"
      ]
     },
     "execution_count": 11,
     "metadata": {},
     "output_type": "execute_result"
    }
   ],
   "source": [
    "math_correlation_pearson = df_one_hot_encoder.corr(method='pearson')['math_score'].sort_values(key=abs, ascending=False)[5:].head(10)\n",
    "math_correlation_pearson"
   ]
  },
  {
   "cell_type": "markdown",
   "metadata": {},
   "source": [
    "This reveals that only the lunch_program feature variable correlates with the math_score variable, and then only weakly. Therefore, prediction of the math_score target variable could be problematic."
   ]
  },
  {
   "cell_type": "markdown",
   "metadata": {},
   "source": [
    "#### Spearman\n",
    "\n",
    "We anticipate a similar outcome to the Pearson correlation, so we will discard the first 5 rows of the Spearman correlation test output."
   ]
  },
  {
   "cell_type": "code",
   "execution_count": 12,
   "metadata": {},
   "outputs": [
    {
     "data": {
      "text/plain": [
       "lunch_program_free/reduced            -0.363140\n",
       "lunch_program_standard                 0.363140\n",
       "gender_male                            0.193047\n",
       "gender_female                         -0.193047\n",
       "ethnicity_group E                      0.192825\n",
       "parental_education_some high school   -0.176459\n",
       "test_preparation_course_completed      0.145819\n",
       "test_preparation_course_none          -0.145819\n",
       "ethnicity_group C                     -0.141661\n",
       "ethnicity_group D                      0.118324\n",
       "Name: math_score, dtype: float64"
      ]
     },
     "execution_count": 12,
     "metadata": {},
     "output_type": "execute_result"
    }
   ],
   "source": [
    "math_correlation_spearman = df_one_hot_encoder.corr(method='spearman')['math_score'].sort_values(key=abs, ascending=False)[5:].head(10)\n",
    "math_correlation_spearman"
   ]
  },
  {
   "cell_type": "markdown",
   "metadata": {},
   "source": [
    "We get similar correlation results to the Pearson correlation - the lunch_program variable correlates weakly to the math_score variable."
   ]
  },
  {
   "cell_type": "markdown",
   "metadata": {},
   "source": [
    "### Reading score correlation"
   ]
  },
  {
   "cell_type": "markdown",
   "metadata": {},
   "source": [
    "#### Pearson"
   ]
  },
  {
   "cell_type": "code",
   "execution_count": 14,
   "metadata": {},
   "outputs": [
    {
     "data": {
      "text/plain": [
       "lunch_program_standard                  0.288282\n",
       "lunch_program_free/reduced             -0.288282\n",
       "test_preparation_course_none           -0.245144\n",
       "test_preparation_course_completed       0.245144\n",
       "gender_female                           0.189389\n",
       "gender_male                            -0.189389\n",
       "parental_education_some high school    -0.151530\n",
       "ethnicity_group D                       0.124821\n",
       "ethnicity_group C                      -0.122770\n",
       "parental_education_bachelor's degree    0.120719\n",
       "Name: reading_score, dtype: float64"
      ]
     },
     "execution_count": 14,
     "metadata": {},
     "output_type": "execute_result"
    }
   ],
   "source": [
    "reading_correlation_pearson = df_one_hot_encoder.corr(method='pearson')['reading_score'].sort_values(key=abs, ascending=False)[5:].head(10)\n",
    "reading_correlation_pearson"
   ]
  },
  {
   "cell_type": "markdown",
   "metadata": {},
   "source": [
    "We see that both the lunch_program and test_prepartion_course feature variables correlate weakly with reading_score"
   ]
  },
  {
   "cell_type": "markdown",
   "metadata": {},
   "source": [
    "#### Spearman"
   ]
  },
  {
   "cell_type": "code",
   "execution_count": 15,
   "metadata": {},
   "outputs": [
    {
     "data": {
      "text/plain": [
       "lunch_program_free/reduced             -0.273246\n",
       "lunch_program_standard                  0.273246\n",
       "test_preparation_course_completed       0.244122\n",
       "test_preparation_course_none           -0.244122\n",
       "gender_female                           0.181827\n",
       "gender_male                            -0.181827\n",
       "parental_education_some high school    -0.149800\n",
       "ethnicity_group C                      -0.123938\n",
       "ethnicity_group D                       0.121751\n",
       "parental_education_bachelor's degree    0.118116\n",
       "Name: reading_score, dtype: float64"
      ]
     },
     "execution_count": 15,
     "metadata": {},
     "output_type": "execute_result"
    }
   ],
   "source": [
    "reading_correlation_spearman = df_one_hot_encoder.corr(method='spearman')['reading_score'].sort_values(key=abs, ascending=False)[5:].head(10)\n",
    "reading_correlation_spearman"
   ]
  },
  {
   "cell_type": "markdown",
   "metadata": {},
   "source": [
    "As with Pearson correlation, we see that both the lunch_program and test_prepartion_course feature variables correlate weakly with reading_score"
   ]
  },
  {
   "cell_type": "markdown",
   "metadata": {},
   "source": [
    "### Writing score correlation"
   ]
  },
  {
   "cell_type": "markdown",
   "metadata": {},
   "source": [
    "#### Pearson"
   ]
  },
  {
   "cell_type": "code",
   "execution_count": 16,
   "metadata": {},
   "outputs": [
    {
     "data": {
      "text/plain": [
       "lunch_program_free/reduced             -0.319191\n",
       "lunch_program_standard                  0.319191\n",
       "test_preparation_course_completed       0.315601\n",
       "test_preparation_course_none           -0.315601\n",
       "gender_female                           0.246089\n",
       "gender_male                            -0.246089\n",
       "ethnicity_group D                       0.172772\n",
       "parental_education_some high school    -0.161996\n",
       "parental_education_bachelor's degree    0.151974\n",
       "parental_education_master's degree      0.143354\n",
       "Name: writing_score, dtype: float64"
      ]
     },
     "execution_count": 16,
     "metadata": {},
     "output_type": "execute_result"
    }
   ],
   "source": [
    "writing_correlation_pearson = df_one_hot_encoder.corr(method='pearson')['writing_score'].sort_values(key=abs, ascending=False)[5:].head(10)\n",
    "writing_correlation_pearson"
   ]
  },
  {
   "cell_type": "markdown",
   "metadata": {},
   "source": [
    "We see that lunch_program and test_preparation_course correlate weakly with writing_score"
   ]
  },
  {
   "cell_type": "markdown",
   "metadata": {},
   "source": [
    "#### Spearman"
   ]
  },
  {
   "cell_type": "code",
   "execution_count": 17,
   "metadata": {},
   "outputs": [
    {
     "data": {
      "text/plain": [
       "test_preparation_course_completed       0.312719\n",
       "test_preparation_course_none           -0.312719\n",
       "lunch_program_standard                  0.308331\n",
       "lunch_program_free/reduced             -0.308331\n",
       "gender_female                           0.240425\n",
       "gender_male                            -0.240425\n",
       "ethnicity_group D                       0.165223\n",
       "parental_education_some high school    -0.162533\n",
       "parental_education_bachelor's degree    0.146431\n",
       "ethnicity_group C                      -0.139161\n",
       "Name: writing_score, dtype: float64"
      ]
     },
     "execution_count": 17,
     "metadata": {},
     "output_type": "execute_result"
    }
   ],
   "source": [
    "reading_correlation_spearman = df_one_hot_encoder.corr(method='spearman')['writing_score'].sort_values(key=abs, ascending=False)[5:].head(10)\n",
    "reading_correlation_spearman"
   ]
  },
  {
   "cell_type": "markdown",
   "metadata": {},
   "source": [
    "We see that lunch_program and test_preparation_course correlate weakly with writing_score"
   ]
  },
  {
   "cell_type": "markdown",
   "metadata": {},
   "source": [
    "### Average score correlation"
   ]
  },
  {
   "cell_type": "markdown",
   "metadata": {},
   "source": [
    "#### Pearson"
   ]
  },
  {
   "cell_type": "code",
   "execution_count": 18,
   "metadata": {},
   "outputs": [
    {
     "data": {
      "text/plain": [
       "lunch_program_free/reduced             -0.343801\n",
       "lunch_program_standard                  0.343801\n",
       "test_preparation_course_none           -0.250024\n",
       "test_preparation_course_completed       0.250024\n",
       "parental_education_some high school    -0.171873\n",
       "ethnicity_group C                      -0.144197\n",
       "ethnicity_group D                       0.143886\n",
       "parental_education_bachelor's degree    0.135769\n",
       "ethnicity_group E                       0.124586\n",
       "parental_education_master's degree      0.124421\n",
       "Name: average_score, dtype: float64"
      ]
     },
     "execution_count": 18,
     "metadata": {},
     "output_type": "execute_result"
    }
   ],
   "source": [
    "average_correlation_pearson = df_one_hot_encoder.corr(method='pearson')['average_score'].sort_values(key=abs, ascending=False)[5:].head(10)\n",
    "average_correlation_pearson"
   ]
  },
  {
   "cell_type": "markdown",
   "metadata": {},
   "source": [
    "We see that lunch_program and test_preparation_course correlate weakly with average_score, though lunch_program correlates much better"
   ]
  },
  {
   "cell_type": "markdown",
   "metadata": {},
   "source": [
    "#### Spearman"
   ]
  },
  {
   "cell_type": "code",
   "execution_count": 19,
   "metadata": {},
   "outputs": [
    {
     "data": {
      "text/plain": [
       "lunch_program_free/reduced             -0.328517\n",
       "lunch_program_standard                  0.328517\n",
       "test_preparation_course_completed       0.244359\n",
       "test_preparation_course_none           -0.244359\n",
       "parental_education_some high school    -0.170254\n",
       "ethnicity_group D                       0.144023\n",
       "ethnicity_group C                      -0.142902\n",
       "parental_education_bachelor's degree    0.127152\n",
       "ethnicity_group E                       0.121390\n",
       "parental_education_master's degree      0.116028\n",
       "Name: average_score, dtype: float64"
      ]
     },
     "execution_count": 19,
     "metadata": {},
     "output_type": "execute_result"
    }
   ],
   "source": [
    "average_correlation_spearman = df_one_hot_encoder.corr(method='spearman')['average_score'].sort_values(key=abs, ascending=False)[5:].head(10)\n",
    "average_correlation_spearman"
   ]
  },
  {
   "cell_type": "markdown",
   "metadata": {},
   "source": [
    "We see that lunch_program and test_preparation_course correlate weakly with average_score, though lunch_program correlates much better"
   ]
  },
  {
   "cell_type": "markdown",
   "metadata": {},
   "source": [
    "### Literacy score correlation"
   ]
  },
  {
   "cell_type": "markdown",
   "metadata": {},
   "source": [
    "#### Pearson"
   ]
  },
  {
   "cell_type": "code",
   "execution_count": 20,
   "metadata": {},
   "outputs": [
    {
     "data": {
      "text/plain": [
       "lunch_program_standard                  0.308416\n",
       "lunch_program_free/reduced             -0.308416\n",
       "test_preparation_course_completed       0.284684\n",
       "test_preparation_course_none           -0.284684\n",
       "gender_female                           0.220989\n",
       "gender_male                            -0.220989\n",
       "parental_education_some high school    -0.159035\n",
       "ethnicity_group D                       0.150611\n",
       "parental_education_bachelor's degree    0.139335\n",
       "ethnicity_group C                      -0.134234\n",
       "Name: literacy_score, dtype: float64"
      ]
     },
     "execution_count": 20,
     "metadata": {},
     "output_type": "execute_result"
    }
   ],
   "source": [
    "literacy_correlation_pearson = df_one_hot_encoder.corr(method='pearson')['literacy_score'].sort_values(key=abs, ascending=False)[5:].head(10)\n",
    "literacy_correlation_pearson"
   ]
  },
  {
   "cell_type": "markdown",
   "metadata": {},
   "source": [
    "We see that lunch_program and test_preparation_course correlate weakly with literacy_score"
   ]
  },
  {
   "cell_type": "markdown",
   "metadata": {},
   "source": [
    "#### Spearman"
   ]
  },
  {
   "cell_type": "code",
   "execution_count": 21,
   "metadata": {},
   "outputs": [
    {
     "data": {
      "text/plain": [
       "lunch_program_free/reduced             -0.296744\n",
       "lunch_program_standard                  0.296744\n",
       "test_preparation_course_completed       0.281946\n",
       "test_preparation_course_none           -0.281946\n",
       "gender_female                           0.213681\n",
       "gender_male                            -0.213681\n",
       "parental_education_some high school    -0.158121\n",
       "ethnicity_group D                       0.145532\n",
       "parental_education_bachelor's degree    0.134937\n",
       "ethnicity_group C                      -0.131162\n",
       "Name: literacy_score, dtype: float64"
      ]
     },
     "execution_count": 21,
     "metadata": {},
     "output_type": "execute_result"
    }
   ],
   "source": [
    "literacy_correlation_spearman = df_one_hot_encoder.corr(method='spearman')['literacy_score'].sort_values(key=abs, ascending=False)[5:].head(10)\n",
    "literacy_correlation_spearman"
   ]
  },
  {
   "cell_type": "markdown",
   "metadata": {},
   "source": [
    "We see that lunch_program and test_preparation_course correlate weakly with literacy_score"
   ]
  }
 ],
 "metadata": {
  "kernelspec": {
   "display_name": "Python 3",
   "language": "python",
   "name": "python3"
  },
  "language_info": {
   "codemirror_mode": {
    "name": "ipython",
    "version": 3
   },
   "file_extension": ".py",
   "mimetype": "text/x-python",
   "name": "python",
   "nbconvert_exporter": "python",
   "pygments_lexer": "ipython3",
   "version": "3.8.11"
  },
  "orig_nbformat": 4,
  "vscode": {
   "interpreter": {
    "hash": "03672d1d5ffbbadc3038e50358243ff6e1c939c705228639babab7898b4f75b3"
   }
  }
 },
 "nbformat": 4,
 "nbformat_minor": 2
}
