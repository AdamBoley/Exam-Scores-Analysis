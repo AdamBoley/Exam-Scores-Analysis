{
 "cells": [
  {
   "cell_type": "markdown",
   "metadata": {},
   "source": [
    "# **Feature Engineering**"
   ]
  },
  {
   "cell_type": "markdown",
   "metadata": {},
   "source": [
    "## Objectives\n",
    "- Split the dataset into train and test sets for each of the maths, writing and reading exam scores, so that models can be trained to predict each exam score\n",
    "- Conduct a SmartCorrelatedSelection step, to see if any of the feature variables are correlated such that they must needs be removed to prevent overfitting"
   ]
  },
  {
   "cell_type": "markdown",
   "metadata": {},
   "source": [
    "## Inputs\n",
    "- outputs/datasets/collection/student-exam-results.csv"
   ]
  },
  {
   "cell_type": "markdown",
   "metadata": {},
   "source": [
    "## Outputs\n",
    "- train and test sets for each of the math_score, reading_score and writing_score variables"
   ]
  },
  {
   "cell_type": "markdown",
   "metadata": {},
   "source": [
    "## Additional comments"
   ]
  },
  {
   "cell_type": "markdown",
   "metadata": {},
   "source": [
    "# Change working directory"
   ]
  },
  {
   "cell_type": "markdown",
   "metadata": {},
   "source": [
    "Since this notebook exists in the jupyter_notebooks directory, we need to change the current working directory from the jupyter_notebooks directory to the workspace, so that any directories created in further codes cells are added in the correct place. \n",
    "\n",
    "We access the current directory with the OS packages' `getcwd()` method"
   ]
  },
  {
   "cell_type": "code",
   "execution_count": 2,
   "metadata": {},
   "outputs": [
    {
     "data": {
      "text/plain": [
       "'/workspace/Exam-Scores-Analysis/jupyter_notebooks'"
      ]
     },
     "execution_count": 2,
     "metadata": {},
     "output_type": "execute_result"
    }
   ],
   "source": [
    "import os\n",
    "current_directory = os.getcwd()\n",
    "current_directory\n"
   ]
  },
  {
   "cell_type": "markdown",
   "metadata": {},
   "source": [
    "We now want to set the working directory as the parent of the current working directory, jupyter_notebooks\n",
    "\n",
    "- The `os.path.dirname()` method gets the parent directory\n",
    "- The `os.chir()` method defines the new current directory\n",
    "- We do this to access all of the project's files and directories, rather than those in the jupyter_notebooks directory"
   ]
  },
  {
   "cell_type": "code",
   "execution_count": 3,
   "metadata": {},
   "outputs": [
    {
     "name": "stdout",
     "output_type": "stream",
     "text": [
      "You set a new current directory\n"
     ]
    }
   ],
   "source": [
    "os.chdir(os.path.dirname(current_directory))\n",
    "print(\"You set a new current directory\")"
   ]
  },
  {
   "cell_type": "markdown",
   "metadata": {},
   "source": [
    "To make certain of things, we now use a code cell to confirm that we have set the current working directory properly"
   ]
  },
  {
   "cell_type": "code",
   "execution_count": 4,
   "metadata": {},
   "outputs": [
    {
     "data": {
      "text/plain": [
       "'/workspace/Exam-Scores-Analysis'"
      ]
     },
     "execution_count": 4,
     "metadata": {},
     "output_type": "execute_result"
    }
   ],
   "source": [
    "current_directory = os.getcwd()\n",
    "current_directory"
   ]
  },
  {
   "cell_type": "markdown",
   "metadata": {},
   "source": [
    "## Load data"
   ]
  },
  {
   "cell_type": "code",
   "execution_count": 5,
   "metadata": {},
   "outputs": [
    {
     "data": {
      "text/html": [
       "<div>\n",
       "<style scoped>\n",
       "    .dataframe tbody tr th:only-of-type {\n",
       "        vertical-align: middle;\n",
       "    }\n",
       "\n",
       "    .dataframe tbody tr th {\n",
       "        vertical-align: top;\n",
       "    }\n",
       "\n",
       "    .dataframe thead th {\n",
       "        text-align: right;\n",
       "    }\n",
       "</style>\n",
       "<table border=\"1\" class=\"dataframe\">\n",
       "  <thead>\n",
       "    <tr style=\"text-align: right;\">\n",
       "      <th></th>\n",
       "      <th>gender</th>\n",
       "      <th>ethnicity</th>\n",
       "      <th>parental_education</th>\n",
       "      <th>lunch_program</th>\n",
       "      <th>test_preparation_course</th>\n",
       "      <th>math_score</th>\n",
       "      <th>reading_score</th>\n",
       "      <th>writing_score</th>\n",
       "      <th>average_score</th>\n",
       "      <th>literacy_score</th>\n",
       "    </tr>\n",
       "  </thead>\n",
       "  <tbody>\n",
       "    <tr>\n",
       "      <th>0</th>\n",
       "      <td>male</td>\n",
       "      <td>group A</td>\n",
       "      <td>high school</td>\n",
       "      <td>standard</td>\n",
       "      <td>completed</td>\n",
       "      <td>67</td>\n",
       "      <td>67</td>\n",
       "      <td>63</td>\n",
       "      <td>65</td>\n",
       "      <td>65</td>\n",
       "    </tr>\n",
       "    <tr>\n",
       "      <th>1</th>\n",
       "      <td>female</td>\n",
       "      <td>group D</td>\n",
       "      <td>some high school</td>\n",
       "      <td>free/reduced</td>\n",
       "      <td>none</td>\n",
       "      <td>40</td>\n",
       "      <td>59</td>\n",
       "      <td>55</td>\n",
       "      <td>51</td>\n",
       "      <td>57</td>\n",
       "    </tr>\n",
       "    <tr>\n",
       "      <th>2</th>\n",
       "      <td>male</td>\n",
       "      <td>group E</td>\n",
       "      <td>some college</td>\n",
       "      <td>free/reduced</td>\n",
       "      <td>none</td>\n",
       "      <td>59</td>\n",
       "      <td>60</td>\n",
       "      <td>50</td>\n",
       "      <td>56</td>\n",
       "      <td>55</td>\n",
       "    </tr>\n",
       "    <tr>\n",
       "      <th>3</th>\n",
       "      <td>male</td>\n",
       "      <td>group B</td>\n",
       "      <td>high school</td>\n",
       "      <td>standard</td>\n",
       "      <td>none</td>\n",
       "      <td>77</td>\n",
       "      <td>78</td>\n",
       "      <td>68</td>\n",
       "      <td>74</td>\n",
       "      <td>73</td>\n",
       "    </tr>\n",
       "    <tr>\n",
       "      <th>4</th>\n",
       "      <td>male</td>\n",
       "      <td>group E</td>\n",
       "      <td>associate's degree</td>\n",
       "      <td>standard</td>\n",
       "      <td>completed</td>\n",
       "      <td>78</td>\n",
       "      <td>73</td>\n",
       "      <td>68</td>\n",
       "      <td>73</td>\n",
       "      <td>70</td>\n",
       "    </tr>\n",
       "  </tbody>\n",
       "</table>\n",
       "</div>"
      ],
      "text/plain": [
       "   gender ethnicity  parental_education lunch_program test_preparation_course  \\\n",
       "0    male   group A         high school      standard               completed   \n",
       "1  female   group D    some high school  free/reduced                    none   \n",
       "2    male   group E        some college  free/reduced                    none   \n",
       "3    male   group B         high school      standard                    none   \n",
       "4    male   group E  associate's degree      standard               completed   \n",
       "\n",
       "   math_score  reading_score  writing_score  average_score  literacy_score  \n",
       "0          67             67             63             65              65  \n",
       "1          40             59             55             51              57  \n",
       "2          59             60             50             56              55  \n",
       "3          77             78             68             74              73  \n",
       "4          78             73             68             73              70  "
      ]
     },
     "execution_count": 5,
     "metadata": {},
     "output_type": "execute_result"
    }
   ],
   "source": [
    "import pandas as pd\n",
    "df = pd.read_csv('outputs/datasets/collection/student-exam-results.csv')\n",
    "df.head()"
   ]
  },
  {
   "cell_type": "markdown",
   "metadata": {},
   "source": [
    "Now we create three different sets"
   ]
  },
  {
   "cell_type": "code",
   "execution_count": 6,
   "metadata": {},
   "outputs": [
    {
     "data": {
      "text/html": [
       "<div>\n",
       "<style scoped>\n",
       "    .dataframe tbody tr th:only-of-type {\n",
       "        vertical-align: middle;\n",
       "    }\n",
       "\n",
       "    .dataframe tbody tr th {\n",
       "        vertical-align: top;\n",
       "    }\n",
       "\n",
       "    .dataframe thead th {\n",
       "        text-align: right;\n",
       "    }\n",
       "</style>\n",
       "<table border=\"1\" class=\"dataframe\">\n",
       "  <thead>\n",
       "    <tr style=\"text-align: right;\">\n",
       "      <th></th>\n",
       "      <th>gender</th>\n",
       "      <th>ethnicity</th>\n",
       "      <th>parental_education</th>\n",
       "      <th>lunch_program</th>\n",
       "      <th>test_preparation_course</th>\n",
       "      <th>math_score</th>\n",
       "    </tr>\n",
       "  </thead>\n",
       "  <tbody>\n",
       "    <tr>\n",
       "      <th>0</th>\n",
       "      <td>male</td>\n",
       "      <td>group A</td>\n",
       "      <td>high school</td>\n",
       "      <td>standard</td>\n",
       "      <td>completed</td>\n",
       "      <td>67</td>\n",
       "    </tr>\n",
       "    <tr>\n",
       "      <th>1</th>\n",
       "      <td>female</td>\n",
       "      <td>group D</td>\n",
       "      <td>some high school</td>\n",
       "      <td>free/reduced</td>\n",
       "      <td>none</td>\n",
       "      <td>40</td>\n",
       "    </tr>\n",
       "    <tr>\n",
       "      <th>2</th>\n",
       "      <td>male</td>\n",
       "      <td>group E</td>\n",
       "      <td>some college</td>\n",
       "      <td>free/reduced</td>\n",
       "      <td>none</td>\n",
       "      <td>59</td>\n",
       "    </tr>\n",
       "    <tr>\n",
       "      <th>3</th>\n",
       "      <td>male</td>\n",
       "      <td>group B</td>\n",
       "      <td>high school</td>\n",
       "      <td>standard</td>\n",
       "      <td>none</td>\n",
       "      <td>77</td>\n",
       "    </tr>\n",
       "    <tr>\n",
       "      <th>4</th>\n",
       "      <td>male</td>\n",
       "      <td>group E</td>\n",
       "      <td>associate's degree</td>\n",
       "      <td>standard</td>\n",
       "      <td>completed</td>\n",
       "      <td>78</td>\n",
       "    </tr>\n",
       "  </tbody>\n",
       "</table>\n",
       "</div>"
      ],
      "text/plain": [
       "   gender ethnicity  parental_education lunch_program test_preparation_course  \\\n",
       "0    male   group A         high school      standard               completed   \n",
       "1  female   group D    some high school  free/reduced                    none   \n",
       "2    male   group E        some college  free/reduced                    none   \n",
       "3    male   group B         high school      standard                    none   \n",
       "4    male   group E  associate's degree      standard               completed   \n",
       "\n",
       "   math_score  \n",
       "0          67  \n",
       "1          40  \n",
       "2          59  \n",
       "3          77  \n",
       "4          78  "
      ]
     },
     "execution_count": 6,
     "metadata": {},
     "output_type": "execute_result"
    }
   ],
   "source": [
    "df_math_score = df.drop(['reading_score', 'writing_score', 'average_score', 'literacy_score'], axis=1)\n",
    "df_math_score.head()"
   ]
  },
  {
   "cell_type": "code",
   "execution_count": 7,
   "metadata": {},
   "outputs": [
    {
     "data": {
      "text/html": [
       "<div>\n",
       "<style scoped>\n",
       "    .dataframe tbody tr th:only-of-type {\n",
       "        vertical-align: middle;\n",
       "    }\n",
       "\n",
       "    .dataframe tbody tr th {\n",
       "        vertical-align: top;\n",
       "    }\n",
       "\n",
       "    .dataframe thead th {\n",
       "        text-align: right;\n",
       "    }\n",
       "</style>\n",
       "<table border=\"1\" class=\"dataframe\">\n",
       "  <thead>\n",
       "    <tr style=\"text-align: right;\">\n",
       "      <th></th>\n",
       "      <th>gender</th>\n",
       "      <th>ethnicity</th>\n",
       "      <th>parental_education</th>\n",
       "      <th>lunch_program</th>\n",
       "      <th>test_preparation_course</th>\n",
       "      <th>reading_score</th>\n",
       "    </tr>\n",
       "  </thead>\n",
       "  <tbody>\n",
       "    <tr>\n",
       "      <th>0</th>\n",
       "      <td>male</td>\n",
       "      <td>group A</td>\n",
       "      <td>high school</td>\n",
       "      <td>standard</td>\n",
       "      <td>completed</td>\n",
       "      <td>67</td>\n",
       "    </tr>\n",
       "    <tr>\n",
       "      <th>1</th>\n",
       "      <td>female</td>\n",
       "      <td>group D</td>\n",
       "      <td>some high school</td>\n",
       "      <td>free/reduced</td>\n",
       "      <td>none</td>\n",
       "      <td>59</td>\n",
       "    </tr>\n",
       "    <tr>\n",
       "      <th>2</th>\n",
       "      <td>male</td>\n",
       "      <td>group E</td>\n",
       "      <td>some college</td>\n",
       "      <td>free/reduced</td>\n",
       "      <td>none</td>\n",
       "      <td>60</td>\n",
       "    </tr>\n",
       "    <tr>\n",
       "      <th>3</th>\n",
       "      <td>male</td>\n",
       "      <td>group B</td>\n",
       "      <td>high school</td>\n",
       "      <td>standard</td>\n",
       "      <td>none</td>\n",
       "      <td>78</td>\n",
       "    </tr>\n",
       "    <tr>\n",
       "      <th>4</th>\n",
       "      <td>male</td>\n",
       "      <td>group E</td>\n",
       "      <td>associate's degree</td>\n",
       "      <td>standard</td>\n",
       "      <td>completed</td>\n",
       "      <td>73</td>\n",
       "    </tr>\n",
       "  </tbody>\n",
       "</table>\n",
       "</div>"
      ],
      "text/plain": [
       "   gender ethnicity  parental_education lunch_program test_preparation_course  \\\n",
       "0    male   group A         high school      standard               completed   \n",
       "1  female   group D    some high school  free/reduced                    none   \n",
       "2    male   group E        some college  free/reduced                    none   \n",
       "3    male   group B         high school      standard                    none   \n",
       "4    male   group E  associate's degree      standard               completed   \n",
       "\n",
       "   reading_score  \n",
       "0             67  \n",
       "1             59  \n",
       "2             60  \n",
       "3             78  \n",
       "4             73  "
      ]
     },
     "execution_count": 7,
     "metadata": {},
     "output_type": "execute_result"
    }
   ],
   "source": [
    "df_reading_score = df.drop(['math_score', 'writing_score', 'average_score', 'literacy_score'], axis=1)\n",
    "df_reading_score.head()"
   ]
  },
  {
   "cell_type": "code",
   "execution_count": 8,
   "metadata": {},
   "outputs": [
    {
     "data": {
      "text/html": [
       "<div>\n",
       "<style scoped>\n",
       "    .dataframe tbody tr th:only-of-type {\n",
       "        vertical-align: middle;\n",
       "    }\n",
       "\n",
       "    .dataframe tbody tr th {\n",
       "        vertical-align: top;\n",
       "    }\n",
       "\n",
       "    .dataframe thead th {\n",
       "        text-align: right;\n",
       "    }\n",
       "</style>\n",
       "<table border=\"1\" class=\"dataframe\">\n",
       "  <thead>\n",
       "    <tr style=\"text-align: right;\">\n",
       "      <th></th>\n",
       "      <th>gender</th>\n",
       "      <th>ethnicity</th>\n",
       "      <th>parental_education</th>\n",
       "      <th>lunch_program</th>\n",
       "      <th>test_preparation_course</th>\n",
       "      <th>writing_score</th>\n",
       "    </tr>\n",
       "  </thead>\n",
       "  <tbody>\n",
       "    <tr>\n",
       "      <th>0</th>\n",
       "      <td>male</td>\n",
       "      <td>group A</td>\n",
       "      <td>high school</td>\n",
       "      <td>standard</td>\n",
       "      <td>completed</td>\n",
       "      <td>63</td>\n",
       "    </tr>\n",
       "    <tr>\n",
       "      <th>1</th>\n",
       "      <td>female</td>\n",
       "      <td>group D</td>\n",
       "      <td>some high school</td>\n",
       "      <td>free/reduced</td>\n",
       "      <td>none</td>\n",
       "      <td>55</td>\n",
       "    </tr>\n",
       "    <tr>\n",
       "      <th>2</th>\n",
       "      <td>male</td>\n",
       "      <td>group E</td>\n",
       "      <td>some college</td>\n",
       "      <td>free/reduced</td>\n",
       "      <td>none</td>\n",
       "      <td>50</td>\n",
       "    </tr>\n",
       "    <tr>\n",
       "      <th>3</th>\n",
       "      <td>male</td>\n",
       "      <td>group B</td>\n",
       "      <td>high school</td>\n",
       "      <td>standard</td>\n",
       "      <td>none</td>\n",
       "      <td>68</td>\n",
       "    </tr>\n",
       "    <tr>\n",
       "      <th>4</th>\n",
       "      <td>male</td>\n",
       "      <td>group E</td>\n",
       "      <td>associate's degree</td>\n",
       "      <td>standard</td>\n",
       "      <td>completed</td>\n",
       "      <td>68</td>\n",
       "    </tr>\n",
       "  </tbody>\n",
       "</table>\n",
       "</div>"
      ],
      "text/plain": [
       "   gender ethnicity  parental_education lunch_program test_preparation_course  \\\n",
       "0    male   group A         high school      standard               completed   \n",
       "1  female   group D    some high school  free/reduced                    none   \n",
       "2    male   group E        some college  free/reduced                    none   \n",
       "3    male   group B         high school      standard                    none   \n",
       "4    male   group E  associate's degree      standard               completed   \n",
       "\n",
       "   writing_score  \n",
       "0             63  \n",
       "1             55  \n",
       "2             50  \n",
       "3             68  \n",
       "4             68  "
      ]
     },
     "execution_count": 8,
     "metadata": {},
     "output_type": "execute_result"
    }
   ],
   "source": [
    "df_writing_score = df.drop(['math_score', 'reading_score', 'average_score', 'literacy_score'], axis=1)\n",
    "df_writing_score.head()"
   ]
  },
  {
   "cell_type": "markdown",
   "metadata": {},
   "source": [
    "### Math Score\n",
    "\n",
    "Now we can create split these datasets to form train and test sets. First, we import the train_test_split package."
   ]
  },
  {
   "cell_type": "code",
   "execution_count": 9,
   "metadata": {},
   "outputs": [],
   "source": [
    "from sklearn.model_selection import train_test_split"
   ]
  },
  {
   "cell_type": "code",
   "execution_count": 10,
   "metadata": {},
   "outputs": [],
   "source": [
    "math_train_vars, math_test_vars, math_train_score, math_test_score = train_test_split(\n",
    "    df_math_score.drop(['math_score'], axis=1),\n",
    "    df_math_score['math_score'],\n",
    "    test_size = 0.2,\n",
    "    random_state = 7\n",
    ")"
   ]
  },
  {
   "cell_type": "markdown",
   "metadata": {},
   "source": [
    "Now we check to see if this has worked:"
   ]
  },
  {
   "cell_type": "code",
   "execution_count": 11,
   "metadata": {},
   "outputs": [
    {
     "name": "stdout",
     "output_type": "stream",
     "text": [
      "math_train_vars: (800, 5)\n",
      "math_test_vars: (200, 5)\n",
      "math_train_score: (800,)\n",
      "math_test_score: (200,)\n"
     ]
    }
   ],
   "source": [
    "print(f\"math_train_vars: {math_train_vars.shape}\")\n",
    "print(f\"math_test_vars: {math_test_vars.shape}\")\n",
    "print(f\"math_train_score: {math_train_score.shape}\")\n",
    "print(f\"math_test_score: {math_test_score.shape}\")\n"
   ]
  },
  {
   "cell_type": "code",
   "execution_count": 12,
   "metadata": {},
   "outputs": [
    {
     "data": {
      "text/plain": [
       "600    40\n",
       "80     46\n",
       "158    82\n",
       "423    77\n",
       "747    77\n",
       "       ..\n",
       "579    47\n",
       "502    71\n",
       "537    60\n",
       "196    50\n",
       "175    50\n",
       "Name: math_score, Length: 800, dtype: int64"
      ]
     },
     "execution_count": 12,
     "metadata": {},
     "output_type": "execute_result"
    }
   ],
   "source": [
    "math_train_score"
   ]
  },
  {
   "cell_type": "markdown",
   "metadata": {},
   "source": [
    "Excellent - we see that the math_train_vars and math_train_score datasets both have 800 entries, equivalent to 80% of the original 1000 record dataset. We also see that the math_test_vars and math_test_score datasets both have 200 entries, equivalent to 20% of the original 1000 record dataset. For good measure, we will inspect the dataframes and series below:"
   ]
  },
  {
   "cell_type": "code",
   "execution_count": null,
   "metadata": {},
   "outputs": [],
   "source": [
    "math_train_vars"
   ]
  },
  {
   "cell_type": "code",
   "execution_count": null,
   "metadata": {},
   "outputs": [],
   "source": [
    "math_test_vars"
   ]
  },
  {
   "cell_type": "code",
   "execution_count": null,
   "metadata": {},
   "outputs": [],
   "source": [
    "math_train_score"
   ]
  },
  {
   "cell_type": "code",
   "execution_count": null,
   "metadata": {},
   "outputs": [],
   "source": [
    "math_test_score"
   ]
  },
  {
   "cell_type": "markdown",
   "metadata": {},
   "source": [
    "Upon inspection, we see that the data has also been randomised."
   ]
  },
  {
   "cell_type": "markdown",
   "metadata": {},
   "source": [
    "### Reading Score\n",
    "\n",
    "We will now do the same with the reading_score variable"
   ]
  },
  {
   "cell_type": "code",
   "execution_count": null,
   "metadata": {},
   "outputs": [],
   "source": [
    "reading_train_vars, reading_test_vars, reading_train_score, reading_test_score = train_test_split(\n",
    "    df_reading_score.drop(['reading_score'], axis=1),\n",
    "    df_reading_score['reading_score'],\n",
    "    test_size = 0.2,\n",
    "    random_state = 7\n",
    ")"
   ]
  },
  {
   "cell_type": "markdown",
   "metadata": {},
   "source": [
    "Now we check to see if these have been created properly"
   ]
  },
  {
   "cell_type": "code",
   "execution_count": null,
   "metadata": {},
   "outputs": [],
   "source": [
    "print(f\"reading_train_vars: {reading_train_vars.shape}\")\n",
    "print(f\"reading_test_vars: {reading_test_vars.shape}\")\n",
    "print(f\"reading_train_score: {reading_train_score.shape}\")\n",
    "print(f\"reading_test_score: {reading_test_score.shape}\")"
   ]
  },
  {
   "cell_type": "markdown",
   "metadata": {},
   "source": [
    "Excellent - 800 records for the train set and 200 records for the test set. Since we have used the same random state, we can be assured that the data has been randomised"
   ]
  },
  {
   "cell_type": "markdown",
   "metadata": {},
   "source": [
    "### Writing Score\n",
    "\n",
    "Finally, we split the writing_score dataset"
   ]
  },
  {
   "cell_type": "code",
   "execution_count": null,
   "metadata": {},
   "outputs": [],
   "source": [
    "writing_train_vars, writing_test_vars, writing_train_score, writing_test_score = train_test_split(\n",
    "    df_writing_score.drop(['writing_score'], axis=1),\n",
    "    df_writing_score['writing_score'],\n",
    "    test_size = 0.2,\n",
    "    random_state = 7\n",
    ")"
   ]
  },
  {
   "cell_type": "code",
   "execution_count": null,
   "metadata": {},
   "outputs": [],
   "source": [
    "print(f\"writing_train_vars: {writing_train_vars.shape}\")\n",
    "print(f\"writing_test_vars: {writing_test_vars.shape}\")\n",
    "print(f\"writing_train_score: {writing_train_score.shape}\")\n",
    "print(f\"writing_test_score: {writing_test_score.shape}\")"
   ]
  },
  {
   "cell_type": "markdown",
   "metadata": {},
   "source": [
    "As before, we have 800 records for the train set and 200 for the test set"
   ]
  },
  {
   "cell_type": "markdown",
   "metadata": {},
   "source": [
    "### Save files\n",
    "\n",
    "We can now save these various datasets as CSV files in the outputs folder. First, we'll create the necessary folders:"
   ]
  },
  {
   "cell_type": "code",
   "execution_count": null,
   "metadata": {},
   "outputs": [],
   "source": [
    "import os\n",
    "try:\n",
    "    ! rm -r outputs/datasets/filtered\n",
    "    ! rm -r outputs/datasets/split\n",
    "    os.makedirs(name='outputs/datasets/filtered')\n",
    "    print('directory outputs/datasets/filtered created')\n",
    "    os.makedirs(name='outputs/datasets/split')\n",
    "    print('directory outputs/datasets/split created')\n",
    "except Exception as e:\n",
    "    print(e)"
   ]
  },
  {
   "cell_type": "markdown",
   "metadata": {},
   "source": [
    "Now we save the filtered datasets, before any splitting happens"
   ]
  },
  {
   "cell_type": "code",
   "execution_count": null,
   "metadata": {},
   "outputs": [],
   "source": [
    "! rm outputs/datasets/filtered/math-score-dataset.csv\n",
    "df_math_score.to_csv(\"outputs/datasets/filtered/math-score-dataset.csv\", index=False)\n",
    "print('math-score-dataset.csv created in outputs/datasets/filtered')"
   ]
  },
  {
   "cell_type": "code",
   "execution_count": null,
   "metadata": {},
   "outputs": [],
   "source": [
    "! rm outputs/datasets/filtered/reading-score-dataset.csv\n",
    "df_reading_score.to_csv(\"outputs/datasets/filtered/reading-score-dataset.csv\", index=False)\n",
    "print('reading-score-dataset.csv created in outputs/datasets/filtered')"
   ]
  },
  {
   "cell_type": "code",
   "execution_count": null,
   "metadata": {},
   "outputs": [],
   "source": [
    "! rm outputs/datasets/filtered/writing-score-dataset.csv\n",
    "df_writing_score.to_csv(\"outputs/datasets/filtered/writing-score-dataset.csv\", index=False)\n",
    "print('writing-score-dataset.csv created in outputs/datasets/filtered')"
   ]
  },
  {
   "cell_type": "markdown",
   "metadata": {},
   "source": [
    "Now we can save the split datasets"
   ]
  },
  {
   "cell_type": "code",
   "execution_count": null,
   "metadata": {},
   "outputs": [],
   "source": [
    "try:\n",
    "    \n",
    "    ! rm -r outputs/datasets/split/math\n",
    "    ! rm -r outputs/datasets/split/reading\n",
    "    ! rm -r outputs/datasets/split/writing\n",
    "    os.makedirs(name='outputs/datasets/split/math')\n",
    "    print('directory outputs/datasets/split/math created')\n",
    "    os.makedirs(name='outputs/datasets/split/reading')\n",
    "    print('directory outputs/datasets/split/reading created')\n",
    "    os.makedirs(name='outputs/datasets/split/writing')\n",
    "    print('directory outputs/datasets/split/writing created')\n",
    "except Exception as e:\n",
    "    print(e)"
   ]
  },
  {
   "cell_type": "code",
   "execution_count": null,
   "metadata": {},
   "outputs": [],
   "source": [
    "! rm outputs/datasets/split/math/math-train-vars.csv\n",
    "math_train_vars.to_csv(\"outputs/datasets/split/math/math-train-vars.csv\", index=False)\n",
    "print('math-train-vars.csv created in outputs/datasets/split/math')\n",
    "\n",
    "! rm outputs/datasets/split/math/math-test-vars.csv\n",
    "math_test_vars.to_csv(\"outputs/datasets/split/math/math-test-vars.csv\", index=False)\n",
    "print('math-test-vars.csv created in outputs/datasets/split/math')\n",
    "\n",
    "! rm outputs/datasets/split/math/math-train-score.csv\n",
    "math_train_score.to_csv(\"outputs/datasets/split/math/math-train-score.csv\", index=False)\n",
    "print('math-train-score.csv created in outputs/datasets/split/math')\n",
    "\n",
    "! rm outputs/datasets/split/math/math-test-score.csv\n",
    "math_test_score.to_csv(\"outputs/datasets/split/math/math-test-score.csv\", index=False)\n",
    "print('math-test-score.csv created in outputs/datasets/split/math')"
   ]
  },
  {
   "cell_type": "code",
   "execution_count": null,
   "metadata": {},
   "outputs": [],
   "source": [
    "! rm outputs/datasets/split/reading/reading-train-vars.csv\n",
    "reading_train_vars.to_csv(\"outputs/datasets/split/reading/reading-train-vars.csv\", index=False)\n",
    "print('reading-train-vars.csv created in outputs/datasets/split/reading')\n",
    "\n",
    "! rm outputs/datasets/split/reading/reading-test-vars.csv\n",
    "reading_test_vars.to_csv(\"outputs/datasets/split/reading/reading-test-vars.csv\", index=False)\n",
    "print('math-test-vars.csv created in outputs/datasets/split/math')\n",
    "\n",
    "! rm outputs/datasets/split/reading/reading-train-score.csv\n",
    "reading_train_score.to_csv(\"outputs/datasets/split/reading/reading-train-score.csv\", index=False)\n",
    "print('reading-train-score.csv created in outputs/datasets/split/reading')\n",
    "\n",
    "! rm outputs/datasets/split/reading/reading-test-score.csv\n",
    "reading_test_score.to_csv(\"outputs/datasets/split/reading/reading-test-score.csv\", index=False)\n",
    "print('reading-test-score.csv created in outputs/datasets/split/reading')"
   ]
  },
  {
   "cell_type": "code",
   "execution_count": null,
   "metadata": {},
   "outputs": [],
   "source": [
    "! rm outputs/datasets/split/writing/writing-train-vars.csv\n",
    "writing_train_vars.to_csv(\"outputs/datasets/split/writing/writing-train-vars.csv\", index=False)\n",
    "print('writing-train-vars.csv created in outputs/datasets/split/writing')\n",
    "\n",
    "! rm outputs/datasets/split/writing/writing-test-vars.csv\n",
    "writing_test_vars.to_csv(\"outputs/datasets/split/writing/writing-test-vars.csv\", index=False)\n",
    "print('writing-test-vars.csv created in outputs/datasets/split/writing')\n",
    "\n",
    "! rm outputs/datasets/split/writing/writing-train-score.csv\n",
    "writing_train_score.to_csv(\"outputs/datasets/split/writing/writing-train-score.csv\", index=False)\n",
    "print('writing-train-score.csv created in outputs/datasets/split/writing')\n",
    "\n",
    "! rm outputs/datasets/split/writing/writing-test-score.csv\n",
    "writing_test_score.to_csv(\"outputs/datasets/split/writing/writing-test-score.csv\", index=False)\n",
    "print('writing-test-score.csv created in outputs/datasets/split/writing')"
   ]
  },
  {
   "cell_type": "markdown",
   "metadata": {},
   "source": [
    "## Smart Correlated Selection\n",
    "\n",
    "Though we have already identified some correlations between the feature variables, we should conduct a smart correlated selection analysis to see if we need to include a smart correlated selection step in the pipeline. We will need to encode the categorical variables. First, we import the OrdinalEncoder and the SmartCorrelatedSelection method:"
   ]
  },
  {
   "cell_type": "code",
   "execution_count": null,
   "metadata": {},
   "outputs": [],
   "source": [
    "from feature_engine.encoding import OrdinalEncoder\n",
    "from feature_engine.selection import SmartCorrelatedSelection"
   ]
  },
  {
   "cell_type": "markdown",
   "metadata": {},
   "source": [
    "Now we can encode our categorical variables"
   ]
  },
  {
   "cell_type": "code",
   "execution_count": null,
   "metadata": {},
   "outputs": [],
   "source": [
    "variables_to_encode = ['gender', 'ethnicity', 'parental_education', 'lunch_program', 'test_preparation_course']\n",
    "\n",
    "encoder = OrdinalEncoder(encoding_method='arbitrary', variables = variables_to_encode)\n",
    "\n",
    "df_math_score_encoded = encoder.fit_transform(df_math_score)\n",
    "df_reading_score_encoded = encoder.fit_transform(df_reading_score)\n",
    "df_writing_score_encoded = encoder.fit_transform(df_writing_score)"
   ]
  },
  {
   "cell_type": "markdown",
   "metadata": {},
   "source": [
    "Now we check to see if the datasets have been encoded properly"
   ]
  },
  {
   "cell_type": "code",
   "execution_count": null,
   "metadata": {},
   "outputs": [],
   "source": [
    "df_math_score_encoded.head()"
   ]
  },
  {
   "cell_type": "code",
   "execution_count": null,
   "metadata": {},
   "outputs": [],
   "source": [
    "df_reading_score_encoded.head()"
   ]
  },
  {
   "cell_type": "code",
   "execution_count": null,
   "metadata": {},
   "outputs": [],
   "source": [
    "df_writing_score_encoded.head()"
   ]
  },
  {
   "cell_type": "markdown",
   "metadata": {},
   "source": [
    "Excellent - looks like the datasets have been encoded identically"
   ]
  },
  {
   "cell_type": "code",
   "execution_count": null,
   "metadata": {},
   "outputs": [],
   "source": [
    "# encoder = OrdinalEncoder(encoding_method='arbitrary', variables = variables_engineering)\n",
    "# TrainSet = encoder.fit_transform(TrainSet)\n",
    "# TestSet = encoder.transform(TestSet)\n",
    "\n",
    "# print(\"* Categorical encoding - ordinal transformation done!\")"
   ]
  },
  {
   "cell_type": "markdown",
   "metadata": {},
   "source": [
    "### Smart correlated selection - maths"
   ]
  },
  {
   "cell_type": "code",
   "execution_count": null,
   "metadata": {},
   "outputs": [],
   "source": [
    "correlated_selection_maths = SmartCorrelatedSelection(variables=None, method=\"spearman\", threshold=0.6, selection_method=\"variance\")\n",
    "\n",
    "correlated_selection_maths.fit_transform(df_math_score_encoded)\n",
    "correlated_selection_maths.correlated_feature_sets_"
   ]
  },
  {
   "cell_type": "code",
   "execution_count": null,
   "metadata": {},
   "outputs": [],
   "source": [
    "correlated_selection_maths.features_to_drop_"
   ]
  },
  {
   "cell_type": "markdown",
   "metadata": {},
   "source": [
    "Interesting - looks like the smart correlated selection method has identified that all of the categorical variables are sufficiently uncorrelated that none should be dropped. This should hold true for the reading and writing datasets, but we should check just to be safe."
   ]
  },
  {
   "cell_type": "markdown",
   "metadata": {},
   "source": [
    "### Smart correlated selection - reading\n"
   ]
  },
  {
   "cell_type": "code",
   "execution_count": null,
   "metadata": {},
   "outputs": [],
   "source": [
    "correlated_selection_reading = SmartCorrelatedSelection(variables=None, method=\"spearman\", threshold=0.6, selection_method=\"variance\")\n",
    "\n",
    "correlated_selection_reading.fit_transform(df_reading_score_encoded)\n",
    "correlated_selection_reading.correlated_feature_sets_"
   ]
  },
  {
   "cell_type": "code",
   "execution_count": null,
   "metadata": {},
   "outputs": [],
   "source": [
    "correlated_selection_reading.features_to_drop_"
   ]
  },
  {
   "cell_type": "markdown",
   "metadata": {},
   "source": [
    "### Smart correlated selection - writing\n"
   ]
  },
  {
   "cell_type": "code",
   "execution_count": null,
   "metadata": {},
   "outputs": [],
   "source": [
    "correlated_selection_writing = SmartCorrelatedSelection(variables=None, method=\"spearman\", threshold=0.6, selection_method=\"variance\")\n",
    "\n",
    "correlated_selection_writing.fit_transform(df_writing_score_encoded)\n",
    "correlated_selection_writing.correlated_feature_sets_"
   ]
  },
  {
   "cell_type": "code",
   "execution_count": null,
   "metadata": {},
   "outputs": [],
   "source": [
    "correlated_selection_writing.features_to_drop_"
   ]
  },
  {
   "cell_type": "markdown",
   "metadata": {},
   "source": [
    "As expected - in all three cases, none of the categorical variables are sufficiently correlated that using them will risk overfitting the model. Therefore, we can safely forego a SmartCorrelatedSelection step in our pipeline."
   ]
  }
 ],
 "metadata": {
  "kernelspec": {
   "display_name": "Python 3",
   "language": "python",
   "name": "python3"
  },
  "language_info": {
   "codemirror_mode": {
    "name": "ipython",
    "version": 3
   },
   "file_extension": ".py",
   "mimetype": "text/x-python",
   "name": "python",
   "nbconvert_exporter": "python",
   "pygments_lexer": "ipython3",
   "version": "3.8.11"
  },
  "orig_nbformat": 4,
  "vscode": {
   "interpreter": {
    "hash": "03672d1d5ffbbadc3038e50358243ff6e1c939c705228639babab7898b4f75b3"
   }
  }
 },
 "nbformat": 4,
 "nbformat_minor": 2
}
