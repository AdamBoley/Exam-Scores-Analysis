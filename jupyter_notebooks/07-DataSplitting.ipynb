{
 "cells": [
  {
   "cell_type": "markdown",
   "metadata": {},
   "source": [
    "# **Data Splitting**"
   ]
  },
  {
   "cell_type": "markdown",
   "metadata": {},
   "source": [
    "## Objectives\n",
    "- Split the dataset into train and test sets for each of the maths, writing and reading exam scores, so that models can be trained to predict each exam score"
   ]
  },
  {
   "cell_type": "markdown",
   "metadata": {},
   "source": [
    "## Inputs\n",
    "- outputs/datasets/collection/student-exam-results.csv"
   ]
  },
  {
   "cell_type": "markdown",
   "metadata": {},
   "source": [
    "## Outputs\n",
    "- train and test sets for each of the math_score, reading_score and writing_score variables"
   ]
  },
  {
   "cell_type": "markdown",
   "metadata": {},
   "source": [
    "## Additional comments"
   ]
  },
  {
   "cell_type": "markdown",
   "metadata": {},
   "source": [
    "# Change working directory"
   ]
  },
  {
   "cell_type": "markdown",
   "metadata": {},
   "source": [
    "Since this notebook exists in the jupyter_notebooks directory, we need to change the current working directory from the jupyter_notebooks directory to the workspace, so that any directories created in further codes cells are added in the correct place. \n",
    "\n",
    "We access the current directory with the OS packages' `getcwd()` method"
   ]
  },
  {
   "cell_type": "code",
   "execution_count": 1,
   "metadata": {},
   "outputs": [
    {
     "data": {
      "text/plain": [
       "'/workspace/Exam-Scores-Analysis/jupyter_notebooks'"
      ]
     },
     "execution_count": 1,
     "metadata": {},
     "output_type": "execute_result"
    }
   ],
   "source": [
    "import os\n",
    "current_directory = os.getcwd()\n",
    "current_directory\n"
   ]
  },
  {
   "cell_type": "markdown",
   "metadata": {},
   "source": [
    "We now want to set the working directory as the parent of the current working directory, jupyter_notebooks\n",
    "\n",
    "- The `os.path.dirname()` method gets the parent directory\n",
    "- The `os.chir()` method defines the new current directory\n",
    "- We do this to access all of the project's files and directories, rather than those in the jupyter_notebooks directory"
   ]
  },
  {
   "cell_type": "code",
   "execution_count": 2,
   "metadata": {},
   "outputs": [
    {
     "name": "stdout",
     "output_type": "stream",
     "text": [
      "You set a new current directory\n"
     ]
    }
   ],
   "source": [
    "os.chdir(os.path.dirname(current_directory))\n",
    "print(\"You set a new current directory\")"
   ]
  },
  {
   "cell_type": "markdown",
   "metadata": {},
   "source": [
    "To make certain of things, we now use a code cell to confirm that we have set the current working directory properly"
   ]
  },
  {
   "cell_type": "code",
   "execution_count": 3,
   "metadata": {},
   "outputs": [
    {
     "data": {
      "text/plain": [
       "'/workspace/Exam-Scores-Analysis'"
      ]
     },
     "execution_count": 3,
     "metadata": {},
     "output_type": "execute_result"
    }
   ],
   "source": [
    "current_directory = os.getcwd()\n",
    "current_directory"
   ]
  },
  {
   "cell_type": "markdown",
   "metadata": {},
   "source": [
    "## Load data"
   ]
  },
  {
   "cell_type": "code",
   "execution_count": 4,
   "metadata": {},
   "outputs": [
    {
     "data": {
      "text/html": [
       "<div>\n",
       "<style scoped>\n",
       "    .dataframe tbody tr th:only-of-type {\n",
       "        vertical-align: middle;\n",
       "    }\n",
       "\n",
       "    .dataframe tbody tr th {\n",
       "        vertical-align: top;\n",
       "    }\n",
       "\n",
       "    .dataframe thead th {\n",
       "        text-align: right;\n",
       "    }\n",
       "</style>\n",
       "<table border=\"1\" class=\"dataframe\">\n",
       "  <thead>\n",
       "    <tr style=\"text-align: right;\">\n",
       "      <th></th>\n",
       "      <th>gender</th>\n",
       "      <th>ethnicity</th>\n",
       "      <th>parental_education</th>\n",
       "      <th>lunch_program</th>\n",
       "      <th>test_preparation_course</th>\n",
       "      <th>math_score</th>\n",
       "      <th>reading_score</th>\n",
       "      <th>writing_score</th>\n",
       "      <th>average_score</th>\n",
       "      <th>literacy_score</th>\n",
       "    </tr>\n",
       "  </thead>\n",
       "  <tbody>\n",
       "    <tr>\n",
       "      <th>0</th>\n",
       "      <td>male</td>\n",
       "      <td>group A</td>\n",
       "      <td>high school</td>\n",
       "      <td>standard</td>\n",
       "      <td>completed</td>\n",
       "      <td>67</td>\n",
       "      <td>67</td>\n",
       "      <td>63</td>\n",
       "      <td>65</td>\n",
       "      <td>65</td>\n",
       "    </tr>\n",
       "    <tr>\n",
       "      <th>1</th>\n",
       "      <td>female</td>\n",
       "      <td>group D</td>\n",
       "      <td>some high school</td>\n",
       "      <td>free/reduced</td>\n",
       "      <td>none</td>\n",
       "      <td>40</td>\n",
       "      <td>59</td>\n",
       "      <td>55</td>\n",
       "      <td>51</td>\n",
       "      <td>57</td>\n",
       "    </tr>\n",
       "    <tr>\n",
       "      <th>2</th>\n",
       "      <td>male</td>\n",
       "      <td>group E</td>\n",
       "      <td>some college</td>\n",
       "      <td>free/reduced</td>\n",
       "      <td>none</td>\n",
       "      <td>59</td>\n",
       "      <td>60</td>\n",
       "      <td>50</td>\n",
       "      <td>56</td>\n",
       "      <td>55</td>\n",
       "    </tr>\n",
       "    <tr>\n",
       "      <th>3</th>\n",
       "      <td>male</td>\n",
       "      <td>group B</td>\n",
       "      <td>high school</td>\n",
       "      <td>standard</td>\n",
       "      <td>none</td>\n",
       "      <td>77</td>\n",
       "      <td>78</td>\n",
       "      <td>68</td>\n",
       "      <td>74</td>\n",
       "      <td>73</td>\n",
       "    </tr>\n",
       "    <tr>\n",
       "      <th>4</th>\n",
       "      <td>male</td>\n",
       "      <td>group E</td>\n",
       "      <td>associate's degree</td>\n",
       "      <td>standard</td>\n",
       "      <td>completed</td>\n",
       "      <td>78</td>\n",
       "      <td>73</td>\n",
       "      <td>68</td>\n",
       "      <td>73</td>\n",
       "      <td>70</td>\n",
       "    </tr>\n",
       "  </tbody>\n",
       "</table>\n",
       "</div>"
      ],
      "text/plain": [
       "   gender ethnicity  parental_education lunch_program test_preparation_course  \\\n",
       "0    male   group A         high school      standard               completed   \n",
       "1  female   group D    some high school  free/reduced                    none   \n",
       "2    male   group E        some college  free/reduced                    none   \n",
       "3    male   group B         high school      standard                    none   \n",
       "4    male   group E  associate's degree      standard               completed   \n",
       "\n",
       "   math_score  reading_score  writing_score  average_score  literacy_score  \n",
       "0          67             67             63             65              65  \n",
       "1          40             59             55             51              57  \n",
       "2          59             60             50             56              55  \n",
       "3          77             78             68             74              73  \n",
       "4          78             73             68             73              70  "
      ]
     },
     "execution_count": 4,
     "metadata": {},
     "output_type": "execute_result"
    }
   ],
   "source": [
    "import pandas as pd\n",
    "df = pd.read_csv('outputs/datasets/collection/student-exam-results.csv')\n",
    "df.head()"
   ]
  },
  {
   "cell_type": "markdown",
   "metadata": {},
   "source": [
    "Now we create three different sets"
   ]
  },
  {
   "cell_type": "code",
   "execution_count": 5,
   "metadata": {},
   "outputs": [
    {
     "data": {
      "text/html": [
       "<div>\n",
       "<style scoped>\n",
       "    .dataframe tbody tr th:only-of-type {\n",
       "        vertical-align: middle;\n",
       "    }\n",
       "\n",
       "    .dataframe tbody tr th {\n",
       "        vertical-align: top;\n",
       "    }\n",
       "\n",
       "    .dataframe thead th {\n",
       "        text-align: right;\n",
       "    }\n",
       "</style>\n",
       "<table border=\"1\" class=\"dataframe\">\n",
       "  <thead>\n",
       "    <tr style=\"text-align: right;\">\n",
       "      <th></th>\n",
       "      <th>gender</th>\n",
       "      <th>ethnicity</th>\n",
       "      <th>parental_education</th>\n",
       "      <th>lunch_program</th>\n",
       "      <th>test_preparation_course</th>\n",
       "      <th>math_score</th>\n",
       "    </tr>\n",
       "  </thead>\n",
       "  <tbody>\n",
       "    <tr>\n",
       "      <th>0</th>\n",
       "      <td>male</td>\n",
       "      <td>group A</td>\n",
       "      <td>high school</td>\n",
       "      <td>standard</td>\n",
       "      <td>completed</td>\n",
       "      <td>67</td>\n",
       "    </tr>\n",
       "    <tr>\n",
       "      <th>1</th>\n",
       "      <td>female</td>\n",
       "      <td>group D</td>\n",
       "      <td>some high school</td>\n",
       "      <td>free/reduced</td>\n",
       "      <td>none</td>\n",
       "      <td>40</td>\n",
       "    </tr>\n",
       "    <tr>\n",
       "      <th>2</th>\n",
       "      <td>male</td>\n",
       "      <td>group E</td>\n",
       "      <td>some college</td>\n",
       "      <td>free/reduced</td>\n",
       "      <td>none</td>\n",
       "      <td>59</td>\n",
       "    </tr>\n",
       "    <tr>\n",
       "      <th>3</th>\n",
       "      <td>male</td>\n",
       "      <td>group B</td>\n",
       "      <td>high school</td>\n",
       "      <td>standard</td>\n",
       "      <td>none</td>\n",
       "      <td>77</td>\n",
       "    </tr>\n",
       "    <tr>\n",
       "      <th>4</th>\n",
       "      <td>male</td>\n",
       "      <td>group E</td>\n",
       "      <td>associate's degree</td>\n",
       "      <td>standard</td>\n",
       "      <td>completed</td>\n",
       "      <td>78</td>\n",
       "    </tr>\n",
       "  </tbody>\n",
       "</table>\n",
       "</div>"
      ],
      "text/plain": [
       "   gender ethnicity  parental_education lunch_program test_preparation_course  \\\n",
       "0    male   group A         high school      standard               completed   \n",
       "1  female   group D    some high school  free/reduced                    none   \n",
       "2    male   group E        some college  free/reduced                    none   \n",
       "3    male   group B         high school      standard                    none   \n",
       "4    male   group E  associate's degree      standard               completed   \n",
       "\n",
       "   math_score  \n",
       "0          67  \n",
       "1          40  \n",
       "2          59  \n",
       "3          77  \n",
       "4          78  "
      ]
     },
     "execution_count": 5,
     "metadata": {},
     "output_type": "execute_result"
    }
   ],
   "source": [
    "df_math_score = df.drop(['reading_score', 'writing_score', 'average_score', 'literacy_score'], axis=1)\n",
    "df_math_score.head()"
   ]
  },
  {
   "cell_type": "code",
   "execution_count": 6,
   "metadata": {},
   "outputs": [
    {
     "data": {
      "text/html": [
       "<div>\n",
       "<style scoped>\n",
       "    .dataframe tbody tr th:only-of-type {\n",
       "        vertical-align: middle;\n",
       "    }\n",
       "\n",
       "    .dataframe tbody tr th {\n",
       "        vertical-align: top;\n",
       "    }\n",
       "\n",
       "    .dataframe thead th {\n",
       "        text-align: right;\n",
       "    }\n",
       "</style>\n",
       "<table border=\"1\" class=\"dataframe\">\n",
       "  <thead>\n",
       "    <tr style=\"text-align: right;\">\n",
       "      <th></th>\n",
       "      <th>gender</th>\n",
       "      <th>ethnicity</th>\n",
       "      <th>parental_education</th>\n",
       "      <th>lunch_program</th>\n",
       "      <th>test_preparation_course</th>\n",
       "      <th>reading_score</th>\n",
       "    </tr>\n",
       "  </thead>\n",
       "  <tbody>\n",
       "    <tr>\n",
       "      <th>0</th>\n",
       "      <td>male</td>\n",
       "      <td>group A</td>\n",
       "      <td>high school</td>\n",
       "      <td>standard</td>\n",
       "      <td>completed</td>\n",
       "      <td>67</td>\n",
       "    </tr>\n",
       "    <tr>\n",
       "      <th>1</th>\n",
       "      <td>female</td>\n",
       "      <td>group D</td>\n",
       "      <td>some high school</td>\n",
       "      <td>free/reduced</td>\n",
       "      <td>none</td>\n",
       "      <td>59</td>\n",
       "    </tr>\n",
       "    <tr>\n",
       "      <th>2</th>\n",
       "      <td>male</td>\n",
       "      <td>group E</td>\n",
       "      <td>some college</td>\n",
       "      <td>free/reduced</td>\n",
       "      <td>none</td>\n",
       "      <td>60</td>\n",
       "    </tr>\n",
       "    <tr>\n",
       "      <th>3</th>\n",
       "      <td>male</td>\n",
       "      <td>group B</td>\n",
       "      <td>high school</td>\n",
       "      <td>standard</td>\n",
       "      <td>none</td>\n",
       "      <td>78</td>\n",
       "    </tr>\n",
       "    <tr>\n",
       "      <th>4</th>\n",
       "      <td>male</td>\n",
       "      <td>group E</td>\n",
       "      <td>associate's degree</td>\n",
       "      <td>standard</td>\n",
       "      <td>completed</td>\n",
       "      <td>73</td>\n",
       "    </tr>\n",
       "  </tbody>\n",
       "</table>\n",
       "</div>"
      ],
      "text/plain": [
       "   gender ethnicity  parental_education lunch_program test_preparation_course  \\\n",
       "0    male   group A         high school      standard               completed   \n",
       "1  female   group D    some high school  free/reduced                    none   \n",
       "2    male   group E        some college  free/reduced                    none   \n",
       "3    male   group B         high school      standard                    none   \n",
       "4    male   group E  associate's degree      standard               completed   \n",
       "\n",
       "   reading_score  \n",
       "0             67  \n",
       "1             59  \n",
       "2             60  \n",
       "3             78  \n",
       "4             73  "
      ]
     },
     "execution_count": 6,
     "metadata": {},
     "output_type": "execute_result"
    }
   ],
   "source": [
    "df_reading_score = df.drop(['math_score', 'writing_score', 'average_score', 'literacy_score'], axis=1)\n",
    "df_reading_score.head()"
   ]
  },
  {
   "cell_type": "code",
   "execution_count": 7,
   "metadata": {},
   "outputs": [
    {
     "data": {
      "text/html": [
       "<div>\n",
       "<style scoped>\n",
       "    .dataframe tbody tr th:only-of-type {\n",
       "        vertical-align: middle;\n",
       "    }\n",
       "\n",
       "    .dataframe tbody tr th {\n",
       "        vertical-align: top;\n",
       "    }\n",
       "\n",
       "    .dataframe thead th {\n",
       "        text-align: right;\n",
       "    }\n",
       "</style>\n",
       "<table border=\"1\" class=\"dataframe\">\n",
       "  <thead>\n",
       "    <tr style=\"text-align: right;\">\n",
       "      <th></th>\n",
       "      <th>gender</th>\n",
       "      <th>ethnicity</th>\n",
       "      <th>parental_education</th>\n",
       "      <th>lunch_program</th>\n",
       "      <th>test_preparation_course</th>\n",
       "      <th>writing_score</th>\n",
       "    </tr>\n",
       "  </thead>\n",
       "  <tbody>\n",
       "    <tr>\n",
       "      <th>0</th>\n",
       "      <td>male</td>\n",
       "      <td>group A</td>\n",
       "      <td>high school</td>\n",
       "      <td>standard</td>\n",
       "      <td>completed</td>\n",
       "      <td>63</td>\n",
       "    </tr>\n",
       "    <tr>\n",
       "      <th>1</th>\n",
       "      <td>female</td>\n",
       "      <td>group D</td>\n",
       "      <td>some high school</td>\n",
       "      <td>free/reduced</td>\n",
       "      <td>none</td>\n",
       "      <td>55</td>\n",
       "    </tr>\n",
       "    <tr>\n",
       "      <th>2</th>\n",
       "      <td>male</td>\n",
       "      <td>group E</td>\n",
       "      <td>some college</td>\n",
       "      <td>free/reduced</td>\n",
       "      <td>none</td>\n",
       "      <td>50</td>\n",
       "    </tr>\n",
       "    <tr>\n",
       "      <th>3</th>\n",
       "      <td>male</td>\n",
       "      <td>group B</td>\n",
       "      <td>high school</td>\n",
       "      <td>standard</td>\n",
       "      <td>none</td>\n",
       "      <td>68</td>\n",
       "    </tr>\n",
       "    <tr>\n",
       "      <th>4</th>\n",
       "      <td>male</td>\n",
       "      <td>group E</td>\n",
       "      <td>associate's degree</td>\n",
       "      <td>standard</td>\n",
       "      <td>completed</td>\n",
       "      <td>68</td>\n",
       "    </tr>\n",
       "  </tbody>\n",
       "</table>\n",
       "</div>"
      ],
      "text/plain": [
       "   gender ethnicity  parental_education lunch_program test_preparation_course  \\\n",
       "0    male   group A         high school      standard               completed   \n",
       "1  female   group D    some high school  free/reduced                    none   \n",
       "2    male   group E        some college  free/reduced                    none   \n",
       "3    male   group B         high school      standard                    none   \n",
       "4    male   group E  associate's degree      standard               completed   \n",
       "\n",
       "   writing_score  \n",
       "0             63  \n",
       "1             55  \n",
       "2             50  \n",
       "3             68  \n",
       "4             68  "
      ]
     },
     "execution_count": 7,
     "metadata": {},
     "output_type": "execute_result"
    }
   ],
   "source": [
    "df_writing_score = df.drop(['math_score', 'reading_score', 'average_score', 'literacy_score'], axis=1)\n",
    "df_writing_score.head()"
   ]
  },
  {
   "cell_type": "markdown",
   "metadata": {},
   "source": [
    "### Math Score\n",
    "\n",
    "Now we can create split these datasets to form train and test sets. First, we import the train_test_split package."
   ]
  },
  {
   "cell_type": "code",
   "execution_count": 8,
   "metadata": {},
   "outputs": [],
   "source": [
    "from sklearn.model_selection import train_test_split"
   ]
  },
  {
   "cell_type": "code",
   "execution_count": 16,
   "metadata": {},
   "outputs": [],
   "source": [
    "math_train_vars, math_test_vars, math_train_score, math_test_score = train_test_split(\n",
    "    df_math_score.drop(['math_score'], axis=1),\n",
    "    df_math_score['math_score'],\n",
    "    test_size = 0.2,\n",
    "    random_state = 7\n",
    ")"
   ]
  },
  {
   "cell_type": "markdown",
   "metadata": {},
   "source": [
    "Now we check to see if this has worked:"
   ]
  },
  {
   "cell_type": "code",
   "execution_count": 26,
   "metadata": {},
   "outputs": [
    {
     "name": "stdout",
     "output_type": "stream",
     "text": [
      "math_train_vars: (800, 5)\n",
      "math_test_vars: (200, 5)\n",
      "math_train_score: (800,)\n",
      "math_test_score: (200,)\n"
     ]
    }
   ],
   "source": [
    "print(f\"math_train_vars: {math_train_vars.shape}\")\n",
    "print(f\"math_test_vars: {math_test_vars.shape}\")\n",
    "print(f\"math_train_score: {math_train_score.shape}\")\n",
    "print(f\"math_test_score: {math_test_score.shape}\")\n"
   ]
  },
  {
   "cell_type": "markdown",
   "metadata": {},
   "source": [
    "Excellent - we see that the math_train_vars and math_train_score datasets both have 800 entries, equivalent to 80% of the original 1000 record dataset. We also see that the math_test_vars and math_test_score datasets both have 200 entries, equivalent to 20% of the original 1000 record dataset. For good measure, we will inspect the dataframes and series below:"
   ]
  },
  {
   "cell_type": "code",
   "execution_count": 27,
   "metadata": {},
   "outputs": [
    {
     "data": {
      "text/html": [
       "<div>\n",
       "<style scoped>\n",
       "    .dataframe tbody tr th:only-of-type {\n",
       "        vertical-align: middle;\n",
       "    }\n",
       "\n",
       "    .dataframe tbody tr th {\n",
       "        vertical-align: top;\n",
       "    }\n",
       "\n",
       "    .dataframe thead th {\n",
       "        text-align: right;\n",
       "    }\n",
       "</style>\n",
       "<table border=\"1\" class=\"dataframe\">\n",
       "  <thead>\n",
       "    <tr style=\"text-align: right;\">\n",
       "      <th></th>\n",
       "      <th>gender</th>\n",
       "      <th>ethnicity</th>\n",
       "      <th>parental_education</th>\n",
       "      <th>lunch_program</th>\n",
       "      <th>test_preparation_course</th>\n",
       "    </tr>\n",
       "  </thead>\n",
       "  <tbody>\n",
       "    <tr>\n",
       "      <th>600</th>\n",
       "      <td>female</td>\n",
       "      <td>group C</td>\n",
       "      <td>some college</td>\n",
       "      <td>free/reduced</td>\n",
       "      <td>none</td>\n",
       "    </tr>\n",
       "    <tr>\n",
       "      <th>80</th>\n",
       "      <td>female</td>\n",
       "      <td>group B</td>\n",
       "      <td>bachelor's degree</td>\n",
       "      <td>standard</td>\n",
       "      <td>none</td>\n",
       "    </tr>\n",
       "    <tr>\n",
       "      <th>158</th>\n",
       "      <td>female</td>\n",
       "      <td>group D</td>\n",
       "      <td>associate's degree</td>\n",
       "      <td>free/reduced</td>\n",
       "      <td>none</td>\n",
       "    </tr>\n",
       "    <tr>\n",
       "      <th>423</th>\n",
       "      <td>male</td>\n",
       "      <td>group D</td>\n",
       "      <td>associate's degree</td>\n",
       "      <td>standard</td>\n",
       "      <td>none</td>\n",
       "    </tr>\n",
       "    <tr>\n",
       "      <th>747</th>\n",
       "      <td>female</td>\n",
       "      <td>group A</td>\n",
       "      <td>high school</td>\n",
       "      <td>standard</td>\n",
       "      <td>none</td>\n",
       "    </tr>\n",
       "    <tr>\n",
       "      <th>...</th>\n",
       "      <td>...</td>\n",
       "      <td>...</td>\n",
       "      <td>...</td>\n",
       "      <td>...</td>\n",
       "      <td>...</td>\n",
       "    </tr>\n",
       "    <tr>\n",
       "      <th>579</th>\n",
       "      <td>female</td>\n",
       "      <td>group B</td>\n",
       "      <td>high school</td>\n",
       "      <td>free/reduced</td>\n",
       "      <td>none</td>\n",
       "    </tr>\n",
       "    <tr>\n",
       "      <th>502</th>\n",
       "      <td>male</td>\n",
       "      <td>group D</td>\n",
       "      <td>associate's degree</td>\n",
       "      <td>standard</td>\n",
       "      <td>none</td>\n",
       "    </tr>\n",
       "    <tr>\n",
       "      <th>537</th>\n",
       "      <td>female</td>\n",
       "      <td>group D</td>\n",
       "      <td>some high school</td>\n",
       "      <td>free/reduced</td>\n",
       "      <td>completed</td>\n",
       "    </tr>\n",
       "    <tr>\n",
       "      <th>196</th>\n",
       "      <td>male</td>\n",
       "      <td>group D</td>\n",
       "      <td>bachelor's degree</td>\n",
       "      <td>standard</td>\n",
       "      <td>none</td>\n",
       "    </tr>\n",
       "    <tr>\n",
       "      <th>175</th>\n",
       "      <td>female</td>\n",
       "      <td>group D</td>\n",
       "      <td>some college</td>\n",
       "      <td>free/reduced</td>\n",
       "      <td>none</td>\n",
       "    </tr>\n",
       "  </tbody>\n",
       "</table>\n",
       "<p>800 rows × 5 columns</p>\n",
       "</div>"
      ],
      "text/plain": [
       "     gender ethnicity  parental_education lunch_program  \\\n",
       "600  female   group C        some college  free/reduced   \n",
       "80   female   group B   bachelor's degree      standard   \n",
       "158  female   group D  associate's degree  free/reduced   \n",
       "423    male   group D  associate's degree      standard   \n",
       "747  female   group A         high school      standard   \n",
       "..      ...       ...                 ...           ...   \n",
       "579  female   group B         high school  free/reduced   \n",
       "502    male   group D  associate's degree      standard   \n",
       "537  female   group D    some high school  free/reduced   \n",
       "196    male   group D   bachelor's degree      standard   \n",
       "175  female   group D        some college  free/reduced   \n",
       "\n",
       "    test_preparation_course  \n",
       "600                    none  \n",
       "80                     none  \n",
       "158                    none  \n",
       "423                    none  \n",
       "747                    none  \n",
       "..                      ...  \n",
       "579                    none  \n",
       "502                    none  \n",
       "537               completed  \n",
       "196                    none  \n",
       "175                    none  \n",
       "\n",
       "[800 rows x 5 columns]"
      ]
     },
     "execution_count": 27,
     "metadata": {},
     "output_type": "execute_result"
    }
   ],
   "source": [
    "math_train_vars"
   ]
  },
  {
   "cell_type": "code",
   "execution_count": 18,
   "metadata": {},
   "outputs": [
    {
     "data": {
      "text/html": [
       "<div>\n",
       "<style scoped>\n",
       "    .dataframe tbody tr th:only-of-type {\n",
       "        vertical-align: middle;\n",
       "    }\n",
       "\n",
       "    .dataframe tbody tr th {\n",
       "        vertical-align: top;\n",
       "    }\n",
       "\n",
       "    .dataframe thead th {\n",
       "        text-align: right;\n",
       "    }\n",
       "</style>\n",
       "<table border=\"1\" class=\"dataframe\">\n",
       "  <thead>\n",
       "    <tr style=\"text-align: right;\">\n",
       "      <th></th>\n",
       "      <th>gender</th>\n",
       "      <th>ethnicity</th>\n",
       "      <th>parental_education</th>\n",
       "      <th>lunch_program</th>\n",
       "      <th>test_preparation_course</th>\n",
       "    </tr>\n",
       "  </thead>\n",
       "  <tbody>\n",
       "    <tr>\n",
       "      <th>778</th>\n",
       "      <td>male</td>\n",
       "      <td>group C</td>\n",
       "      <td>master's degree</td>\n",
       "      <td>free/reduced</td>\n",
       "      <td>none</td>\n",
       "    </tr>\n",
       "    <tr>\n",
       "      <th>334</th>\n",
       "      <td>male</td>\n",
       "      <td>group C</td>\n",
       "      <td>high school</td>\n",
       "      <td>standard</td>\n",
       "      <td>none</td>\n",
       "    </tr>\n",
       "    <tr>\n",
       "      <th>271</th>\n",
       "      <td>female</td>\n",
       "      <td>group D</td>\n",
       "      <td>some high school</td>\n",
       "      <td>standard</td>\n",
       "      <td>none</td>\n",
       "    </tr>\n",
       "    <tr>\n",
       "      <th>802</th>\n",
       "      <td>female</td>\n",
       "      <td>group B</td>\n",
       "      <td>some college</td>\n",
       "      <td>standard</td>\n",
       "      <td>completed</td>\n",
       "    </tr>\n",
       "    <tr>\n",
       "      <th>216</th>\n",
       "      <td>female</td>\n",
       "      <td>group B</td>\n",
       "      <td>associate's degree</td>\n",
       "      <td>standard</td>\n",
       "      <td>none</td>\n",
       "    </tr>\n",
       "    <tr>\n",
       "      <th>...</th>\n",
       "      <td>...</td>\n",
       "      <td>...</td>\n",
       "      <td>...</td>\n",
       "      <td>...</td>\n",
       "      <td>...</td>\n",
       "    </tr>\n",
       "    <tr>\n",
       "      <th>371</th>\n",
       "      <td>female</td>\n",
       "      <td>group B</td>\n",
       "      <td>some college</td>\n",
       "      <td>standard</td>\n",
       "      <td>completed</td>\n",
       "    </tr>\n",
       "    <tr>\n",
       "      <th>411</th>\n",
       "      <td>female</td>\n",
       "      <td>group B</td>\n",
       "      <td>bachelor's degree</td>\n",
       "      <td>free/reduced</td>\n",
       "      <td>none</td>\n",
       "    </tr>\n",
       "    <tr>\n",
       "      <th>644</th>\n",
       "      <td>female</td>\n",
       "      <td>group C</td>\n",
       "      <td>some high school</td>\n",
       "      <td>standard</td>\n",
       "      <td>none</td>\n",
       "    </tr>\n",
       "    <tr>\n",
       "      <th>981</th>\n",
       "      <td>male</td>\n",
       "      <td>group C</td>\n",
       "      <td>some college</td>\n",
       "      <td>standard</td>\n",
       "      <td>none</td>\n",
       "    </tr>\n",
       "    <tr>\n",
       "      <th>365</th>\n",
       "      <td>female</td>\n",
       "      <td>group D</td>\n",
       "      <td>associate's degree</td>\n",
       "      <td>standard</td>\n",
       "      <td>none</td>\n",
       "    </tr>\n",
       "  </tbody>\n",
       "</table>\n",
       "<p>200 rows × 5 columns</p>\n",
       "</div>"
      ],
      "text/plain": [
       "     gender ethnicity  parental_education lunch_program  \\\n",
       "778    male   group C     master's degree  free/reduced   \n",
       "334    male   group C         high school      standard   \n",
       "271  female   group D    some high school      standard   \n",
       "802  female   group B        some college      standard   \n",
       "216  female   group B  associate's degree      standard   \n",
       "..      ...       ...                 ...           ...   \n",
       "371  female   group B        some college      standard   \n",
       "411  female   group B   bachelor's degree  free/reduced   \n",
       "644  female   group C    some high school      standard   \n",
       "981    male   group C        some college      standard   \n",
       "365  female   group D  associate's degree      standard   \n",
       "\n",
       "    test_preparation_course  \n",
       "778                    none  \n",
       "334                    none  \n",
       "271                    none  \n",
       "802               completed  \n",
       "216                    none  \n",
       "..                      ...  \n",
       "371               completed  \n",
       "411                    none  \n",
       "644                    none  \n",
       "981                    none  \n",
       "365                    none  \n",
       "\n",
       "[200 rows x 5 columns]"
      ]
     },
     "execution_count": 18,
     "metadata": {},
     "output_type": "execute_result"
    }
   ],
   "source": [
    "math_test_vars"
   ]
  },
  {
   "cell_type": "code",
   "execution_count": 19,
   "metadata": {},
   "outputs": [
    {
     "data": {
      "text/plain": [
       "600    40\n",
       "80     46\n",
       "158    82\n",
       "423    77\n",
       "747    77\n",
       "       ..\n",
       "579    47\n",
       "502    71\n",
       "537    60\n",
       "196    50\n",
       "175    50\n",
       "Name: math_score, Length: 800, dtype: int64"
      ]
     },
     "execution_count": 19,
     "metadata": {},
     "output_type": "execute_result"
    }
   ],
   "source": [
    "math_train_score"
   ]
  },
  {
   "cell_type": "code",
   "execution_count": 20,
   "metadata": {},
   "outputs": [
    {
     "data": {
      "text/plain": [
       "778    48\n",
       "334    48\n",
       "271    59\n",
       "802    69\n",
       "216    53\n",
       "       ..\n",
       "371    66\n",
       "411    62\n",
       "644    40\n",
       "981    64\n",
       "365    60\n",
       "Name: math_score, Length: 200, dtype: int64"
      ]
     },
     "execution_count": 20,
     "metadata": {},
     "output_type": "execute_result"
    }
   ],
   "source": [
    "math_test_score"
   ]
  },
  {
   "cell_type": "markdown",
   "metadata": {},
   "source": [
    "Upon inspection, we see that the data has also been randomised."
   ]
  },
  {
   "cell_type": "markdown",
   "metadata": {},
   "source": [
    "### Reading Score\n",
    "\n",
    "We will now do the same with the reading_score variable"
   ]
  },
  {
   "cell_type": "code",
   "execution_count": 22,
   "metadata": {},
   "outputs": [],
   "source": [
    "reading_train_vars, reading_test_vars, reading_train_score, reading_test_score = train_test_split(\n",
    "    df_reading_score.drop(['reading_score'], axis=1),\n",
    "    df_reading_score['reading_score'],\n",
    "    test_size = 0.2,\n",
    "    random_state = 7\n",
    ")"
   ]
  },
  {
   "cell_type": "markdown",
   "metadata": {},
   "source": [
    "Now we check to see if these have been created properly"
   ]
  },
  {
   "cell_type": "code",
   "execution_count": 28,
   "metadata": {},
   "outputs": [
    {
     "name": "stdout",
     "output_type": "stream",
     "text": [
      "reading_train_vars: (800, 5)\n",
      "reading_test_vars: (200, 5)\n",
      "reading_train_score: (800,)\n",
      "reading_test_score: (200,)\n"
     ]
    }
   ],
   "source": [
    "print(f\"reading_train_vars: {reading_train_vars.shape}\")\n",
    "print(f\"reading_test_vars: {reading_test_vars.shape}\")\n",
    "print(f\"reading_train_score: {reading_train_score.shape}\")\n",
    "print(f\"reading_test_score: {reading_test_score.shape}\")"
   ]
  },
  {
   "cell_type": "markdown",
   "metadata": {},
   "source": [
    "Excellent - 800 records for the train set and 200 records for the test set. Since we have used the same random state, we can be assured that the data has been randomised"
   ]
  },
  {
   "cell_type": "markdown",
   "metadata": {},
   "source": [
    "### Writing Score\n",
    "\n",
    "Finally, we split the writing_score dataset"
   ]
  },
  {
   "cell_type": "code",
   "execution_count": 29,
   "metadata": {},
   "outputs": [],
   "source": [
    "writing_train_vars, writing_test_vars, writing_train_score, writing_test_score = train_test_split(\n",
    "    df_writing_score.drop(['writing_score'], axis=1),\n",
    "    df_writing_score['writing_score'],\n",
    "    test_size = 0.2,\n",
    "    random_state = 7\n",
    ")"
   ]
  },
  {
   "cell_type": "code",
   "execution_count": 30,
   "metadata": {},
   "outputs": [
    {
     "name": "stdout",
     "output_type": "stream",
     "text": [
      "writing_train_vars: (800, 5)\n",
      "writing_test_vars: (200, 5)\n",
      "writing_train_score: (800,)\n",
      "writing_test_score: (200,)\n"
     ]
    }
   ],
   "source": [
    "print(f\"writing_train_vars: {writing_train_vars.shape}\")\n",
    "print(f\"writing_test_vars: {writing_test_vars.shape}\")\n",
    "print(f\"writing_train_score: {writing_train_score.shape}\")\n",
    "print(f\"writing_test_score: {writing_test_score.shape}\")"
   ]
  },
  {
   "cell_type": "markdown",
   "metadata": {},
   "source": [
    "As before, we have 800 records for the train set and 200 for the test set"
   ]
  },
  {
   "cell_type": "markdown",
   "metadata": {},
   "source": [
    "### Save files\n",
    "\n",
    "We can now save these various datasets as CSV files in the outputs folder. First, we'll create the necessary folders:"
   ]
  },
  {
   "cell_type": "code",
   "execution_count": 40,
   "metadata": {},
   "outputs": [
    {
     "name": "stdout",
     "output_type": "stream",
     "text": [
      "directory outputs/datasets/filtered created\n",
      "directory outputs/datasets/split created\n"
     ]
    }
   ],
   "source": [
    "import os\n",
    "try:\n",
    "    ! rm -r outputs/datasets/filtered\n",
    "    ! rm -r outputs/datasets/split\n",
    "    os.makedirs(name='outputs/datasets/filtered')\n",
    "    print('directory outputs/datasets/filtered created')\n",
    "    os.makedirs(name='outputs/datasets/split')\n",
    "    print('directory outputs/datasets/split created')\n",
    "except Exception as e:\n",
    "    print(e)"
   ]
  },
  {
   "cell_type": "markdown",
   "metadata": {},
   "source": [
    "Now we save the filtered datasets, before any splitting happens"
   ]
  },
  {
   "cell_type": "code",
   "execution_count": 41,
   "metadata": {},
   "outputs": [
    {
     "name": "stdout",
     "output_type": "stream",
     "text": [
      "rm: cannot remove 'outputs/datasets/filtered/math-score-dataset.csv': No such file or directory\n",
      "math-score-dataset.csv created in outputs/datasets/filtered\n"
     ]
    }
   ],
   "source": [
    "! rm outputs/datasets/filtered/math-score-dataset.csv\n",
    "df_math_score.to_csv(\"outputs/datasets/filtered/math-score-dataset.csv\", index=False)\n",
    "print('math-score-dataset.csv created in outputs/datasets/filtered')"
   ]
  },
  {
   "cell_type": "code",
   "execution_count": 42,
   "metadata": {},
   "outputs": [
    {
     "name": "stdout",
     "output_type": "stream",
     "text": [
      "rm: cannot remove 'outputs/datasets/filtered/reading-score-dataset.csv': No such file or directory\n",
      "reading-score-dataset.csv created in outputs/datasets/filtered\n"
     ]
    }
   ],
   "source": [
    "! rm outputs/datasets/filtered/reading-score-dataset.csv\n",
    "df_reading_score.to_csv(\"outputs/datasets/filtered/reading-score-dataset.csv\", index=False)\n",
    "print('reading-score-dataset.csv created in outputs/datasets/filtered')"
   ]
  },
  {
   "cell_type": "code",
   "execution_count": 43,
   "metadata": {},
   "outputs": [
    {
     "name": "stdout",
     "output_type": "stream",
     "text": [
      "rm: cannot remove 'outputs/datasets/filtered/writing-score-dataset.csv': No such file or directory\n",
      "writing-score-dataset.csv created in outputs/datasets/filtered\n"
     ]
    }
   ],
   "source": [
    "! rm outputs/datasets/filtered/writing-score-dataset.csv\n",
    "df_writing_score.to_csv(\"outputs/datasets/filtered/writing-score-dataset.csv\", index=False)\n",
    "print('writing-score-dataset.csv created in outputs/datasets/filtered')"
   ]
  },
  {
   "cell_type": "markdown",
   "metadata": {},
   "source": [
    "Now we can save the split datasets"
   ]
  },
  {
   "cell_type": "code",
   "execution_count": 44,
   "metadata": {},
   "outputs": [
    {
     "name": "stdout",
     "output_type": "stream",
     "text": [
      "rm: cannot remove 'outputs/datasets/split/math': No such file or directory\n",
      "rm: cannot remove 'outputs/datasets/split/reading': No such file or directory\n",
      "rm: cannot remove 'outputs/datasets/split/writing': No such file or directory\n",
      "directory outputs/datasets/split/math created\n",
      "directory outputs/datasets/split/reading created\n",
      "directory outputs/datasets/split/writing created\n"
     ]
    }
   ],
   "source": [
    "try:\n",
    "    \n",
    "    ! rm -r outputs/datasets/split/math\n",
    "    ! rm -r outputs/datasets/split/reading\n",
    "    ! rm -r outputs/datasets/split/writing\n",
    "    os.makedirs(name='outputs/datasets/split/math')\n",
    "    print('directory outputs/datasets/split/math created')\n",
    "    os.makedirs(name='outputs/datasets/split/reading')\n",
    "    print('directory outputs/datasets/split/reading created')\n",
    "    os.makedirs(name='outputs/datasets/split/writing')\n",
    "    print('directory outputs/datasets/split/writing created')\n",
    "except Exception as e:\n",
    "    print(e)"
   ]
  },
  {
   "cell_type": "code",
   "execution_count": 47,
   "metadata": {},
   "outputs": [
    {
     "name": "stdout",
     "output_type": "stream",
     "text": [
      "math-train-vars.csv created in outputs/datasets/split/math\n",
      "math-test-vars.csv created in outputs/datasets/split/math\n",
      "math-train-score.csv created in outputs/datasets/split/math\n",
      "rm: cannot remove 'outputs/datasets/split/math/math-test-score.csv': No such file or directory\n",
      "math-test-score.csv created in outputs/datasets/split/math\n"
     ]
    }
   ],
   "source": [
    "! rm outputs/datasets/split/math/math-train-vars.csv\n",
    "math_train_vars.to_csv(\"outputs/datasets/split/math/math-train-vars.csv\", index=False)\n",
    "print('math-train-vars.csv created in outputs/datasets/split/math')\n",
    "\n",
    "! rm outputs/datasets/split/math/math-test-vars.csv\n",
    "math_test_vars.to_csv(\"outputs/datasets/split/math/math-test-vars.csv\", index=False)\n",
    "print('math-test-vars.csv created in outputs/datasets/split/math')\n",
    "\n",
    "! rm outputs/datasets/split/math/math-train-score.csv\n",
    "math_train_score.to_csv(\"outputs/datasets/split/math/math-train-score.csv\", index=False)\n",
    "print('math-train-score.csv created in outputs/datasets/split/math')\n",
    "\n",
    "! rm outputs/datasets/split/math/math-test-score.csv\n",
    "math_test_score.to_csv(\"outputs/datasets/split/math/math-test-score.csv\", index=False)\n",
    "print('math-test-score.csv created in outputs/datasets/split/math')"
   ]
  },
  {
   "cell_type": "code",
   "execution_count": 48,
   "metadata": {},
   "outputs": [
    {
     "name": "stdout",
     "output_type": "stream",
     "text": [
      "rm: cannot remove 'outputs/datasets/split/reading/reading-train-vars.csv': No such file or directory\n",
      "reading-train-vars.csv created in outputs/datasets/split/reading\n",
      "rm: cannot remove 'outputs/datasets/split/reading/reading-test-vars.csv': No such file or directory\n",
      "math-test-vars.csv created in outputs/datasets/split/math\n",
      "rm: cannot remove 'outputs/datasets/split/reading/reading-train-score.csv': No such file or directory\n",
      "reading-train-score.csv created in outputs/datasets/split/reading\n",
      "rm: cannot remove 'outputs/datasets/split/reading/reading-test-score.csv': No such file or directory\n",
      "reading-test-score.csv created in outputs/datasets/split/reading\n"
     ]
    }
   ],
   "source": [
    "! rm outputs/datasets/split/reading/reading-train-vars.csv\n",
    "reading_train_vars.to_csv(\"outputs/datasets/split/reading/reading-train-vars.csv\", index=False)\n",
    "print('reading-train-vars.csv created in outputs/datasets/split/reading')\n",
    "\n",
    "! rm outputs/datasets/split/reading/reading-test-vars.csv\n",
    "reading_test_vars.to_csv(\"outputs/datasets/split/reading/reading-test-vars.csv\", index=False)\n",
    "print('math-test-vars.csv created in outputs/datasets/split/math')\n",
    "\n",
    "! rm outputs/datasets/split/reading/reading-train-score.csv\n",
    "reading_train_score.to_csv(\"outputs/datasets/split/reading/reading-train-score.csv\", index=False)\n",
    "print('reading-train-score.csv created in outputs/datasets/split/reading')\n",
    "\n",
    "! rm outputs/datasets/split/reading/reading-test-score.csv\n",
    "reading_test_score.to_csv(\"outputs/datasets/split/reading/reading-test-score.csv\", index=False)\n",
    "print('reading-test-score.csv created in outputs/datasets/split/reading')"
   ]
  },
  {
   "cell_type": "code",
   "execution_count": 49,
   "metadata": {},
   "outputs": [
    {
     "name": "stdout",
     "output_type": "stream",
     "text": [
      "rm: cannot remove 'outputs/datasets/split/writing/writing-train-vars.csv': No such file or directory\n",
      "writing-train-vars.csv created in outputs/datasets/split/writing\n",
      "rm: cannot remove 'outputs/datasets/split/writing/writing-test-vars.csv': No such file or directory\n",
      "writing-test-vars.csv created in outputs/datasets/split/writing\n",
      "rm: cannot remove 'outputs/datasets/split/writing/writing-train-score.csv': No such file or directory\n",
      "writing-train-score.csv created in outputs/datasets/split/writing\n",
      "rm: cannot remove 'outputs/datasets/split/writing/writing-test-score.csv': No such file or directory\n",
      "writing-test-score.csv created in outputs/datasets/split/writing\n"
     ]
    }
   ],
   "source": [
    "! rm outputs/datasets/split/writing/writing-train-vars.csv\n",
    "writing_train_vars.to_csv(\"outputs/datasets/split/writing/writing-train-vars.csv\", index=False)\n",
    "print('writing-train-vars.csv created in outputs/datasets/split/writing')\n",
    "\n",
    "! rm outputs/datasets/split/writing/writing-test-vars.csv\n",
    "writing_test_vars.to_csv(\"outputs/datasets/split/writing/writing-test-vars.csv\", index=False)\n",
    "print('writing-test-vars.csv created in outputs/datasets/split/writing')\n",
    "\n",
    "! rm outputs/datasets/split/writing/writing-train-score.csv\n",
    "writing_train_score.to_csv(\"outputs/datasets/split/writing/writing-train-score.csv\", index=False)\n",
    "print('writing-train-score.csv created in outputs/datasets/split/writing')\n",
    "\n",
    "! rm outputs/datasets/split/writing/writing-test-score.csv\n",
    "writing_test_score.to_csv(\"outputs/datasets/split/writing/writing-test-score.csv\", index=False)\n",
    "print('writing-test-score.csv created in outputs/datasets/split/writing')"
   ]
  }
 ],
 "metadata": {
  "kernelspec": {
   "display_name": "Python 3",
   "language": "python",
   "name": "python3"
  },
  "language_info": {
   "codemirror_mode": {
    "name": "ipython",
    "version": 3
   },
   "file_extension": ".py",
   "mimetype": "text/x-python",
   "name": "python",
   "nbconvert_exporter": "python",
   "pygments_lexer": "ipython3",
   "version": "3.8.11"
  },
  "orig_nbformat": 4,
  "vscode": {
   "interpreter": {
    "hash": "03672d1d5ffbbadc3038e50358243ff6e1c939c705228639babab7898b4f75b3"
   }
  }
 },
 "nbformat": 4,
 "nbformat_minor": 2
}
