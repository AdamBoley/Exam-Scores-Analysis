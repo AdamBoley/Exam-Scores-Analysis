{
 "cells": [
  {
   "cell_type": "markdown",
   "metadata": {},
   "source": [
    "# **Writing Score model**"
   ]
  },
  {
   "cell_type": "markdown",
   "metadata": {},
   "source": [
    "## Objectives\n",
    "\n",
    "- Train and evaluate a model for predicting a student's writing score"
   ]
  },
  {
   "cell_type": "markdown",
   "metadata": {},
   "source": [
    "## Inputs\n",
    "\n",
    "- outputs/datasets/filtered/writing-score-dataset.csv\n",
    "- outputs/datasets/split/writing/writing-test-score.csv\n",
    "- outputs/datasets/split/writing/writing-train-score.csv\n",
    "- outputs/datasets/split/writing/writing-test-vars.csv\n",
    "- outputs/datasets/split/writing/writing-train-vars.csv"
   ]
  },
  {
   "cell_type": "markdown",
   "metadata": {},
   "source": [
    "## Outputs\n",
    "\n",
    "- A pipeline to predict a student's reading score"
   ]
  },
  {
   "cell_type": "markdown",
   "metadata": {},
   "source": [
    "## Additional comments"
   ]
  },
  {
   "cell_type": "markdown",
   "metadata": {},
   "source": [
    "# Change working directory"
   ]
  },
  {
   "cell_type": "markdown",
   "metadata": {},
   "source": [
    "Since this notebook exists in the jupyter_notebooks directory, we need to change the current working directory from the jupyter_notebooks directory to the workspace, so that any directories created in further codes cells are added in the correct place. \n",
    "\n",
    "We access the current directory with the OS packages' `getcwd()` method"
   ]
  },
  {
   "cell_type": "code",
   "execution_count": 1,
   "metadata": {},
   "outputs": [
    {
     "data": {
      "text/plain": [
       "'/workspace/Exam-Scores-Analysis/jupyter_notebooks'"
      ]
     },
     "execution_count": 1,
     "metadata": {},
     "output_type": "execute_result"
    }
   ],
   "source": [
    "import os\n",
    "current_directory = os.getcwd()\n",
    "current_directory\n"
   ]
  },
  {
   "cell_type": "markdown",
   "metadata": {},
   "source": [
    "We now want to set the working directory as the parent of the current working directory, jupyter_notebooks\n",
    "\n",
    "- The `os.path.dirname()` method gets the parent directory\n",
    "- The `os.chir()` method defines the new current directory\n",
    "- We do this to access all of the project's files and directories, rather than those in the jupyter_notebooks directory"
   ]
  },
  {
   "cell_type": "code",
   "execution_count": 2,
   "metadata": {},
   "outputs": [
    {
     "name": "stdout",
     "output_type": "stream",
     "text": [
      "You set a new current directory\n"
     ]
    }
   ],
   "source": [
    "os.chdir(os.path.dirname(current_directory))\n",
    "print(\"You set a new current directory\")"
   ]
  },
  {
   "cell_type": "markdown",
   "metadata": {},
   "source": [
    "To make certain of things, we now use a code cell to confirm that we have set the current working directory properly"
   ]
  },
  {
   "cell_type": "code",
   "execution_count": 3,
   "metadata": {},
   "outputs": [
    {
     "data": {
      "text/plain": [
       "'/workspace/Exam-Scores-Analysis'"
      ]
     },
     "execution_count": 3,
     "metadata": {},
     "output_type": "execute_result"
    }
   ],
   "source": [
    "current_directory = os.getcwd()\n",
    "current_directory"
   ]
  },
  {
   "cell_type": "markdown",
   "metadata": {},
   "source": [
    "Import packages:"
   ]
  },
  {
   "cell_type": "code",
   "execution_count": 4,
   "metadata": {},
   "outputs": [
    {
     "name": "stderr",
     "output_type": "stream",
     "text": [
      "/workspace/.pip-modules/lib/python3.8/site-packages/xgboost/compat.py:93: FutureWarning: pandas.Int64Index is deprecated and will be removed from pandas in a future version. Use pandas.Index with the appropriate dtype instead.\n",
      "  from pandas import MultiIndex, Int64Index\n"
     ]
    }
   ],
   "source": [
    "### Standard Data Science modules:\n",
    "import numpy as np\n",
    "import pandas as pd\n",
    "import seaborn as sns\n",
    "import matplotlib.pyplot as plt\n",
    "sns.set_style('whitegrid')\n",
    "\n",
    "### SciKit Learn modules\n",
    "from sklearn.pipeline import Pipeline\n",
    "from sklearn.model_selection import train_test_split\n",
    "from sklearn.model_selection import GridSearchCV\n",
    "from sklearn.metrics import make_scorer, recall_score\n",
    "\n",
    "### Feature Engineering\n",
    "from feature_engine.encoding import OrdinalEncoder\n",
    "\n",
    "### Feature Scaling\n",
    "from sklearn.preprocessing import StandardScaler\n",
    "\n",
    "### Feature  Selection\n",
    "from sklearn.feature_selection import SelectFromModel\n",
    "\n",
    "### ML algorithms\n",
    "from sklearn.tree import DecisionTreeClassifier \n",
    "from sklearn.ensemble import RandomForestClassifier\n",
    "from sklearn.ensemble import GradientBoostingClassifier \n",
    "from sklearn.ensemble import ExtraTreesClassifier\n",
    "from sklearn.ensemble import AdaBoostClassifier\n",
    "from xgboost import XGBClassifier\n",
    "from sklearn.linear_model import SGDClassifier"
   ]
  },
  {
   "cell_type": "markdown",
   "metadata": {},
   "source": [
    "Writing Score Pipeline\n",
    "\n",
    "The dataset's writing_score variable is a continuous numerical variable, like the math_score and reading_score variables. Given this, as we noted in the reading_score pipeline notebook, we would normally expect to fit a regression model. However, as we saw in those previous notebooks, regression models perform poorly. Therefore, as with the reading_score pipeline notebook, we shall convert to a classification task from the start, as classification algorithms fitted on binned datasets have showed good (but not spectacular) performance.\n",
    "\n",
    "First, we must load the appropriate dataset:"
   ]
  },
  {
   "cell_type": "code",
   "execution_count": 5,
   "metadata": {},
   "outputs": [
    {
     "data": {
      "text/html": [
       "<div>\n",
       "<style scoped>\n",
       "    .dataframe tbody tr th:only-of-type {\n",
       "        vertical-align: middle;\n",
       "    }\n",
       "\n",
       "    .dataframe tbody tr th {\n",
       "        vertical-align: top;\n",
       "    }\n",
       "\n",
       "    .dataframe thead th {\n",
       "        text-align: right;\n",
       "    }\n",
       "</style>\n",
       "<table border=\"1\" class=\"dataframe\">\n",
       "  <thead>\n",
       "    <tr style=\"text-align: right;\">\n",
       "      <th></th>\n",
       "      <th>gender</th>\n",
       "      <th>ethnicity</th>\n",
       "      <th>parental_education</th>\n",
       "      <th>lunch_program</th>\n",
       "      <th>test_preparation_course</th>\n",
       "      <th>writing_score</th>\n",
       "    </tr>\n",
       "  </thead>\n",
       "  <tbody>\n",
       "    <tr>\n",
       "      <th>0</th>\n",
       "      <td>male</td>\n",
       "      <td>group A</td>\n",
       "      <td>high school</td>\n",
       "      <td>standard</td>\n",
       "      <td>completed</td>\n",
       "      <td>63</td>\n",
       "    </tr>\n",
       "    <tr>\n",
       "      <th>1</th>\n",
       "      <td>female</td>\n",
       "      <td>group D</td>\n",
       "      <td>some high school</td>\n",
       "      <td>free/reduced</td>\n",
       "      <td>none</td>\n",
       "      <td>55</td>\n",
       "    </tr>\n",
       "    <tr>\n",
       "      <th>2</th>\n",
       "      <td>male</td>\n",
       "      <td>group E</td>\n",
       "      <td>some college</td>\n",
       "      <td>free/reduced</td>\n",
       "      <td>none</td>\n",
       "      <td>50</td>\n",
       "    </tr>\n",
       "    <tr>\n",
       "      <th>3</th>\n",
       "      <td>male</td>\n",
       "      <td>group B</td>\n",
       "      <td>high school</td>\n",
       "      <td>standard</td>\n",
       "      <td>none</td>\n",
       "      <td>68</td>\n",
       "    </tr>\n",
       "    <tr>\n",
       "      <th>4</th>\n",
       "      <td>male</td>\n",
       "      <td>group E</td>\n",
       "      <td>associate's degree</td>\n",
       "      <td>standard</td>\n",
       "      <td>completed</td>\n",
       "      <td>68</td>\n",
       "    </tr>\n",
       "    <tr>\n",
       "      <th>...</th>\n",
       "      <td>...</td>\n",
       "      <td>...</td>\n",
       "      <td>...</td>\n",
       "      <td>...</td>\n",
       "      <td>...</td>\n",
       "      <td>...</td>\n",
       "    </tr>\n",
       "    <tr>\n",
       "      <th>995</th>\n",
       "      <td>male</td>\n",
       "      <td>group C</td>\n",
       "      <td>high school</td>\n",
       "      <td>standard</td>\n",
       "      <td>none</td>\n",
       "      <td>65</td>\n",
       "    </tr>\n",
       "    <tr>\n",
       "      <th>996</th>\n",
       "      <td>male</td>\n",
       "      <td>group D</td>\n",
       "      <td>associate's degree</td>\n",
       "      <td>free/reduced</td>\n",
       "      <td>completed</td>\n",
       "      <td>92</td>\n",
       "    </tr>\n",
       "    <tr>\n",
       "      <th>997</th>\n",
       "      <td>female</td>\n",
       "      <td>group C</td>\n",
       "      <td>some high school</td>\n",
       "      <td>free/reduced</td>\n",
       "      <td>none</td>\n",
       "      <td>41</td>\n",
       "    </tr>\n",
       "    <tr>\n",
       "      <th>998</th>\n",
       "      <td>female</td>\n",
       "      <td>group C</td>\n",
       "      <td>some college</td>\n",
       "      <td>standard</td>\n",
       "      <td>none</td>\n",
       "      <td>82</td>\n",
       "    </tr>\n",
       "    <tr>\n",
       "      <th>999</th>\n",
       "      <td>male</td>\n",
       "      <td>group A</td>\n",
       "      <td>some college</td>\n",
       "      <td>standard</td>\n",
       "      <td>completed</td>\n",
       "      <td>62</td>\n",
       "    </tr>\n",
       "  </tbody>\n",
       "</table>\n",
       "<p>1000 rows × 6 columns</p>\n",
       "</div>"
      ],
      "text/plain": [
       "     gender ethnicity  parental_education lunch_program  \\\n",
       "0      male   group A         high school      standard   \n",
       "1    female   group D    some high school  free/reduced   \n",
       "2      male   group E        some college  free/reduced   \n",
       "3      male   group B         high school      standard   \n",
       "4      male   group E  associate's degree      standard   \n",
       "..      ...       ...                 ...           ...   \n",
       "995    male   group C         high school      standard   \n",
       "996    male   group D  associate's degree  free/reduced   \n",
       "997  female   group C    some high school  free/reduced   \n",
       "998  female   group C        some college      standard   \n",
       "999    male   group A        some college      standard   \n",
       "\n",
       "    test_preparation_course  writing_score  \n",
       "0                 completed             63  \n",
       "1                      none             55  \n",
       "2                      none             50  \n",
       "3                      none             68  \n",
       "4                 completed             68  \n",
       "..                      ...            ...  \n",
       "995                    none             65  \n",
       "996               completed             92  \n",
       "997                    none             41  \n",
       "998                    none             82  \n",
       "999               completed             62  \n",
       "\n",
       "[1000 rows x 6 columns]"
      ]
     },
     "execution_count": 5,
     "metadata": {},
     "output_type": "execute_result"
    }
   ],
   "source": [
    "df_writing = pd.read_csv('outputs/datasets/filtered/writing-score-dataset.csv')\n",
    "df_writing"
   ]
  },
  {
   "cell_type": "markdown",
   "metadata": {},
   "source": [
    "We can now sort the writing_score variable into bins. As with the previous 2 classification tasks, we will consider 3 and 4 bin approaches, with a view that 3 bins will probably be the superior approach, given previous results. We could proceed solely with the 3 bin approach, as we have used that for the other classification tasks, but we must approach the writing_score classification task independently, and it may turn out that the 4 bin approach is superior."
   ]
  },
  {
   "cell_type": "code",
   "execution_count": 6,
   "metadata": {},
   "outputs": [
    {
     "name": "stdout",
     "output_type": "stream",
     "text": [
      "* The classes represent the following ranges: \n",
      "{'writing_score': [-inf, 62.0, 75.0, inf]} \n",
      "\n"
     ]
    },
    {
     "data": {
      "image/png": "[encoded data removed]",
      "text/plain": [
       "<Figure size 640x480 with 1 Axes>"
      ]
     },
     "metadata": {},
     "output_type": "display_data"
    }
   ],
   "source": [
    "from feature_engine.discretisation import EqualFrequencyDiscretiser\n",
    "\n",
    "disc_efd_3 = EqualFrequencyDiscretiser(q=3, variables=['writing_score'])\n",
    "df_writing_clf_efd_3 = disc_efd_3.fit_transform(df_writing)\n",
    "\n",
    "print(f\"* The classes represent the following ranges: \\n{disc_efd_3.binner_dict_} \\n\")\n",
    "sns.countplot(data=df_writing_clf_efd_3, x='writing_score')\n",
    "plt.show()"
   ]
  },
  {
   "cell_type": "markdown",
   "metadata": {},
   "source": [
    "Seems to be evenly distributed. As with the previous classification tasks, the widths of the bins are different:\n",
    "- Less than 62\n",
    "- 62 to 75\n",
    "- Greater than 75\n",
    "\n",
    "We should see what using 4 bins produces:"
   ]
  },
  {
   "cell_type": "code",
   "execution_count": 7,
   "metadata": {},
   "outputs": [
    {
     "name": "stdout",
     "output_type": "stream",
     "text": [
      "* The classes represent the following ranges: \n",
      "{'writing_score': [-inf, 58.0, 68.0, 79.0, inf]} \n",
      "\n"
     ]
    },
    {
     "data": {
      "image/png": "[encoded data removed]",
      "text/plain": [
       "<Figure size 640x480 with 1 Axes>"
      ]
     },
     "metadata": {},
     "output_type": "display_data"
    }
   ],
   "source": [
    "disc_efd_4 = EqualFrequencyDiscretiser(q=4, variables=['writing_score'])\n",
    "df_writing_clf_efd_4 = disc_efd_4.fit_transform(df_writing)\n",
    "\n",
    "print(f\"* The classes represent the following ranges: \\n{disc_efd_4.binner_dict_} \\n\")\n",
    "sns.countplot(data=df_writing_clf_efd_4, x='writing_score')\n",
    "plt.show()"
   ]
  },
  {
   "cell_type": "markdown",
   "metadata": {},
   "source": [
    "We appear to have 4 bins of approximately equal width:\n",
    "- Less than 58\n",
    "- 58 to 67\n",
    "- 68 to 79\n",
    "- Greater than 79\n",
    "\n",
    "As with the math_score and reading_score notebooks, we'll fit and evaluate pipelines with both discretised datasets, to see which performs best. \n",
    "\n",
    "In the math_score notebook, we briefly tried using the equal width discretiser, with extremely inbalanced results. Exploring that alternative for writing_score is probably futile. \n",
    "\n",
    "We'll begin with the 3-bin dataset:"
   ]
  },
  {
   "cell_type": "code",
   "execution_count": 8,
   "metadata": {},
   "outputs": [
    {
     "data": {
      "text/html": [
       "<div>\n",
       "<style scoped>\n",
       "    .dataframe tbody tr th:only-of-type {\n",
       "        vertical-align: middle;\n",
       "    }\n",
       "\n",
       "    .dataframe tbody tr th {\n",
       "        vertical-align: top;\n",
       "    }\n",
       "\n",
       "    .dataframe thead th {\n",
       "        text-align: right;\n",
       "    }\n",
       "</style>\n",
       "<table border=\"1\" class=\"dataframe\">\n",
       "  <thead>\n",
       "    <tr style=\"text-align: right;\">\n",
       "      <th></th>\n",
       "      <th>gender</th>\n",
       "      <th>ethnicity</th>\n",
       "      <th>parental_education</th>\n",
       "      <th>lunch_program</th>\n",
       "      <th>test_preparation_course</th>\n",
       "      <th>writing_score</th>\n",
       "    </tr>\n",
       "  </thead>\n",
       "  <tbody>\n",
       "    <tr>\n",
       "      <th>0</th>\n",
       "      <td>male</td>\n",
       "      <td>group A</td>\n",
       "      <td>high school</td>\n",
       "      <td>standard</td>\n",
       "      <td>completed</td>\n",
       "      <td>1</td>\n",
       "    </tr>\n",
       "    <tr>\n",
       "      <th>1</th>\n",
       "      <td>female</td>\n",
       "      <td>group D</td>\n",
       "      <td>some high school</td>\n",
       "      <td>free/reduced</td>\n",
       "      <td>none</td>\n",
       "      <td>0</td>\n",
       "    </tr>\n",
       "    <tr>\n",
       "      <th>2</th>\n",
       "      <td>male</td>\n",
       "      <td>group E</td>\n",
       "      <td>some college</td>\n",
       "      <td>free/reduced</td>\n",
       "      <td>none</td>\n",
       "      <td>0</td>\n",
       "    </tr>\n",
       "    <tr>\n",
       "      <th>3</th>\n",
       "      <td>male</td>\n",
       "      <td>group B</td>\n",
       "      <td>high school</td>\n",
       "      <td>standard</td>\n",
       "      <td>none</td>\n",
       "      <td>1</td>\n",
       "    </tr>\n",
       "    <tr>\n",
       "      <th>4</th>\n",
       "      <td>male</td>\n",
       "      <td>group E</td>\n",
       "      <td>associate's degree</td>\n",
       "      <td>standard</td>\n",
       "      <td>completed</td>\n",
       "      <td>1</td>\n",
       "    </tr>\n",
       "    <tr>\n",
       "      <th>...</th>\n",
       "      <td>...</td>\n",
       "      <td>...</td>\n",
       "      <td>...</td>\n",
       "      <td>...</td>\n",
       "      <td>...</td>\n",
       "      <td>...</td>\n",
       "    </tr>\n",
       "    <tr>\n",
       "      <th>995</th>\n",
       "      <td>male</td>\n",
       "      <td>group C</td>\n",
       "      <td>high school</td>\n",
       "      <td>standard</td>\n",
       "      <td>none</td>\n",
       "      <td>1</td>\n",
       "    </tr>\n",
       "    <tr>\n",
       "      <th>996</th>\n",
       "      <td>male</td>\n",
       "      <td>group D</td>\n",
       "      <td>associate's degree</td>\n",
       "      <td>free/reduced</td>\n",
       "      <td>completed</td>\n",
       "      <td>2</td>\n",
       "    </tr>\n",
       "    <tr>\n",
       "      <th>997</th>\n",
       "      <td>female</td>\n",
       "      <td>group C</td>\n",
       "      <td>some high school</td>\n",
       "      <td>free/reduced</td>\n",
       "      <td>none</td>\n",
       "      <td>0</td>\n",
       "    </tr>\n",
       "    <tr>\n",
       "      <th>998</th>\n",
       "      <td>female</td>\n",
       "      <td>group C</td>\n",
       "      <td>some college</td>\n",
       "      <td>standard</td>\n",
       "      <td>none</td>\n",
       "      <td>2</td>\n",
       "    </tr>\n",
       "    <tr>\n",
       "      <th>999</th>\n",
       "      <td>male</td>\n",
       "      <td>group A</td>\n",
       "      <td>some college</td>\n",
       "      <td>standard</td>\n",
       "      <td>completed</td>\n",
       "      <td>0</td>\n",
       "    </tr>\n",
       "  </tbody>\n",
       "</table>\n",
       "<p>1000 rows × 6 columns</p>\n",
       "</div>"
      ],
      "text/plain": [
       "     gender ethnicity  parental_education lunch_program  \\\n",
       "0      male   group A         high school      standard   \n",
       "1    female   group D    some high school  free/reduced   \n",
       "2      male   group E        some college  free/reduced   \n",
       "3      male   group B         high school      standard   \n",
       "4      male   group E  associate's degree      standard   \n",
       "..      ...       ...                 ...           ...   \n",
       "995    male   group C         high school      standard   \n",
       "996    male   group D  associate's degree  free/reduced   \n",
       "997  female   group C    some high school  free/reduced   \n",
       "998  female   group C        some college      standard   \n",
       "999    male   group A        some college      standard   \n",
       "\n",
       "    test_preparation_course  writing_score  \n",
       "0                 completed              1  \n",
       "1                      none              0  \n",
       "2                      none              0  \n",
       "3                      none              1  \n",
       "4                 completed              1  \n",
       "..                      ...            ...  \n",
       "995                    none              1  \n",
       "996               completed              2  \n",
       "997                    none              0  \n",
       "998                    none              2  \n",
       "999               completed              0  \n",
       "\n",
       "[1000 rows x 6 columns]"
      ]
     },
     "execution_count": 8,
     "metadata": {},
     "output_type": "execute_result"
    }
   ],
   "source": [
    "df_writing_clf_efd_3"
   ]
  },
  {
   "cell_type": "markdown",
   "metadata": {},
   "source": [
    "We'll construct the pipeline:"
   ]
  },
  {
   "cell_type": "code",
   "execution_count": 13,
   "metadata": {},
   "outputs": [],
   "source": [
    "def PipelineOptimization(model):\n",
    "  pipeline_base = Pipeline([\n",
    "\n",
    "      (\"OrdinalCategoricalEncoder\", OrdinalEncoder(encoding_method='arbitrary', \n",
    "                                                  variables = ['gender', 'ethnicity', 'parental_education', 'lunch_program', 'test_preparation_course'] ) ),\n",
    "       \n",
    "\n",
    "      (\"feature_scaling\", StandardScaler() ),\n",
    "\n",
    "      (\"feature_selection\",  SelectFromModel(model) ),\n",
    "\n",
    "      (\"model\", model ),\n",
    "       \n",
    "    ])\n",
    "\n",
    "  return pipeline_base"
   ]
  },
  {
   "cell_type": "markdown",
   "metadata": {},
   "source": [
    "Now we split the discretised dataset into train and test sets:"
   ]
  },
  {
   "cell_type": "code",
   "execution_count": 9,
   "metadata": {},
   "outputs": [
    {
     "name": "stdout",
     "output_type": "stream",
     "text": [
      "* Train set: (800, 5) (800,) \n",
      "* Test set: (200, 5) (200,)\n"
     ]
    }
   ],
   "source": [
    "writing_train_vars_3, writing_test_vars_3, writing_train_score_3, writing_test_score_3 = train_test_split(\n",
    "    df_writing_clf_efd_3.drop(['writing_score'], axis=1),\n",
    "    df_writing_clf_efd_3['writing_score'],\n",
    "    test_size = 0.2,\n",
    "    random_state = 7\n",
    ")\n",
    "\n",
    "print(\"* Train set:\", writing_train_vars_3.shape, writing_train_score_3.shape, \"\\n* Test set:\",  writing_test_vars_3.shape, writing_test_score_3.shape)"
   ]
  },
  {
   "cell_type": "markdown",
   "metadata": {},
   "source": [
    "Now we define the models we want to test, and the default hyperparameters:"
   ]
  },
  {
   "cell_type": "code",
   "execution_count": 10,
   "metadata": {},
   "outputs": [],
   "source": [
    "models_quick_search = {\n",
    "    \"XGBClassifier\": XGBClassifier(random_state=0),\n",
    "    \"DecisionTreeClassifier\": DecisionTreeClassifier(random_state=0),\n",
    "    \"RandomForestClassifier\": RandomForestClassifier(random_state=0),\n",
    "    \"GradientBoostingClassifier\": GradientBoostingClassifier(random_state=0),\n",
    "    \"ExtraTreesClassifier\": ExtraTreesClassifier(random_state=0),\n",
    "    \"AdaBoostClassifier\": AdaBoostClassifier(random_state=0),\n",
    "    \"SGDClassifier\": SGDClassifier(random_state=0),\n",
    "}\n",
    "\n",
    "parameters_quick_search = {\n",
    "    \"XGBClassifier\":{},\n",
    "    \"DecisionTreeClassifier\":{},\n",
    "    \"RandomForestClassifier\":{},\n",
    "    \"GradientBoostingClassifier\":{},\n",
    "    \"ExtraTreesClassifier\":{},\n",
    "    \"AdaBoostClassifier\":{},\n",
    "    \"SGDClassifier\": {},\n",
    "}"
   ]
  },
  {
   "cell_type": "markdown",
   "metadata": {},
   "source": [
    "In the reading_score notebook, we tried the NaiveBayesClassifier, Support Vector Machine and KNeighborsClassifier algorithms but ran into problems, we won't include them.\n",
    "\n",
    "We can now define the standard HyperparameterOptimisationSearch class:"
   ]
  },
  {
   "cell_type": "code",
   "execution_count": 11,
   "metadata": {},
   "outputs": [],
   "source": [
    "class HyperparameterOptimizationSearch:\n",
    "\n",
    "    def __init__(self, models, parameters):\n",
    "        self.models = models\n",
    "        self.parameters = parameters\n",
    "        self.keys = models.keys()\n",
    "        self.grid_searches = {}\n",
    "\n",
    "    def fit(self, x, y, cv, n_jobs, verbose=1, scoring=None, refit=False):\n",
    "        for key in self.keys:\n",
    "            print(f\"\\nRunning GridSearchCV for {key} \\n\")\n",
    "            model =  PipelineOptimization(self.models[key])\n",
    "\n",
    "            parameters = self.parameters[key]\n",
    "            grid_search = GridSearchCV(model, parameters, cv=cv, n_jobs=n_jobs, verbose=verbose, scoring=scoring)\n",
    "            grid_search.fit(x, y)\n",
    "            self.grid_searches[key] = grid_search\n",
    "\n",
    "    def score_summary(self, sort_by='mean_score'):\n",
    "        def row(key, scores, parameters):\n",
    "            summary = {\n",
    "                 'estimator': key,\n",
    "                 'minimum_score': min(scores),\n",
    "                 'maximum_score': max(scores),\n",
    "                 'mean_score': np.mean(scores),\n",
    "                 'standard_deviation_score': np.std(scores),\n",
    "            }\n",
    "            return pd.Series({**parameters,**summary})\n",
    "\n",
    "        rows = []\n",
    "        for k in self.grid_searches:\n",
    "            parameters = self.grid_searches[k].cv_results_['params']\n",
    "            scores = []\n",
    "            for i in range(self.grid_searches[k].cv):\n",
    "                key = \"split{}_test_score\".format(i)\n",
    "                result = self.grid_searches[k].cv_results_[key]        \n",
    "                scores.append(result.reshape(len(parameters), 1))\n",
    "\n",
    "            all_scores = np.hstack(scores)\n",
    "            for p, s in zip(parameters, all_scores):\n",
    "                rows.append((row(k, s, p)))\n",
    "\n",
    "        df = pd.concat(rows, axis=1).T.sort_values([sort_by], ascending=False)\n",
    "\n",
    "        columns = ['estimator', 'minimum_score', 'mean_score', 'maximum_score', 'standard_deviation_score']\n",
    "        columns = columns + [column for column in df.columns if column not in columns]\n",
    "\n",
    "        return df[columns], self.grid_searches"
   ]
  },
  {
   "cell_type": "markdown",
   "metadata": {},
   "source": [
    "And now we can call it:"
   ]
  },
  {
   "cell_type": "code",
   "execution_count": 14,
   "metadata": {},
   "outputs": [
    {
     "name": "stdout",
     "output_type": "stream",
     "text": [
      "\n",
      "Running GridSearchCV for XGBClassifier \n",
      "\n",
      "Fitting 5 folds for each of 1 candidates, totalling 5 fits\n"
     ]
    },
    {
     "name": "stderr",
     "output_type": "stream",
     "text": [
      "/workspace/.pip-modules/lib/python3.8/site-packages/xgboost/compat.py:93: FutureWarning: pandas.Int64Index is deprecated and will be removed from pandas in a future version. Use pandas.Index with the appropriate dtype instead.\n",
      "  from pandas import MultiIndex, Int64Index\n",
      "/workspace/.pip-modules/lib/python3.8/site-packages/xgboost/compat.py:93: FutureWarning: pandas.Int64Index is deprecated and will be removed from pandas in a future version. Use pandas.Index with the appropriate dtype instead.\n",
      "  from pandas import MultiIndex, Int64Index\n",
      "/workspace/.pip-modules/lib/python3.8/site-packages/xgboost/compat.py:93: FutureWarning: pandas.Int64Index is deprecated and will be removed from pandas in a future version. Use pandas.Index with the appropriate dtype instead.\n",
      "  from pandas import MultiIndex, Int64Index\n",
      "/workspace/.pip-modules/lib/python3.8/site-packages/xgboost/compat.py:93: FutureWarning: pandas.Int64Index is deprecated and will be removed from pandas in a future version. Use pandas.Index with the appropriate dtype instead.\n",
      "  from pandas import MultiIndex, Int64Index\n",
      "/workspace/.pip-modules/lib/python3.8/site-packages/xgboost/compat.py:93: FutureWarning: pandas.Int64Index is deprecated and will be removed from pandas in a future version. Use pandas.Index with the appropriate dtype instead.\n",
      "  from pandas import MultiIndex, Int64Index\n"
     ]
    },
    {
     "name": "stdout",
     "output_type": "stream",
     "text": [
      "\n",
      "Running GridSearchCV for DecisionTreeClassifier \n",
      "\n",
      "Fitting 5 folds for each of 1 candidates, totalling 5 fits\n",
      "\n",
      "Running GridSearchCV for RandomForestClassifier \n",
      "\n",
      "Fitting 5 folds for each of 1 candidates, totalling 5 fits\n",
      "\n",
      "Running GridSearchCV for GradientBoostingClassifier \n",
      "\n",
      "Fitting 5 folds for each of 1 candidates, totalling 5 fits\n",
      "\n",
      "Running GridSearchCV for ExtraTreesClassifier \n",
      "\n",
      "Fitting 5 folds for each of 1 candidates, totalling 5 fits\n",
      "\n",
      "Running GridSearchCV for AdaBoostClassifier \n",
      "\n",
      "Fitting 5 folds for each of 1 candidates, totalling 5 fits\n",
      "\n",
      "Running GridSearchCV for SGDClassifier \n",
      "\n",
      "Fitting 5 folds for each of 1 candidates, totalling 5 fits\n"
     ]
    }
   ],
   "source": [
    "model_search_3 = HyperparameterOptimizationSearch(models=models_quick_search, parameters=parameters_quick_search)\n",
    "model_search_3.fit(writing_train_vars_3, writing_train_score_3, scoring=make_scorer(recall_score, labels=[0], average=None), n_jobs=-1, cv=5)"
   ]
  },
  {
   "cell_type": "markdown",
   "metadata": {},
   "source": [
    "Now we inspect the results:"
   ]
  },
  {
   "cell_type": "code",
   "execution_count": 15,
   "metadata": {},
   "outputs": [
    {
     "data": {
      "text/html": [
       "<div>\n",
       "<style scoped>\n",
       "    .dataframe tbody tr th:only-of-type {\n",
       "        vertical-align: middle;\n",
       "    }\n",
       "\n",
       "    .dataframe tbody tr th {\n",
       "        vertical-align: top;\n",
       "    }\n",
       "\n",
       "    .dataframe thead th {\n",
       "        text-align: right;\n",
       "    }\n",
       "</style>\n",
       "<table border=\"1\" class=\"dataframe\">\n",
       "  <thead>\n",
       "    <tr style=\"text-align: right;\">\n",
       "      <th></th>\n",
       "      <th>estimator</th>\n",
       "      <th>minimum_score</th>\n",
       "      <th>mean_score</th>\n",
       "      <th>maximum_score</th>\n",
       "      <th>standard_deviation_score</th>\n",
       "    </tr>\n",
       "  </thead>\n",
       "  <tbody>\n",
       "    <tr>\n",
       "      <th>1</th>\n",
       "      <td>DecisionTreeClassifier</td>\n",
       "      <td>0.482143</td>\n",
       "      <td>0.544805</td>\n",
       "      <td>0.607143</td>\n",
       "      <td>0.043007</td>\n",
       "    </tr>\n",
       "    <tr>\n",
       "      <th>4</th>\n",
       "      <td>ExtraTreesClassifier</td>\n",
       "      <td>0.482143</td>\n",
       "      <td>0.544805</td>\n",
       "      <td>0.607143</td>\n",
       "      <td>0.043007</td>\n",
       "    </tr>\n",
       "    <tr>\n",
       "      <th>3</th>\n",
       "      <td>GradientBoostingClassifier</td>\n",
       "      <td>0.428571</td>\n",
       "      <td>0.523701</td>\n",
       "      <td>0.636364</td>\n",
       "      <td>0.068932</td>\n",
       "    </tr>\n",
       "    <tr>\n",
       "      <th>6</th>\n",
       "      <td>SGDClassifier</td>\n",
       "      <td>0.392857</td>\n",
       "      <td>0.512857</td>\n",
       "      <td>0.607143</td>\n",
       "      <td>0.098706</td>\n",
       "    </tr>\n",
       "    <tr>\n",
       "      <th>0</th>\n",
       "      <td>XGBClassifier</td>\n",
       "      <td>0.339286</td>\n",
       "      <td>0.469545</td>\n",
       "      <td>0.607143</td>\n",
       "      <td>0.096094</td>\n",
       "    </tr>\n",
       "    <tr>\n",
       "      <th>5</th>\n",
       "      <td>AdaBoostClassifier</td>\n",
       "      <td>0.410714</td>\n",
       "      <td>0.465909</td>\n",
       "      <td>0.535714</td>\n",
       "      <td>0.052523</td>\n",
       "    </tr>\n",
       "    <tr>\n",
       "      <th>2</th>\n",
       "      <td>RandomForestClassifier</td>\n",
       "      <td>0.375</td>\n",
       "      <td>0.458831</td>\n",
       "      <td>0.553571</td>\n",
       "      <td>0.058552</td>\n",
       "    </tr>\n",
       "  </tbody>\n",
       "</table>\n",
       "</div>"
      ],
      "text/plain": [
       "                    estimator minimum_score mean_score maximum_score  \\\n",
       "1      DecisionTreeClassifier      0.482143   0.544805      0.607143   \n",
       "4        ExtraTreesClassifier      0.482143   0.544805      0.607143   \n",
       "3  GradientBoostingClassifier      0.428571   0.523701      0.636364   \n",
       "6               SGDClassifier      0.392857   0.512857      0.607143   \n",
       "0               XGBClassifier      0.339286   0.469545      0.607143   \n",
       "5          AdaBoostClassifier      0.410714   0.465909      0.535714   \n",
       "2      RandomForestClassifier         0.375   0.458831      0.553571   \n",
       "\n",
       "  standard_deviation_score  \n",
       "1                 0.043007  \n",
       "4                 0.043007  \n",
       "3                 0.068932  \n",
       "6                 0.098706  \n",
       "0                 0.096094  \n",
       "5                 0.052523  \n",
       "2                 0.058552  "
      ]
     },
     "execution_count": 15,
     "metadata": {},
     "output_type": "execute_result"
    }
   ],
   "source": [
    "writing_efd_3_model_grid_search_summary, writing_efd_3_model_grid_search_pipelines = model_search_3.score_summary(sort_by='mean_score')\n",
    "writing_efd_3_model_grid_search_summary"
   ]
  },
  {
   "cell_type": "markdown",
   "metadata": {},
   "source": [
    "Interesting - the DecisionTreeClassifier comes out on top, but the ExtraTreesClassifier has identical results, so we should take both forward for hyperparameter optimisation. In the reading_score notebook, this led to an interesting outcome where the RandomForestClassifier had a significant jump in performance. As with that case, a mean_score of 0.54 isn't overly impressive, but is acceptable, and we will hope that hyperparameter optimisation improves things:"
   ]
  },
  {
   "cell_type": "code",
   "execution_count": 16,
   "metadata": {},
   "outputs": [],
   "source": [
    "models_3 = {\n",
    "    \"DecisionTreeClassifier\":DecisionTreeClassifier(random_state=0),\n",
    "    \"ExtraTreesClassifier\": ExtraTreesClassifier(random_state=0),\n",
    "}\n",
    " \n",
    "parameters_3 = {\n",
    "    \"DecisionTreeClassifier\": {\n",
    "                            'model__max_depth': [None, 4, 15],\n",
    "                            'model__min_samples_split': [2, 50],\n",
    "                            'model__min_samples_leaf': [1, 50],\n",
    "                            'model__max_leaf_nodes': [None, 50],\n",
    "                            },\n",
    "\n",
    "     \"ExtraTreesClassifier\": {\n",
    "                            'model__n_estimators': [100,50,150],\n",
    "                            'model__max_depth': [None, 3, 15],\n",
    "                            'model__min_samples_split': [2, 50],\n",
    "                            'model__min_samples_leaf': [1,50],\n",
    "                            }\n",
    "}"
   ]
  },
  {
   "cell_type": "code",
   "execution_count": 17,
   "metadata": {},
   "outputs": [
    {
     "name": "stdout",
     "output_type": "stream",
     "text": [
      "\n",
      "Running GridSearchCV for DecisionTreeClassifier \n",
      "\n",
      "Fitting 5 folds for each of 24 candidates, totalling 120 fits\n",
      "\n",
      "Running GridSearchCV for ExtraTreesClassifier \n",
      "\n",
      "Fitting 5 folds for each of 36 candidates, totalling 180 fits\n"
     ]
    }
   ],
   "source": [
    "parameters_search_3 = HyperparameterOptimizationSearch(models=models_3, parameters=parameters_3)\n",
    "parameters_search_3.fit(writing_train_vars_3, writing_train_score_3, scoring=make_scorer(recall_score, labels=[0], average=None), n_jobs=-1, cv=5)"
   ]
  },
  {
   "cell_type": "markdown",
   "metadata": {},
   "source": [
    "Now we inspect the results:"
   ]
  },
  {
   "cell_type": "code",
   "execution_count": 18,
   "metadata": {},
   "outputs": [
    {
     "data": {
      "text/html": [
       "<div>\n",
       "<style scoped>\n",
       "    .dataframe tbody tr th:only-of-type {\n",
       "        vertical-align: middle;\n",
       "    }\n",
       "\n",
       "    .dataframe tbody tr th {\n",
       "        vertical-align: top;\n",
       "    }\n",
       "\n",
       "    .dataframe thead th {\n",
       "        text-align: right;\n",
       "    }\n",
       "</style>\n",
       "<table border=\"1\" class=\"dataframe\">\n",
       "  <thead>\n",
       "    <tr style=\"text-align: right;\">\n",
       "      <th></th>\n",
       "      <th>estimator</th>\n",
       "      <th>minimum_score</th>\n",
       "      <th>mean_score</th>\n",
       "      <th>maximum_score</th>\n",
       "      <th>standard_deviation_score</th>\n",
       "      <th>model__max_depth</th>\n",
       "      <th>model__max_leaf_nodes</th>\n",
       "      <th>model__min_samples_leaf</th>\n",
       "      <th>model__min_samples_split</th>\n",
       "      <th>model__n_estimators</th>\n",
       "    </tr>\n",
       "  </thead>\n",
       "  <tbody>\n",
       "    <tr>\n",
       "      <th>45</th>\n",
       "      <td>ExtraTreesClassifier</td>\n",
       "      <td>0.410714</td>\n",
       "      <td>0.602078</td>\n",
       "      <td>0.696429</td>\n",
       "      <td>0.102771</td>\n",
       "      <td>3</td>\n",
       "      <td>NaN</td>\n",
       "      <td>50</td>\n",
       "      <td>50</td>\n",
       "      <td>100</td>\n",
       "    </tr>\n",
       "    <tr>\n",
       "      <th>42</th>\n",
       "      <td>ExtraTreesClassifier</td>\n",
       "      <td>0.410714</td>\n",
       "      <td>0.602078</td>\n",
       "      <td>0.696429</td>\n",
       "      <td>0.102771</td>\n",
       "      <td>3</td>\n",
       "      <td>NaN</td>\n",
       "      <td>50</td>\n",
       "      <td>2</td>\n",
       "      <td>100</td>\n",
       "    </tr>\n",
       "    <tr>\n",
       "      <th>47</th>\n",
       "      <td>ExtraTreesClassifier</td>\n",
       "      <td>0.410714</td>\n",
       "      <td>0.602078</td>\n",
       "      <td>0.696429</td>\n",
       "      <td>0.102771</td>\n",
       "      <td>3</td>\n",
       "      <td>NaN</td>\n",
       "      <td>50</td>\n",
       "      <td>50</td>\n",
       "      <td>150</td>\n",
       "    </tr>\n",
       "    <tr>\n",
       "      <th>44</th>\n",
       "      <td>ExtraTreesClassifier</td>\n",
       "      <td>0.410714</td>\n",
       "      <td>0.602078</td>\n",
       "      <td>0.696429</td>\n",
       "      <td>0.102771</td>\n",
       "      <td>3</td>\n",
       "      <td>NaN</td>\n",
       "      <td>50</td>\n",
       "      <td>2</td>\n",
       "      <td>150</td>\n",
       "    </tr>\n",
       "    <tr>\n",
       "      <th>30</th>\n",
       "      <td>ExtraTreesClassifier</td>\n",
       "      <td>0.410714</td>\n",
       "      <td>0.598506</td>\n",
       "      <td>0.678571</td>\n",
       "      <td>0.099694</td>\n",
       "      <td>None</td>\n",
       "      <td>NaN</td>\n",
       "      <td>50</td>\n",
       "      <td>2</td>\n",
       "      <td>100</td>\n",
       "    </tr>\n",
       "    <tr>\n",
       "      <th>33</th>\n",
       "      <td>ExtraTreesClassifier</td>\n",
       "      <td>0.410714</td>\n",
       "      <td>0.598506</td>\n",
       "      <td>0.678571</td>\n",
       "      <td>0.099694</td>\n",
       "      <td>None</td>\n",
       "      <td>NaN</td>\n",
       "      <td>50</td>\n",
       "      <td>50</td>\n",
       "      <td>100</td>\n",
       "    </tr>\n",
       "    <tr>\n",
       "      <th>34</th>\n",
       "      <td>ExtraTreesClassifier</td>\n",
       "      <td>0.339286</td>\n",
       "      <td>0.598506</td>\n",
       "      <td>0.714286</td>\n",
       "      <td>0.137359</td>\n",
       "      <td>None</td>\n",
       "      <td>NaN</td>\n",
       "      <td>50</td>\n",
       "      <td>50</td>\n",
       "      <td>50</td>\n",
       "    </tr>\n",
       "    <tr>\n",
       "      <th>35</th>\n",
       "      <td>ExtraTreesClassifier</td>\n",
       "      <td>0.410714</td>\n",
       "      <td>0.598506</td>\n",
       "      <td>0.678571</td>\n",
       "      <td>0.099694</td>\n",
       "      <td>None</td>\n",
       "      <td>NaN</td>\n",
       "      <td>50</td>\n",
       "      <td>50</td>\n",
       "      <td>150</td>\n",
       "    </tr>\n",
       "    <tr>\n",
       "      <th>43</th>\n",
       "      <td>ExtraTreesClassifier</td>\n",
       "      <td>0.410714</td>\n",
       "      <td>0.598506</td>\n",
       "      <td>0.696429</td>\n",
       "      <td>0.100965</td>\n",
       "      <td>3</td>\n",
       "      <td>NaN</td>\n",
       "      <td>50</td>\n",
       "      <td>2</td>\n",
       "      <td>50</td>\n",
       "    </tr>\n",
       "    <tr>\n",
       "      <th>46</th>\n",
       "      <td>ExtraTreesClassifier</td>\n",
       "      <td>0.410714</td>\n",
       "      <td>0.598506</td>\n",
       "      <td>0.696429</td>\n",
       "      <td>0.100965</td>\n",
       "      <td>3</td>\n",
       "      <td>NaN</td>\n",
       "      <td>50</td>\n",
       "      <td>50</td>\n",
       "      <td>50</td>\n",
       "    </tr>\n",
       "    <tr>\n",
       "      <th>31</th>\n",
       "      <td>ExtraTreesClassifier</td>\n",
       "      <td>0.339286</td>\n",
       "      <td>0.598506</td>\n",
       "      <td>0.714286</td>\n",
       "      <td>0.137359</td>\n",
       "      <td>None</td>\n",
       "      <td>NaN</td>\n",
       "      <td>50</td>\n",
       "      <td>2</td>\n",
       "      <td>50</td>\n",
       "    </tr>\n",
       "    <tr>\n",
       "      <th>54</th>\n",
       "      <td>ExtraTreesClassifier</td>\n",
       "      <td>0.410714</td>\n",
       "      <td>0.598506</td>\n",
       "      <td>0.678571</td>\n",
       "      <td>0.099694</td>\n",
       "      <td>15</td>\n",
       "      <td>NaN</td>\n",
       "      <td>50</td>\n",
       "      <td>2</td>\n",
       "      <td>100</td>\n",
       "    </tr>\n",
       "    <tr>\n",
       "      <th>55</th>\n",
       "      <td>ExtraTreesClassifier</td>\n",
       "      <td>0.339286</td>\n",
       "      <td>0.598506</td>\n",
       "      <td>0.714286</td>\n",
       "      <td>0.137359</td>\n",
       "      <td>15</td>\n",
       "      <td>NaN</td>\n",
       "      <td>50</td>\n",
       "      <td>2</td>\n",
       "      <td>50</td>\n",
       "    </tr>\n",
       "    <tr>\n",
       "      <th>56</th>\n",
       "      <td>ExtraTreesClassifier</td>\n",
       "      <td>0.410714</td>\n",
       "      <td>0.598506</td>\n",
       "      <td>0.678571</td>\n",
       "      <td>0.099694</td>\n",
       "      <td>15</td>\n",
       "      <td>NaN</td>\n",
       "      <td>50</td>\n",
       "      <td>2</td>\n",
       "      <td>150</td>\n",
       "    </tr>\n",
       "    <tr>\n",
       "      <th>57</th>\n",
       "      <td>ExtraTreesClassifier</td>\n",
       "      <td>0.410714</td>\n",
       "      <td>0.598506</td>\n",
       "      <td>0.678571</td>\n",
       "      <td>0.099694</td>\n",
       "      <td>15</td>\n",
       "      <td>NaN</td>\n",
       "      <td>50</td>\n",
       "      <td>50</td>\n",
       "      <td>100</td>\n",
       "    </tr>\n",
       "    <tr>\n",
       "      <th>58</th>\n",
       "      <td>ExtraTreesClassifier</td>\n",
       "      <td>0.339286</td>\n",
       "      <td>0.598506</td>\n",
       "      <td>0.714286</td>\n",
       "      <td>0.137359</td>\n",
       "      <td>15</td>\n",
       "      <td>NaN</td>\n",
       "      <td>50</td>\n",
       "      <td>50</td>\n",
       "      <td>50</td>\n",
       "    </tr>\n",
       "    <tr>\n",
       "      <th>32</th>\n",
       "      <td>ExtraTreesClassifier</td>\n",
       "      <td>0.410714</td>\n",
       "      <td>0.598506</td>\n",
       "      <td>0.678571</td>\n",
       "      <td>0.099694</td>\n",
       "      <td>None</td>\n",
       "      <td>NaN</td>\n",
       "      <td>50</td>\n",
       "      <td>2</td>\n",
       "      <td>150</td>\n",
       "    </tr>\n",
       "    <tr>\n",
       "      <th>59</th>\n",
       "      <td>ExtraTreesClassifier</td>\n",
       "      <td>0.410714</td>\n",
       "      <td>0.598506</td>\n",
       "      <td>0.678571</td>\n",
       "      <td>0.099694</td>\n",
       "      <td>15</td>\n",
       "      <td>NaN</td>\n",
       "      <td>50</td>\n",
       "      <td>50</td>\n",
       "      <td>150</td>\n",
       "    </tr>\n",
       "    <tr>\n",
       "      <th>40</th>\n",
       "      <td>ExtraTreesClassifier</td>\n",
       "      <td>0.392857</td>\n",
       "      <td>0.56974</td>\n",
       "      <td>0.678571</td>\n",
       "      <td>0.101666</td>\n",
       "      <td>3</td>\n",
       "      <td>NaN</td>\n",
       "      <td>1</td>\n",
       "      <td>50</td>\n",
       "      <td>50</td>\n",
       "    </tr>\n",
       "    <tr>\n",
       "      <th>38</th>\n",
       "      <td>ExtraTreesClassifier</td>\n",
       "      <td>0.392857</td>\n",
       "      <td>0.56974</td>\n",
       "      <td>0.660714</td>\n",
       "      <td>0.099767</td>\n",
       "      <td>3</td>\n",
       "      <td>NaN</td>\n",
       "      <td>1</td>\n",
       "      <td>2</td>\n",
       "      <td>150</td>\n",
       "    </tr>\n",
       "    <tr>\n",
       "      <th>36</th>\n",
       "      <td>ExtraTreesClassifier</td>\n",
       "      <td>0.392857</td>\n",
       "      <td>0.56974</td>\n",
       "      <td>0.660714</td>\n",
       "      <td>0.099767</td>\n",
       "      <td>3</td>\n",
       "      <td>NaN</td>\n",
       "      <td>1</td>\n",
       "      <td>2</td>\n",
       "      <td>100</td>\n",
       "    </tr>\n",
       "    <tr>\n",
       "      <th>37</th>\n",
       "      <td>ExtraTreesClassifier</td>\n",
       "      <td>0.392857</td>\n",
       "      <td>0.566169</td>\n",
       "      <td>0.660714</td>\n",
       "      <td>0.098029</td>\n",
       "      <td>3</td>\n",
       "      <td>NaN</td>\n",
       "      <td>1</td>\n",
       "      <td>2</td>\n",
       "      <td>50</td>\n",
       "    </tr>\n",
       "    <tr>\n",
       "      <th>39</th>\n",
       "      <td>ExtraTreesClassifier</td>\n",
       "      <td>0.392857</td>\n",
       "      <td>0.559026</td>\n",
       "      <td>0.660714</td>\n",
       "      <td>0.096065</td>\n",
       "      <td>3</td>\n",
       "      <td>NaN</td>\n",
       "      <td>1</td>\n",
       "      <td>50</td>\n",
       "      <td>100</td>\n",
       "    </tr>\n",
       "    <tr>\n",
       "      <th>13</th>\n",
       "      <td>DecisionTreeClassifier</td>\n",
       "      <td>0.446429</td>\n",
       "      <td>0.548636</td>\n",
       "      <td>0.696429</td>\n",
       "      <td>0.093715</td>\n",
       "      <td>4</td>\n",
       "      <td>50</td>\n",
       "      <td>1</td>\n",
       "      <td>50</td>\n",
       "      <td>NaN</td>\n",
       "    </tr>\n",
       "    <tr>\n",
       "      <th>8</th>\n",
       "      <td>DecisionTreeClassifier</td>\n",
       "      <td>0.446429</td>\n",
       "      <td>0.548636</td>\n",
       "      <td>0.696429</td>\n",
       "      <td>0.093715</td>\n",
       "      <td>4</td>\n",
       "      <td>None</td>\n",
       "      <td>1</td>\n",
       "      <td>2</td>\n",
       "      <td>NaN</td>\n",
       "    </tr>\n",
       "    <tr>\n",
       "      <th>9</th>\n",
       "      <td>DecisionTreeClassifier</td>\n",
       "      <td>0.446429</td>\n",
       "      <td>0.548636</td>\n",
       "      <td>0.696429</td>\n",
       "      <td>0.093715</td>\n",
       "      <td>4</td>\n",
       "      <td>None</td>\n",
       "      <td>1</td>\n",
       "      <td>50</td>\n",
       "      <td>NaN</td>\n",
       "    </tr>\n",
       "    <tr>\n",
       "      <th>12</th>\n",
       "      <td>DecisionTreeClassifier</td>\n",
       "      <td>0.446429</td>\n",
       "      <td>0.548636</td>\n",
       "      <td>0.696429</td>\n",
       "      <td>0.093715</td>\n",
       "      <td>4</td>\n",
       "      <td>50</td>\n",
       "      <td>1</td>\n",
       "      <td>2</td>\n",
       "      <td>NaN</td>\n",
       "    </tr>\n",
       "    <tr>\n",
       "      <th>2</th>\n",
       "      <td>DecisionTreeClassifier</td>\n",
       "      <td>0.392857</td>\n",
       "      <td>0.54526</td>\n",
       "      <td>0.672727</td>\n",
       "      <td>0.107274</td>\n",
       "      <td>None</td>\n",
       "      <td>None</td>\n",
       "      <td>50</td>\n",
       "      <td>2</td>\n",
       "      <td>NaN</td>\n",
       "    </tr>\n",
       "    <tr>\n",
       "      <th>3</th>\n",
       "      <td>DecisionTreeClassifier</td>\n",
       "      <td>0.392857</td>\n",
       "      <td>0.54526</td>\n",
       "      <td>0.672727</td>\n",
       "      <td>0.107274</td>\n",
       "      <td>None</td>\n",
       "      <td>None</td>\n",
       "      <td>50</td>\n",
       "      <td>50</td>\n",
       "      <td>NaN</td>\n",
       "    </tr>\n",
       "    <tr>\n",
       "      <th>6</th>\n",
       "      <td>DecisionTreeClassifier</td>\n",
       "      <td>0.392857</td>\n",
       "      <td>0.54526</td>\n",
       "      <td>0.672727</td>\n",
       "      <td>0.107274</td>\n",
       "      <td>None</td>\n",
       "      <td>50</td>\n",
       "      <td>50</td>\n",
       "      <td>2</td>\n",
       "      <td>NaN</td>\n",
       "    </tr>\n",
       "    <tr>\n",
       "      <th>7</th>\n",
       "      <td>DecisionTreeClassifier</td>\n",
       "      <td>0.392857</td>\n",
       "      <td>0.54526</td>\n",
       "      <td>0.672727</td>\n",
       "      <td>0.107274</td>\n",
       "      <td>None</td>\n",
       "      <td>50</td>\n",
       "      <td>50</td>\n",
       "      <td>50</td>\n",
       "      <td>NaN</td>\n",
       "    </tr>\n",
       "    <tr>\n",
       "      <th>10</th>\n",
       "      <td>DecisionTreeClassifier</td>\n",
       "      <td>0.392857</td>\n",
       "      <td>0.54526</td>\n",
       "      <td>0.672727</td>\n",
       "      <td>0.107274</td>\n",
       "      <td>4</td>\n",
       "      <td>None</td>\n",
       "      <td>50</td>\n",
       "      <td>2</td>\n",
       "      <td>NaN</td>\n",
       "    </tr>\n",
       "    <tr>\n",
       "      <th>11</th>\n",
       "      <td>DecisionTreeClassifier</td>\n",
       "      <td>0.392857</td>\n",
       "      <td>0.54526</td>\n",
       "      <td>0.672727</td>\n",
       "      <td>0.107274</td>\n",
       "      <td>4</td>\n",
       "      <td>None</td>\n",
       "      <td>50</td>\n",
       "      <td>50</td>\n",
       "      <td>NaN</td>\n",
       "    </tr>\n",
       "    <tr>\n",
       "      <th>19</th>\n",
       "      <td>DecisionTreeClassifier</td>\n",
       "      <td>0.392857</td>\n",
       "      <td>0.54526</td>\n",
       "      <td>0.672727</td>\n",
       "      <td>0.107274</td>\n",
       "      <td>15</td>\n",
       "      <td>None</td>\n",
       "      <td>50</td>\n",
       "      <td>50</td>\n",
       "      <td>NaN</td>\n",
       "    </tr>\n",
       "    <tr>\n",
       "      <th>18</th>\n",
       "      <td>DecisionTreeClassifier</td>\n",
       "      <td>0.392857</td>\n",
       "      <td>0.54526</td>\n",
       "      <td>0.672727</td>\n",
       "      <td>0.107274</td>\n",
       "      <td>15</td>\n",
       "      <td>None</td>\n",
       "      <td>50</td>\n",
       "      <td>2</td>\n",
       "      <td>NaN</td>\n",
       "    </tr>\n",
       "    <tr>\n",
       "      <th>14</th>\n",
       "      <td>DecisionTreeClassifier</td>\n",
       "      <td>0.392857</td>\n",
       "      <td>0.54526</td>\n",
       "      <td>0.672727</td>\n",
       "      <td>0.107274</td>\n",
       "      <td>4</td>\n",
       "      <td>50</td>\n",
       "      <td>50</td>\n",
       "      <td>2</td>\n",
       "      <td>NaN</td>\n",
       "    </tr>\n",
       "    <tr>\n",
       "      <th>15</th>\n",
       "      <td>DecisionTreeClassifier</td>\n",
       "      <td>0.392857</td>\n",
       "      <td>0.54526</td>\n",
       "      <td>0.672727</td>\n",
       "      <td>0.107274</td>\n",
       "      <td>4</td>\n",
       "      <td>50</td>\n",
       "      <td>50</td>\n",
       "      <td>50</td>\n",
       "      <td>NaN</td>\n",
       "    </tr>\n",
       "    <tr>\n",
       "      <th>22</th>\n",
       "      <td>DecisionTreeClassifier</td>\n",
       "      <td>0.392857</td>\n",
       "      <td>0.54526</td>\n",
       "      <td>0.672727</td>\n",
       "      <td>0.107274</td>\n",
       "      <td>15</td>\n",
       "      <td>50</td>\n",
       "      <td>50</td>\n",
       "      <td>2</td>\n",
       "      <td>NaN</td>\n",
       "    </tr>\n",
       "    <tr>\n",
       "      <th>23</th>\n",
       "      <td>DecisionTreeClassifier</td>\n",
       "      <td>0.392857</td>\n",
       "      <td>0.54526</td>\n",
       "      <td>0.672727</td>\n",
       "      <td>0.107274</td>\n",
       "      <td>15</td>\n",
       "      <td>50</td>\n",
       "      <td>50</td>\n",
       "      <td>50</td>\n",
       "      <td>NaN</td>\n",
       "    </tr>\n",
       "    <tr>\n",
       "      <th>49</th>\n",
       "      <td>ExtraTreesClassifier</td>\n",
       "      <td>0.482143</td>\n",
       "      <td>0.544805</td>\n",
       "      <td>0.607143</td>\n",
       "      <td>0.043007</td>\n",
       "      <td>15</td>\n",
       "      <td>NaN</td>\n",
       "      <td>1</td>\n",
       "      <td>2</td>\n",
       "      <td>50</td>\n",
       "    </tr>\n",
       "    <tr>\n",
       "      <th>24</th>\n",
       "      <td>ExtraTreesClassifier</td>\n",
       "      <td>0.482143</td>\n",
       "      <td>0.544805</td>\n",
       "      <td>0.607143</td>\n",
       "      <td>0.043007</td>\n",
       "      <td>None</td>\n",
       "      <td>NaN</td>\n",
       "      <td>1</td>\n",
       "      <td>2</td>\n",
       "      <td>100</td>\n",
       "    </tr>\n",
       "    <tr>\n",
       "      <th>20</th>\n",
       "      <td>DecisionTreeClassifier</td>\n",
       "      <td>0.482143</td>\n",
       "      <td>0.544805</td>\n",
       "      <td>0.607143</td>\n",
       "      <td>0.043007</td>\n",
       "      <td>15</td>\n",
       "      <td>50</td>\n",
       "      <td>1</td>\n",
       "      <td>2</td>\n",
       "      <td>NaN</td>\n",
       "    </tr>\n",
       "    <tr>\n",
       "      <th>4</th>\n",
       "      <td>DecisionTreeClassifier</td>\n",
       "      <td>0.482143</td>\n",
       "      <td>0.544805</td>\n",
       "      <td>0.607143</td>\n",
       "      <td>0.043007</td>\n",
       "      <td>None</td>\n",
       "      <td>50</td>\n",
       "      <td>1</td>\n",
       "      <td>2</td>\n",
       "      <td>NaN</td>\n",
       "    </tr>\n",
       "    <tr>\n",
       "      <th>16</th>\n",
       "      <td>DecisionTreeClassifier</td>\n",
       "      <td>0.482143</td>\n",
       "      <td>0.544805</td>\n",
       "      <td>0.607143</td>\n",
       "      <td>0.043007</td>\n",
       "      <td>15</td>\n",
       "      <td>None</td>\n",
       "      <td>1</td>\n",
       "      <td>2</td>\n",
       "      <td>NaN</td>\n",
       "    </tr>\n",
       "    <tr>\n",
       "      <th>50</th>\n",
       "      <td>ExtraTreesClassifier</td>\n",
       "      <td>0.482143</td>\n",
       "      <td>0.544805</td>\n",
       "      <td>0.607143</td>\n",
       "      <td>0.043007</td>\n",
       "      <td>15</td>\n",
       "      <td>NaN</td>\n",
       "      <td>1</td>\n",
       "      <td>2</td>\n",
       "      <td>150</td>\n",
       "    </tr>\n",
       "    <tr>\n",
       "      <th>48</th>\n",
       "      <td>ExtraTreesClassifier</td>\n",
       "      <td>0.482143</td>\n",
       "      <td>0.544805</td>\n",
       "      <td>0.607143</td>\n",
       "      <td>0.043007</td>\n",
       "      <td>15</td>\n",
       "      <td>NaN</td>\n",
       "      <td>1</td>\n",
       "      <td>2</td>\n",
       "      <td>100</td>\n",
       "    </tr>\n",
       "    <tr>\n",
       "      <th>0</th>\n",
       "      <td>DecisionTreeClassifier</td>\n",
       "      <td>0.482143</td>\n",
       "      <td>0.544805</td>\n",
       "      <td>0.607143</td>\n",
       "      <td>0.043007</td>\n",
       "      <td>None</td>\n",
       "      <td>None</td>\n",
       "      <td>1</td>\n",
       "      <td>2</td>\n",
       "      <td>NaN</td>\n",
       "    </tr>\n",
       "    <tr>\n",
       "      <th>25</th>\n",
       "      <td>ExtraTreesClassifier</td>\n",
       "      <td>0.482143</td>\n",
       "      <td>0.544805</td>\n",
       "      <td>0.607143</td>\n",
       "      <td>0.043007</td>\n",
       "      <td>None</td>\n",
       "      <td>NaN</td>\n",
       "      <td>1</td>\n",
       "      <td>2</td>\n",
       "      <td>50</td>\n",
       "    </tr>\n",
       "    <tr>\n",
       "      <th>26</th>\n",
       "      <td>ExtraTreesClassifier</td>\n",
       "      <td>0.482143</td>\n",
       "      <td>0.544805</td>\n",
       "      <td>0.607143</td>\n",
       "      <td>0.043007</td>\n",
       "      <td>None</td>\n",
       "      <td>NaN</td>\n",
       "      <td>1</td>\n",
       "      <td>2</td>\n",
       "      <td>150</td>\n",
       "    </tr>\n",
       "    <tr>\n",
       "      <th>41</th>\n",
       "      <td>ExtraTreesClassifier</td>\n",
       "      <td>0.321429</td>\n",
       "      <td>0.534026</td>\n",
       "      <td>0.660714</td>\n",
       "      <td>0.12116</td>\n",
       "      <td>3</td>\n",
       "      <td>NaN</td>\n",
       "      <td>1</td>\n",
       "      <td>50</td>\n",
       "      <td>150</td>\n",
       "    </tr>\n",
       "    <tr>\n",
       "      <th>17</th>\n",
       "      <td>DecisionTreeClassifier</td>\n",
       "      <td>0.482143</td>\n",
       "      <td>0.516234</td>\n",
       "      <td>0.545455</td>\n",
       "      <td>0.020119</td>\n",
       "      <td>15</td>\n",
       "      <td>None</td>\n",
       "      <td>1</td>\n",
       "      <td>50</td>\n",
       "      <td>NaN</td>\n",
       "    </tr>\n",
       "    <tr>\n",
       "      <th>5</th>\n",
       "      <td>DecisionTreeClassifier</td>\n",
       "      <td>0.482143</td>\n",
       "      <td>0.516234</td>\n",
       "      <td>0.545455</td>\n",
       "      <td>0.020119</td>\n",
       "      <td>None</td>\n",
       "      <td>50</td>\n",
       "      <td>1</td>\n",
       "      <td>50</td>\n",
       "      <td>NaN</td>\n",
       "    </tr>\n",
       "    <tr>\n",
       "      <th>21</th>\n",
       "      <td>DecisionTreeClassifier</td>\n",
       "      <td>0.482143</td>\n",
       "      <td>0.516234</td>\n",
       "      <td>0.545455</td>\n",
       "      <td>0.020119</td>\n",
       "      <td>15</td>\n",
       "      <td>50</td>\n",
       "      <td>1</td>\n",
       "      <td>50</td>\n",
       "      <td>NaN</td>\n",
       "    </tr>\n",
       "    <tr>\n",
       "      <th>1</th>\n",
       "      <td>DecisionTreeClassifier</td>\n",
       "      <td>0.482143</td>\n",
       "      <td>0.516234</td>\n",
       "      <td>0.545455</td>\n",
       "      <td>0.020119</td>\n",
       "      <td>None</td>\n",
       "      <td>None</td>\n",
       "      <td>1</td>\n",
       "      <td>50</td>\n",
       "      <td>NaN</td>\n",
       "    </tr>\n",
       "    <tr>\n",
       "      <th>51</th>\n",
       "      <td>ExtraTreesClassifier</td>\n",
       "      <td>0.410714</td>\n",
       "      <td>0.498312</td>\n",
       "      <td>0.571429</td>\n",
       "      <td>0.055494</td>\n",
       "      <td>15</td>\n",
       "      <td>NaN</td>\n",
       "      <td>1</td>\n",
       "      <td>50</td>\n",
       "      <td>100</td>\n",
       "    </tr>\n",
       "    <tr>\n",
       "      <th>52</th>\n",
       "      <td>ExtraTreesClassifier</td>\n",
       "      <td>0.410714</td>\n",
       "      <td>0.498312</td>\n",
       "      <td>0.571429</td>\n",
       "      <td>0.055494</td>\n",
       "      <td>15</td>\n",
       "      <td>NaN</td>\n",
       "      <td>1</td>\n",
       "      <td>50</td>\n",
       "      <td>50</td>\n",
       "    </tr>\n",
       "    <tr>\n",
       "      <th>27</th>\n",
       "      <td>ExtraTreesClassifier</td>\n",
       "      <td>0.410714</td>\n",
       "      <td>0.498312</td>\n",
       "      <td>0.571429</td>\n",
       "      <td>0.055494</td>\n",
       "      <td>None</td>\n",
       "      <td>NaN</td>\n",
       "      <td>1</td>\n",
       "      <td>50</td>\n",
       "      <td>100</td>\n",
       "    </tr>\n",
       "    <tr>\n",
       "      <th>28</th>\n",
       "      <td>ExtraTreesClassifier</td>\n",
       "      <td>0.410714</td>\n",
       "      <td>0.498312</td>\n",
       "      <td>0.571429</td>\n",
       "      <td>0.055494</td>\n",
       "      <td>None</td>\n",
       "      <td>NaN</td>\n",
       "      <td>1</td>\n",
       "      <td>50</td>\n",
       "      <td>50</td>\n",
       "    </tr>\n",
       "    <tr>\n",
       "      <th>29</th>\n",
       "      <td>ExtraTreesClassifier</td>\n",
       "      <td>0.410714</td>\n",
       "      <td>0.487597</td>\n",
       "      <td>0.571429</td>\n",
       "      <td>0.065329</td>\n",
       "      <td>None</td>\n",
       "      <td>NaN</td>\n",
       "      <td>1</td>\n",
       "      <td>50</td>\n",
       "      <td>150</td>\n",
       "    </tr>\n",
       "    <tr>\n",
       "      <th>53</th>\n",
       "      <td>ExtraTreesClassifier</td>\n",
       "      <td>0.410714</td>\n",
       "      <td>0.487597</td>\n",
       "      <td>0.571429</td>\n",
       "      <td>0.065329</td>\n",
       "      <td>15</td>\n",
       "      <td>NaN</td>\n",
       "      <td>1</td>\n",
       "      <td>50</td>\n",
       "      <td>150</td>\n",
       "    </tr>\n",
       "  </tbody>\n",
       "</table>\n",
       "</div>"
      ],
      "text/plain": [
       "                 estimator minimum_score mean_score maximum_score  \\\n",
       "45    ExtraTreesClassifier      0.410714   0.602078      0.696429   \n",
       "42    ExtraTreesClassifier      0.410714   0.602078      0.696429   \n",
       "47    ExtraTreesClassifier      0.410714   0.602078      0.696429   \n",
       "44    ExtraTreesClassifier      0.410714   0.602078      0.696429   \n",
       "30    ExtraTreesClassifier      0.410714   0.598506      0.678571   \n",
       "33    ExtraTreesClassifier      0.410714   0.598506      0.678571   \n",
       "34    ExtraTreesClassifier      0.339286   0.598506      0.714286   \n",
       "35    ExtraTreesClassifier      0.410714   0.598506      0.678571   \n",
       "43    ExtraTreesClassifier      0.410714   0.598506      0.696429   \n",
       "46    ExtraTreesClassifier      0.410714   0.598506      0.696429   \n",
       "31    ExtraTreesClassifier      0.339286   0.598506      0.714286   \n",
       "54    ExtraTreesClassifier      0.410714   0.598506      0.678571   \n",
       "55    ExtraTreesClassifier      0.339286   0.598506      0.714286   \n",
       "56    ExtraTreesClassifier      0.410714   0.598506      0.678571   \n",
       "57    ExtraTreesClassifier      0.410714   0.598506      0.678571   \n",
       "58    ExtraTreesClassifier      0.339286   0.598506      0.714286   \n",
       "32    ExtraTreesClassifier      0.410714   0.598506      0.678571   \n",
       "59    ExtraTreesClassifier      0.410714   0.598506      0.678571   \n",
       "40    ExtraTreesClassifier      0.392857    0.56974      0.678571   \n",
       "38    ExtraTreesClassifier      0.392857    0.56974      0.660714   \n",
       "36    ExtraTreesClassifier      0.392857    0.56974      0.660714   \n",
       "37    ExtraTreesClassifier      0.392857   0.566169      0.660714   \n",
       "39    ExtraTreesClassifier      0.392857   0.559026      0.660714   \n",
       "13  DecisionTreeClassifier      0.446429   0.548636      0.696429   \n",
       "8   DecisionTreeClassifier      0.446429   0.548636      0.696429   \n",
       "9   DecisionTreeClassifier      0.446429   0.548636      0.696429   \n",
       "12  DecisionTreeClassifier      0.446429   0.548636      0.696429   \n",
       "2   DecisionTreeClassifier      0.392857    0.54526      0.672727   \n",
       "3   DecisionTreeClassifier      0.392857    0.54526      0.672727   \n",
       "6   DecisionTreeClassifier      0.392857    0.54526      0.672727   \n",
       "7   DecisionTreeClassifier      0.392857    0.54526      0.672727   \n",
       "10  DecisionTreeClassifier      0.392857    0.54526      0.672727   \n",
       "11  DecisionTreeClassifier      0.392857    0.54526      0.672727   \n",
       "19  DecisionTreeClassifier      0.392857    0.54526      0.672727   \n",
       "18  DecisionTreeClassifier      0.392857    0.54526      0.672727   \n",
       "14  DecisionTreeClassifier      0.392857    0.54526      0.672727   \n",
       "15  DecisionTreeClassifier      0.392857    0.54526      0.672727   \n",
       "22  DecisionTreeClassifier      0.392857    0.54526      0.672727   \n",
       "23  DecisionTreeClassifier      0.392857    0.54526      0.672727   \n",
       "49    ExtraTreesClassifier      0.482143   0.544805      0.607143   \n",
       "24    ExtraTreesClassifier      0.482143   0.544805      0.607143   \n",
       "20  DecisionTreeClassifier      0.482143   0.544805      0.607143   \n",
       "4   DecisionTreeClassifier      0.482143   0.544805      0.607143   \n",
       "16  DecisionTreeClassifier      0.482143   0.544805      0.607143   \n",
       "50    ExtraTreesClassifier      0.482143   0.544805      0.607143   \n",
       "48    ExtraTreesClassifier      0.482143   0.544805      0.607143   \n",
       "0   DecisionTreeClassifier      0.482143   0.544805      0.607143   \n",
       "25    ExtraTreesClassifier      0.482143   0.544805      0.607143   \n",
       "26    ExtraTreesClassifier      0.482143   0.544805      0.607143   \n",
       "41    ExtraTreesClassifier      0.321429   0.534026      0.660714   \n",
       "17  DecisionTreeClassifier      0.482143   0.516234      0.545455   \n",
       "5   DecisionTreeClassifier      0.482143   0.516234      0.545455   \n",
       "21  DecisionTreeClassifier      0.482143   0.516234      0.545455   \n",
       "1   DecisionTreeClassifier      0.482143   0.516234      0.545455   \n",
       "51    ExtraTreesClassifier      0.410714   0.498312      0.571429   \n",
       "52    ExtraTreesClassifier      0.410714   0.498312      0.571429   \n",
       "27    ExtraTreesClassifier      0.410714   0.498312      0.571429   \n",
       "28    ExtraTreesClassifier      0.410714   0.498312      0.571429   \n",
       "29    ExtraTreesClassifier      0.410714   0.487597      0.571429   \n",
       "53    ExtraTreesClassifier      0.410714   0.487597      0.571429   \n",
       "\n",
       "   standard_deviation_score model__max_depth model__max_leaf_nodes  \\\n",
       "45                 0.102771                3                   NaN   \n",
       "42                 0.102771                3                   NaN   \n",
       "47                 0.102771                3                   NaN   \n",
       "44                 0.102771                3                   NaN   \n",
       "30                 0.099694             None                   NaN   \n",
       "33                 0.099694             None                   NaN   \n",
       "34                 0.137359             None                   NaN   \n",
       "35                 0.099694             None                   NaN   \n",
       "43                 0.100965                3                   NaN   \n",
       "46                 0.100965                3                   NaN   \n",
       "31                 0.137359             None                   NaN   \n",
       "54                 0.099694               15                   NaN   \n",
       "55                 0.137359               15                   NaN   \n",
       "56                 0.099694               15                   NaN   \n",
       "57                 0.099694               15                   NaN   \n",
       "58                 0.137359               15                   NaN   \n",
       "32                 0.099694             None                   NaN   \n",
       "59                 0.099694               15                   NaN   \n",
       "40                 0.101666                3                   NaN   \n",
       "38                 0.099767                3                   NaN   \n",
       "36                 0.099767                3                   NaN   \n",
       "37                 0.098029                3                   NaN   \n",
       "39                 0.096065                3                   NaN   \n",
       "13                 0.093715                4                    50   \n",
       "8                  0.093715                4                  None   \n",
       "9                  0.093715                4                  None   \n",
       "12                 0.093715                4                    50   \n",
       "2                  0.107274             None                  None   \n",
       "3                  0.107274             None                  None   \n",
       "6                  0.107274             None                    50   \n",
       "7                  0.107274             None                    50   \n",
       "10                 0.107274                4                  None   \n",
       "11                 0.107274                4                  None   \n",
       "19                 0.107274               15                  None   \n",
       "18                 0.107274               15                  None   \n",
       "14                 0.107274                4                    50   \n",
       "15                 0.107274                4                    50   \n",
       "22                 0.107274               15                    50   \n",
       "23                 0.107274               15                    50   \n",
       "49                 0.043007               15                   NaN   \n",
       "24                 0.043007             None                   NaN   \n",
       "20                 0.043007               15                    50   \n",
       "4                  0.043007             None                    50   \n",
       "16                 0.043007               15                  None   \n",
       "50                 0.043007               15                   NaN   \n",
       "48                 0.043007               15                   NaN   \n",
       "0                  0.043007             None                  None   \n",
       "25                 0.043007             None                   NaN   \n",
       "26                 0.043007             None                   NaN   \n",
       "41                  0.12116                3                   NaN   \n",
       "17                 0.020119               15                  None   \n",
       "5                  0.020119             None                    50   \n",
       "21                 0.020119               15                    50   \n",
       "1                  0.020119             None                  None   \n",
       "51                 0.055494               15                   NaN   \n",
       "52                 0.055494               15                   NaN   \n",
       "27                 0.055494             None                   NaN   \n",
       "28                 0.055494             None                   NaN   \n",
       "29                 0.065329             None                   NaN   \n",
       "53                 0.065329               15                   NaN   \n",
       "\n",
       "   model__min_samples_leaf model__min_samples_split model__n_estimators  \n",
       "45                      50                       50                 100  \n",
       "42                      50                        2                 100  \n",
       "47                      50                       50                 150  \n",
       "44                      50                        2                 150  \n",
       "30                      50                        2                 100  \n",
       "33                      50                       50                 100  \n",
       "34                      50                       50                  50  \n",
       "35                      50                       50                 150  \n",
       "43                      50                        2                  50  \n",
       "46                      50                       50                  50  \n",
       "31                      50                        2                  50  \n",
       "54                      50                        2                 100  \n",
       "55                      50                        2                  50  \n",
       "56                      50                        2                 150  \n",
       "57                      50                       50                 100  \n",
       "58                      50                       50                  50  \n",
       "32                      50                        2                 150  \n",
       "59                      50                       50                 150  \n",
       "40                       1                       50                  50  \n",
       "38                       1                        2                 150  \n",
       "36                       1                        2                 100  \n",
       "37                       1                        2                  50  \n",
       "39                       1                       50                 100  \n",
       "13                       1                       50                 NaN  \n",
       "8                        1                        2                 NaN  \n",
       "9                        1                       50                 NaN  \n",
       "12                       1                        2                 NaN  \n",
       "2                       50                        2                 NaN  \n",
       "3                       50                       50                 NaN  \n",
       "6                       50                        2                 NaN  \n",
       "7                       50                       50                 NaN  \n",
       "10                      50                        2                 NaN  \n",
       "11                      50                       50                 NaN  \n",
       "19                      50                       50                 NaN  \n",
       "18                      50                        2                 NaN  \n",
       "14                      50                        2                 NaN  \n",
       "15                      50                       50                 NaN  \n",
       "22                      50                        2                 NaN  \n",
       "23                      50                       50                 NaN  \n",
       "49                       1                        2                  50  \n",
       "24                       1                        2                 100  \n",
       "20                       1                        2                 NaN  \n",
       "4                        1                        2                 NaN  \n",
       "16                       1                        2                 NaN  \n",
       "50                       1                        2                 150  \n",
       "48                       1                        2                 100  \n",
       "0                        1                        2                 NaN  \n",
       "25                       1                        2                  50  \n",
       "26                       1                        2                 150  \n",
       "41                       1                       50                 150  \n",
       "17                       1                       50                 NaN  \n",
       "5                        1                       50                 NaN  \n",
       "21                       1                       50                 NaN  \n",
       "1                        1                       50                 NaN  \n",
       "51                       1                       50                 100  \n",
       "52                       1                       50                  50  \n",
       "27                       1                       50                 100  \n",
       "28                       1                       50                  50  \n",
       "29                       1                       50                 150  \n",
       "53                       1                       50                 150  "
      ]
     },
     "execution_count": 18,
     "metadata": {},
     "output_type": "execute_result"
    }
   ],
   "source": [
    "writing_efd_3_parameters_grid_search_summary, writing_efd_3_parameters_grid_search_pipelines = parameters_search_3.score_summary(sort_by='mean_score')\n",
    "writing_efd_3_parameters_grid_search_summary"
   ]
  },
  {
   "cell_type": "markdown",
   "metadata": {},
   "source": [
    "Excellent - hyperparameter optimisation has significantly improved performance of the ExtraTreesClassifier to 0.60, which is acceptable. \n",
    "\n",
    "We can now assess feature importance for the 3-bin approach, and generate a classification report and confusion matrix. First though, we need to save the best model and hyperparameters:"
   ]
  },
  {
   "cell_type": "code",
   "execution_count": 19,
   "metadata": {},
   "outputs": [
    {
     "data": {
      "text/plain": [
       "'ExtraTreesClassifier'"
      ]
     },
     "execution_count": 19,
     "metadata": {},
     "output_type": "execute_result"
    }
   ],
   "source": [
    "writing_efd_3_best_model = writing_efd_3_parameters_grid_search_summary.iloc[0,0]\n",
    "writing_efd_3_best_model"
   ]
  },
  {
   "cell_type": "code",
   "execution_count": 20,
   "metadata": {},
   "outputs": [
    {
     "data": {
      "text/plain": [
       "{'model__max_depth': 3,\n",
       " 'model__min_samples_leaf': 50,\n",
       " 'model__min_samples_split': 2,\n",
       " 'model__n_estimators': 100}"
      ]
     },
     "execution_count": 20,
     "metadata": {},
     "output_type": "execute_result"
    }
   ],
   "source": [
    "writing_efd_3_best_parameters = writing_efd_3_parameters_grid_search_pipelines[writing_efd_3_best_model].best_params_\n",
    "writing_efd_3_best_parameters"
   ]
  },
  {
   "cell_type": "code",
   "execution_count": 21,
   "metadata": {},
   "outputs": [
    {
     "data": {
      "text/plain": [
       "Pipeline(steps=[('OrdinalCategoricalEncoder',\n",
       "                 OrdinalEncoder(encoding_method='arbitrary',\n",
       "                                variables=['gender', 'ethnicity',\n",
       "                                           'parental_education',\n",
       "                                           'lunch_program',\n",
       "                                           'test_preparation_course'])),\n",
       "                ('feature_scaling', StandardScaler()),\n",
       "                ('feature_selection',\n",
       "                 SelectFromModel(estimator=ExtraTreesClassifier(random_state=0))),\n",
       "                ('model',\n",
       "                 ExtraTreesClassifier(max_depth=3, min_samples_leaf=50,\n",
       "                                      random_state=0))])"
      ]
     },
     "execution_count": 21,
     "metadata": {},
     "output_type": "execute_result"
    }
   ],
   "source": [
    "writing_efd_3_pipeline_clf = writing_efd_3_parameters_grid_search_pipelines[writing_efd_3_best_model].best_estimator_\n",
    "writing_efd_3_pipeline_clf"
   ]
  },
  {
   "cell_type": "code",
   "execution_count": 23,
   "metadata": {},
   "outputs": [
    {
     "name": "stdout",
     "output_type": "stream",
     "text": [
      "* These are the 2 most important features in descending order. The model was trained on them: \n",
      "['ethnicity', 'parental_education']\n"
     ]
    },
    {
     "data": {
      "image/png": "[encoded data removed]",
      "text/plain": [
       "<Figure size 640x480 with 1 Axes>"
      ]
     },
     "metadata": {},
     "output_type": "display_data"
    }
   ],
   "source": [
    "# after data cleaning and feat engine, the feature may space changes\n",
    "data_cleaning_feat_eng_steps = 1 # how many data cleaning and feature engineering does your pipeline have?\n",
    "columns_after_data_cleaning_feat_eng = (Pipeline(writing_efd_3_pipeline_clf.steps[:data_cleaning_feat_eng_steps])\n",
    "                                        .transform(writing_train_vars_3)\n",
    "                                        .columns)\n",
    "\n",
    "# best_features = columns_after_data_cleaning_feat_eng\n",
    "best_features_3 = columns_after_data_cleaning_feat_eng[writing_efd_3_pipeline_clf['feature_selection'].get_support()].to_list()\n",
    "\n",
    "# create DataFrame to display feature importance\n",
    "df_feature_importance_3 = (pd.DataFrame(data={\n",
    "          'Feature': columns_after_data_cleaning_feat_eng[writing_efd_3_pipeline_clf['feature_selection'].get_support()],\n",
    "          'Importance': writing_efd_3_pipeline_clf['model'].feature_importances_})\n",
    "  .sort_values(by='Importance', ascending=False)\n",
    "  )\n",
    "\n",
    "writing_efd_3_best_features = df_feature_importance_3['Feature'].to_list() # reassign best features in order\n",
    "\n",
    "# Most important features statement and plot\n",
    "print(f\"* These are the {len(best_features_3)} most important features in descending order. \"\n",
    "      f\"The model was trained on them: \\n{best_features_3}\")\n",
    "\n",
    "df_feature_importance_3.plot(kind='bar',x='Feature',y='Importance')\n",
    "plt.show()"
   ]
  },
  {
   "cell_type": "markdown",
   "metadata": {},
   "source": [
    "It appears that the ethnicity and parental_education variables have been identified as the most important variables. This is good - these variables have been identified as the most important features for prediciting the math_score and reading_score variables, which should simplify matters going forward."
   ]
  },
  {
   "cell_type": "markdown",
   "metadata": {},
   "source": [
    "Now for the classification report and confusion matrix:"
   ]
  },
  {
   "cell_type": "code",
   "execution_count": 28,
   "metadata": {},
   "outputs": [],
   "source": [
    "from sklearn.metrics import classification_report, confusion_matrix\n",
    "\n",
    "def confusion_matrix_and_report(x, y, pipeline, label_map):\n",
    "\n",
    "  prediction = pipeline.predict(x)\n",
    "\n",
    "  print('---  Confusion Matrix  ---')\n",
    "  print(pd.DataFrame(confusion_matrix(y_true=prediction, y_pred=y),\n",
    "        columns=[ [\"Actual \" + sub for sub in label_map] ], \n",
    "        index= [ [\"Prediction \" + sub for sub in label_map ]]\n",
    "        ))\n",
    "  print(\"\\n\")\n",
    "\n",
    "\n",
    "  print('---  Classification Report  ---')\n",
    "  print(classification_report(y, prediction, target_names=label_map),\"\\n\")\n",
    "\n",
    "\n",
    "\n",
    "def clf_performance(writing_train_vars, writing_train_score, writing_test_vars, writing_test_score, pipeline, label_map):\n",
    "  print(\"#### Train Set #### \\n\")\n",
    "  confusion_matrix_and_report(writing_train_vars_3, writing_train_score_3, pipeline, label_map)\n",
    "\n",
    "  print(\"#### Test Set ####\\n\")\n",
    "  confusion_matrix_and_report(writing_test_vars_3, writing_test_score_3, pipeline, label_map)"
   ]
  },
  {
   "cell_type": "markdown",
   "metadata": {},
   "source": [
    "Now we can remind ourselves of the bins:"
   ]
  },
  {
   "cell_type": "code",
   "execution_count": 25,
   "metadata": {},
   "outputs": [
    {
     "data": {
      "text/plain": [
       "[-inf, 62.0, 75.0, inf]"
      ]
     },
     "execution_count": 25,
     "metadata": {},
     "output_type": "execute_result"
    }
   ],
   "source": [
    "disc_efd_3.binner_dict_['writing_score']"
   ]
  },
  {
   "cell_type": "markdown",
   "metadata": {},
   "source": [
    "Now we can replace the labels with more imformative ones:"
   ]
  },
  {
   "cell_type": "code",
   "execution_count": 26,
   "metadata": {},
   "outputs": [
    {
     "data": {
      "text/plain": [
       "['<62.0', '62 to 75', '>75.0']"
      ]
     },
     "execution_count": 26,
     "metadata": {},
     "output_type": "execute_result"
    }
   ],
   "source": [
    "writing_efd_3_label_map = ['<62.0', '62 to 75','>75.0']\n",
    "writing_efd_3_label_map"
   ]
  },
  {
   "cell_type": "markdown",
   "metadata": {},
   "source": [
    "Now for the classification report and confusion matrix:"
   ]
  },
  {
   "cell_type": "code",
   "execution_count": 29,
   "metadata": {},
   "outputs": [
    {
     "name": "stdout",
     "output_type": "stream",
     "text": [
      "#### Train Set #### \n",
      "\n",
      "---  Confusion Matrix  ---\n",
      "                    Actual <62.0 Actual 62 to 75 Actual >75.0\n",
      "Prediction <62.0             189             150          104\n",
      "Prediction 62 to 75           20              37           22\n",
      "Prediction >75.0              70              83          125\n",
      "\n",
      "\n",
      "---  Classification Report  ---\n",
      "              precision    recall  f1-score   support\n",
      "\n",
      "       <62.0       0.43      0.68      0.52       279\n",
      "    62 to 75       0.47      0.14      0.21       270\n",
      "       >75.0       0.45      0.50      0.47       251\n",
      "\n",
      "    accuracy                           0.44       800\n",
      "   macro avg       0.45      0.44      0.40       800\n",
      "weighted avg       0.45      0.44      0.40       800\n",
      " \n",
      "\n",
      "#### Test Set ####\n",
      "\n",
      "---  Confusion Matrix  ---\n",
      "                    Actual <62.0 Actual 62 to 75 Actual >75.0\n",
      "Prediction <62.0              55              30           27\n",
      "Prediction 62 to 75            6               6            8\n",
      "Prediction >75.0              17              21           30\n",
      "\n",
      "\n",
      "---  Classification Report  ---\n",
      "              precision    recall  f1-score   support\n",
      "\n",
      "       <62.0       0.49      0.71      0.58        78\n",
      "    62 to 75       0.30      0.11      0.16        57\n",
      "       >75.0       0.44      0.46      0.45        65\n",
      "\n",
      "    accuracy                           0.46       200\n",
      "   macro avg       0.41      0.42      0.40       200\n",
      "weighted avg       0.42      0.46      0.42       200\n",
      " \n",
      "\n"
     ]
    }
   ],
   "source": [
    "clf_performance(writing_train_vars_3, writing_train_score_3, writing_test_vars_3, writing_test_score_3, writing_efd_3_pipeline_clf, writing_efd_3_label_map )"
   ]
  },
  {
   "cell_type": "markdown",
   "metadata": {},
   "source": [
    "Interesting - as with the previous classification models we have trained, we have good (but not great) performance on the predicting the lowest-scoring class, but weak performance on prediciting the middle-scoring class, and middling performance on predicting the highest-scoring class. As with the previous models, this is acceptable, since the business requirements are for a tool that can predict low-scoring students (or in this case, students who fall into the lowest scoring class)\n",
    "\n",
    "We can now assess the performance of the 4-bin approach. As above, given performance of the 4-bin approach in the other notebooks, we anticipate poorer performance.\n",
    "\n",
    "First, we recap the dataset:"
   ]
  },
  {
   "cell_type": "code",
   "execution_count": 30,
   "metadata": {},
   "outputs": [
    {
     "data": {
      "text/html": [
       "<div>\n",
       "<style scoped>\n",
       "    .dataframe tbody tr th:only-of-type {\n",
       "        vertical-align: middle;\n",
       "    }\n",
       "\n",
       "    .dataframe tbody tr th {\n",
       "        vertical-align: top;\n",
       "    }\n",
       "\n",
       "    .dataframe thead th {\n",
       "        text-align: right;\n",
       "    }\n",
       "</style>\n",
       "<table border=\"1\" class=\"dataframe\">\n",
       "  <thead>\n",
       "    <tr style=\"text-align: right;\">\n",
       "      <th></th>\n",
       "      <th>gender</th>\n",
       "      <th>ethnicity</th>\n",
       "      <th>parental_education</th>\n",
       "      <th>lunch_program</th>\n",
       "      <th>test_preparation_course</th>\n",
       "      <th>writing_score</th>\n",
       "    </tr>\n",
       "  </thead>\n",
       "  <tbody>\n",
       "    <tr>\n",
       "      <th>0</th>\n",
       "      <td>male</td>\n",
       "      <td>group A</td>\n",
       "      <td>high school</td>\n",
       "      <td>standard</td>\n",
       "      <td>completed</td>\n",
       "      <td>1</td>\n",
       "    </tr>\n",
       "    <tr>\n",
       "      <th>1</th>\n",
       "      <td>female</td>\n",
       "      <td>group D</td>\n",
       "      <td>some high school</td>\n",
       "      <td>free/reduced</td>\n",
       "      <td>none</td>\n",
       "      <td>0</td>\n",
       "    </tr>\n",
       "    <tr>\n",
       "      <th>2</th>\n",
       "      <td>male</td>\n",
       "      <td>group E</td>\n",
       "      <td>some college</td>\n",
       "      <td>free/reduced</td>\n",
       "      <td>none</td>\n",
       "      <td>0</td>\n",
       "    </tr>\n",
       "    <tr>\n",
       "      <th>3</th>\n",
       "      <td>male</td>\n",
       "      <td>group B</td>\n",
       "      <td>high school</td>\n",
       "      <td>standard</td>\n",
       "      <td>none</td>\n",
       "      <td>1</td>\n",
       "    </tr>\n",
       "    <tr>\n",
       "      <th>4</th>\n",
       "      <td>male</td>\n",
       "      <td>group E</td>\n",
       "      <td>associate's degree</td>\n",
       "      <td>standard</td>\n",
       "      <td>completed</td>\n",
       "      <td>1</td>\n",
       "    </tr>\n",
       "    <tr>\n",
       "      <th>...</th>\n",
       "      <td>...</td>\n",
       "      <td>...</td>\n",
       "      <td>...</td>\n",
       "      <td>...</td>\n",
       "      <td>...</td>\n",
       "      <td>...</td>\n",
       "    </tr>\n",
       "    <tr>\n",
       "      <th>995</th>\n",
       "      <td>male</td>\n",
       "      <td>group C</td>\n",
       "      <td>high school</td>\n",
       "      <td>standard</td>\n",
       "      <td>none</td>\n",
       "      <td>1</td>\n",
       "    </tr>\n",
       "    <tr>\n",
       "      <th>996</th>\n",
       "      <td>male</td>\n",
       "      <td>group D</td>\n",
       "      <td>associate's degree</td>\n",
       "      <td>free/reduced</td>\n",
       "      <td>completed</td>\n",
       "      <td>3</td>\n",
       "    </tr>\n",
       "    <tr>\n",
       "      <th>997</th>\n",
       "      <td>female</td>\n",
       "      <td>group C</td>\n",
       "      <td>some high school</td>\n",
       "      <td>free/reduced</td>\n",
       "      <td>none</td>\n",
       "      <td>0</td>\n",
       "    </tr>\n",
       "    <tr>\n",
       "      <th>998</th>\n",
       "      <td>female</td>\n",
       "      <td>group C</td>\n",
       "      <td>some college</td>\n",
       "      <td>standard</td>\n",
       "      <td>none</td>\n",
       "      <td>3</td>\n",
       "    </tr>\n",
       "    <tr>\n",
       "      <th>999</th>\n",
       "      <td>male</td>\n",
       "      <td>group A</td>\n",
       "      <td>some college</td>\n",
       "      <td>standard</td>\n",
       "      <td>completed</td>\n",
       "      <td>1</td>\n",
       "    </tr>\n",
       "  </tbody>\n",
       "</table>\n",
       "<p>1000 rows × 6 columns</p>\n",
       "</div>"
      ],
      "text/plain": [
       "     gender ethnicity  parental_education lunch_program  \\\n",
       "0      male   group A         high school      standard   \n",
       "1    female   group D    some high school  free/reduced   \n",
       "2      male   group E        some college  free/reduced   \n",
       "3      male   group B         high school      standard   \n",
       "4      male   group E  associate's degree      standard   \n",
       "..      ...       ...                 ...           ...   \n",
       "995    male   group C         high school      standard   \n",
       "996    male   group D  associate's degree  free/reduced   \n",
       "997  female   group C    some high school  free/reduced   \n",
       "998  female   group C        some college      standard   \n",
       "999    male   group A        some college      standard   \n",
       "\n",
       "    test_preparation_course  writing_score  \n",
       "0                 completed              1  \n",
       "1                      none              0  \n",
       "2                      none              0  \n",
       "3                      none              1  \n",
       "4                 completed              1  \n",
       "..                      ...            ...  \n",
       "995                    none              1  \n",
       "996               completed              3  \n",
       "997                    none              0  \n",
       "998                    none              3  \n",
       "999               completed              1  \n",
       "\n",
       "[1000 rows x 6 columns]"
      ]
     },
     "execution_count": 30,
     "metadata": {},
     "output_type": "execute_result"
    }
   ],
   "source": [
    "df_writing_clf_efd_4"
   ]
  },
  {
   "cell_type": "markdown",
   "metadata": {},
   "source": [
    "Now we split the dataset:"
   ]
  },
  {
   "cell_type": "code",
   "execution_count": 31,
   "metadata": {},
   "outputs": [
    {
     "name": "stdout",
     "output_type": "stream",
     "text": [
      "* Train set: (800, 5) (800,) \n",
      "* Test set: (200, 5) (200,)\n"
     ]
    }
   ],
   "source": [
    "writing_train_vars_4, writing_test_vars_4, writing_train_score_4, writing_test_score_4 = train_test_split(\n",
    "    df_writing_clf_efd_4.drop(['writing_score'], axis=1),\n",
    "    df_writing_clf_efd_4['writing_score'],\n",
    "    test_size = 0.2,\n",
    "    random_state = 7\n",
    ")\n",
    "\n",
    "print(\"* Train set:\", writing_train_vars_4.shape, writing_train_score_4.shape, \"\\n* Test set:\",  writing_test_vars_4.shape, writing_test_score_4.shape)"
   ]
  },
  {
   "cell_type": "markdown",
   "metadata": {},
   "source": [
    "Now we determine the best algorithm to use for the model. We already have the models_quick_search and parameters_quick_search in memory"
   ]
  },
  {
   "cell_type": "code",
   "execution_count": 32,
   "metadata": {},
   "outputs": [
    {
     "name": "stdout",
     "output_type": "stream",
     "text": [
      "\n",
      "Running GridSearchCV for XGBClassifier \n",
      "\n",
      "Fitting 5 folds for each of 1 candidates, totalling 5 fits\n"
     ]
    },
    {
     "name": "stderr",
     "output_type": "stream",
     "text": [
      "/workspace/.pip-modules/lib/python3.8/site-packages/xgboost/compat.py:93: FutureWarning: pandas.Int64Index is deprecated and will be removed from pandas in a future version. Use pandas.Index with the appropriate dtype instead.\n",
      "  from pandas import MultiIndex, Int64Index\n",
      "/workspace/.pip-modules/lib/python3.8/site-packages/xgboost/compat.py:93: FutureWarning: pandas.Int64Index is deprecated and will be removed from pandas in a future version. Use pandas.Index with the appropriate dtype instead.\n",
      "  from pandas import MultiIndex, Int64Index\n",
      "/workspace/.pip-modules/lib/python3.8/site-packages/xgboost/compat.py:93: FutureWarning: pandas.Int64Index is deprecated and will be removed from pandas in a future version. Use pandas.Index with the appropriate dtype instead.\n",
      "  from pandas import MultiIndex, Int64Index\n",
      "/workspace/.pip-modules/lib/python3.8/site-packages/xgboost/compat.py:93: FutureWarning: pandas.Int64Index is deprecated and will be removed from pandas in a future version. Use pandas.Index with the appropriate dtype instead.\n",
      "  from pandas import MultiIndex, Int64Index\n",
      "/workspace/.pip-modules/lib/python3.8/site-packages/xgboost/compat.py:93: FutureWarning: pandas.Int64Index is deprecated and will be removed from pandas in a future version. Use pandas.Index with the appropriate dtype instead.\n",
      "  from pandas import MultiIndex, Int64Index\n"
     ]
    },
    {
     "name": "stdout",
     "output_type": "stream",
     "text": [
      "\n",
      "Running GridSearchCV for DecisionTreeClassifier \n",
      "\n",
      "Fitting 5 folds for each of 1 candidates, totalling 5 fits\n",
      "\n",
      "Running GridSearchCV for RandomForestClassifier \n",
      "\n",
      "Fitting 5 folds for each of 1 candidates, totalling 5 fits\n",
      "\n",
      "Running GridSearchCV for GradientBoostingClassifier \n",
      "\n",
      "Fitting 5 folds for each of 1 candidates, totalling 5 fits\n",
      "\n",
      "Running GridSearchCV for ExtraTreesClassifier \n",
      "\n",
      "Fitting 5 folds for each of 1 candidates, totalling 5 fits\n",
      "\n",
      "Running GridSearchCV for AdaBoostClassifier \n",
      "\n",
      "Fitting 5 folds for each of 1 candidates, totalling 5 fits\n",
      "\n",
      "Running GridSearchCV for SGDClassifier \n",
      "\n",
      "Fitting 5 folds for each of 1 candidates, totalling 5 fits\n"
     ]
    }
   ],
   "source": [
    "model_search_4 = HyperparameterOptimizationSearch(models=models_quick_search, parameters=parameters_quick_search)\n",
    "model_search_4.fit(writing_train_vars_4, writing_train_score_4, scoring=make_scorer(recall_score, labels=[0], average=None), n_jobs=-1, cv=5)"
   ]
  },
  {
   "cell_type": "code",
   "execution_count": 33,
   "metadata": {},
   "outputs": [
    {
     "data": {
      "text/html": [
       "<div>\n",
       "<style scoped>\n",
       "    .dataframe tbody tr th:only-of-type {\n",
       "        vertical-align: middle;\n",
       "    }\n",
       "\n",
       "    .dataframe tbody tr th {\n",
       "        vertical-align: top;\n",
       "    }\n",
       "\n",
       "    .dataframe thead th {\n",
       "        text-align: right;\n",
       "    }\n",
       "</style>\n",
       "<table border=\"1\" class=\"dataframe\">\n",
       "  <thead>\n",
       "    <tr style=\"text-align: right;\">\n",
       "      <th></th>\n",
       "      <th>estimator</th>\n",
       "      <th>minimum_score</th>\n",
       "      <th>mean_score</th>\n",
       "      <th>maximum_score</th>\n",
       "      <th>standard_deviation_score</th>\n",
       "    </tr>\n",
       "  </thead>\n",
       "  <tbody>\n",
       "    <tr>\n",
       "      <th>0</th>\n",
       "      <td>XGBClassifier</td>\n",
       "      <td>0.375</td>\n",
       "      <td>0.45</td>\n",
       "      <td>0.575</td>\n",
       "      <td>0.075829</td>\n",
       "    </tr>\n",
       "    <tr>\n",
       "      <th>6</th>\n",
       "      <td>SGDClassifier</td>\n",
       "      <td>0.0</td>\n",
       "      <td>0.435</td>\n",
       "      <td>0.825</td>\n",
       "      <td>0.295635</td>\n",
       "    </tr>\n",
       "    <tr>\n",
       "      <th>1</th>\n",
       "      <td>DecisionTreeClassifier</td>\n",
       "      <td>0.25</td>\n",
       "      <td>0.395</td>\n",
       "      <td>0.525</td>\n",
       "      <td>0.096695</td>\n",
       "    </tr>\n",
       "    <tr>\n",
       "      <th>3</th>\n",
       "      <td>GradientBoostingClassifier</td>\n",
       "      <td>0.25</td>\n",
       "      <td>0.395</td>\n",
       "      <td>0.6</td>\n",
       "      <td>0.122882</td>\n",
       "    </tr>\n",
       "    <tr>\n",
       "      <th>4</th>\n",
       "      <td>ExtraTreesClassifier</td>\n",
       "      <td>0.25</td>\n",
       "      <td>0.395</td>\n",
       "      <td>0.525</td>\n",
       "      <td>0.096695</td>\n",
       "    </tr>\n",
       "    <tr>\n",
       "      <th>2</th>\n",
       "      <td>RandomForestClassifier</td>\n",
       "      <td>0.25</td>\n",
       "      <td>0.39</td>\n",
       "      <td>0.5</td>\n",
       "      <td>0.090277</td>\n",
       "    </tr>\n",
       "    <tr>\n",
       "      <th>5</th>\n",
       "      <td>AdaBoostClassifier</td>\n",
       "      <td>0.3</td>\n",
       "      <td>0.34</td>\n",
       "      <td>0.4</td>\n",
       "      <td>0.04899</td>\n",
       "    </tr>\n",
       "  </tbody>\n",
       "</table>\n",
       "</div>"
      ],
      "text/plain": [
       "                    estimator minimum_score mean_score maximum_score  \\\n",
       "0               XGBClassifier         0.375       0.45         0.575   \n",
       "6               SGDClassifier           0.0      0.435         0.825   \n",
       "1      DecisionTreeClassifier          0.25      0.395         0.525   \n",
       "3  GradientBoostingClassifier          0.25      0.395           0.6   \n",
       "4        ExtraTreesClassifier          0.25      0.395         0.525   \n",
       "2      RandomForestClassifier          0.25       0.39           0.5   \n",
       "5          AdaBoostClassifier           0.3       0.34           0.4   \n",
       "\n",
       "  standard_deviation_score  \n",
       "0                 0.075829  \n",
       "6                 0.295635  \n",
       "1                 0.096695  \n",
       "3                 0.122882  \n",
       "4                 0.096695  \n",
       "2                 0.090277  \n",
       "5                  0.04899  "
      ]
     },
     "execution_count": 33,
     "metadata": {},
     "output_type": "execute_result"
    }
   ],
   "source": [
    "writing_efd_4_model_grid_search_summary, writing_efd_4_model_grid_search_pipelines = model_search_4.score_summary(sort_by='mean_score')\n",
    "writing_efd_4_model_grid_search_summary"
   ]
  },
  {
   "cell_type": "markdown",
   "metadata": {},
   "source": [
    "Interesting - we see that the XGBClassifier has performed best, but performance is significantly worse than with the 3 bin approach. We haven't seen the XGBClassifier perform well before.\n",
    "\n",
    "It is unlikely that hyperparameter optimisation will improve performance enough to rival the ExtraTreesClassifier in the 3-bin approach, but since we have't optimised the XGBClassifier before, we could be surprised."
   ]
  },
  {
   "cell_type": "code",
   "execution_count": 36,
   "metadata": {},
   "outputs": [],
   "source": [
    "models_4 = {\n",
    "    \"XGBClassifier\":XGBClassifier(random_state=0),\n",
    "}\n",
    " \n",
    "parameters_4 = {\n",
    "    \"XGBClassifier\":{\n",
    "                    'model__n_estimators': [30,80,200],\n",
    "                    'model__max_depth': [None, 3, 15],\n",
    "                    'model__learning_rate': [0.01,0.1,0.001],\n",
    "                    'model__gamma': [0, 0.1],\n",
    "                    }\n",
    "\n",
    "}"
   ]
  },
  {
   "cell_type": "code",
   "execution_count": 37,
   "metadata": {},
   "outputs": [
    {
     "name": "stdout",
     "output_type": "stream",
     "text": [
      "\n",
      "Running GridSearchCV for XGBClassifier \n",
      "\n",
      "Fitting 5 folds for each of 54 candidates, totalling 270 fits\n"
     ]
    },
    {
     "name": "stderr",
     "output_type": "stream",
     "text": [
      "/workspace/.pip-modules/lib/python3.8/site-packages/xgboost/compat.py:93: FutureWarning: pandas.Int64Index is deprecated and will be removed from pandas in a future version. Use pandas.Index with the appropriate dtype instead.\n",
      "  from pandas import MultiIndex, Int64Index\n",
      "/workspace/.pip-modules/lib/python3.8/site-packages/xgboost/compat.py:93: FutureWarning: pandas.Int64Index is deprecated and will be removed from pandas in a future version. Use pandas.Index with the appropriate dtype instead.\n",
      "  from pandas import MultiIndex, Int64Index\n",
      "/workspace/.pip-modules/lib/python3.8/site-packages/xgboost/compat.py:93: FutureWarning: pandas.Int64Index is deprecated and will be removed from pandas in a future version. Use pandas.Index with the appropriate dtype instead.\n",
      "  from pandas import MultiIndex, Int64Index\n",
      "/workspace/.pip-modules/lib/python3.8/site-packages/xgboost/compat.py:93: FutureWarning: pandas.Int64Index is deprecated and will be removed from pandas in a future version. Use pandas.Index with the appropriate dtype instead.\n",
      "  from pandas import MultiIndex, Int64Index\n",
      "/workspace/.pip-modules/lib/python3.8/site-packages/xgboost/compat.py:93: FutureWarning: pandas.Int64Index is deprecated and will be removed from pandas in a future version. Use pandas.Index with the appropriate dtype instead.\n",
      "  from pandas import MultiIndex, Int64Index\n",
      "/workspace/.pip-modules/lib/python3.8/site-packages/xgboost/compat.py:93: FutureWarning: pandas.Int64Index is deprecated and will be removed from pandas in a future version. Use pandas.Index with the appropriate dtype instead.\n",
      "  from pandas import MultiIndex, Int64Index\n",
      "/workspace/.pip-modules/lib/python3.8/site-packages/xgboost/compat.py:93: FutureWarning: pandas.Int64Index is deprecated and will be removed from pandas in a future version. Use pandas.Index with the appropriate dtype instead.\n",
      "  from pandas import MultiIndex, Int64Index\n",
      "/workspace/.pip-modules/lib/python3.8/site-packages/xgboost/compat.py:93: FutureWarning: pandas.Int64Index is deprecated and will be removed from pandas in a future version. Use pandas.Index with the appropriate dtype instead.\n",
      "  from pandas import MultiIndex, Int64Index\n",
      "/workspace/.pip-modules/lib/python3.8/site-packages/xgboost/compat.py:93: FutureWarning: pandas.Int64Index is deprecated and will be removed from pandas in a future version. Use pandas.Index with the appropriate dtype instead.\n",
      "  from pandas import MultiIndex, Int64Index\n",
      "/workspace/.pip-modules/lib/python3.8/site-packages/xgboost/compat.py:93: FutureWarning: pandas.Int64Index is deprecated and will be removed from pandas in a future version. Use pandas.Index with the appropriate dtype instead.\n",
      "  from pandas import MultiIndex, Int64Index\n",
      "/workspace/.pip-modules/lib/python3.8/site-packages/xgboost/compat.py:93: FutureWarning: pandas.Int64Index is deprecated and will be removed from pandas in a future version. Use pandas.Index with the appropriate dtype instead.\n",
      "  from pandas import MultiIndex, Int64Index\n",
      "/workspace/.pip-modules/lib/python3.8/site-packages/xgboost/compat.py:93: FutureWarning: pandas.Int64Index is deprecated and will be removed from pandas in a future version. Use pandas.Index with the appropriate dtype instead.\n",
      "  from pandas import MultiIndex, Int64Index\n",
      "/workspace/.pip-modules/lib/python3.8/site-packages/xgboost/compat.py:93: FutureWarning: pandas.Int64Index is deprecated and will be removed from pandas in a future version. Use pandas.Index with the appropriate dtype instead.\n",
      "  from pandas import MultiIndex, Int64Index\n",
      "/workspace/.pip-modules/lib/python3.8/site-packages/xgboost/compat.py:93: FutureWarning: pandas.Int64Index is deprecated and will be removed from pandas in a future version. Use pandas.Index with the appropriate dtype instead.\n",
      "  from pandas import MultiIndex, Int64Index\n",
      "/workspace/.pip-modules/lib/python3.8/site-packages/xgboost/compat.py:93: FutureWarning: pandas.Int64Index is deprecated and will be removed from pandas in a future version. Use pandas.Index with the appropriate dtype instead.\n",
      "  from pandas import MultiIndex, Int64Index\n",
      "/workspace/.pip-modules/lib/python3.8/site-packages/xgboost/compat.py:93: FutureWarning: pandas.Int64Index is deprecated and will be removed from pandas in a future version. Use pandas.Index with the appropriate dtype instead.\n",
      "  from pandas import MultiIndex, Int64Index\n"
     ]
    }
   ],
   "source": [
    "parameters_search_4 = HyperparameterOptimizationSearch(models=models_4, parameters=parameters_4)\n",
    "parameters_search_4.fit(writing_train_vars_4, writing_train_score_4, scoring=make_scorer(recall_score, labels=[0], average=None), n_jobs=-1, cv=5)"
   ]
  },
  {
   "cell_type": "code",
   "execution_count": 38,
   "metadata": {},
   "outputs": [
    {
     "data": {
      "text/html": [
       "<div>\n",
       "<style scoped>\n",
       "    .dataframe tbody tr th:only-of-type {\n",
       "        vertical-align: middle;\n",
       "    }\n",
       "\n",
       "    .dataframe tbody tr th {\n",
       "        vertical-align: top;\n",
       "    }\n",
       "\n",
       "    .dataframe thead th {\n",
       "        text-align: right;\n",
       "    }\n",
       "</style>\n",
       "<table border=\"1\" class=\"dataframe\">\n",
       "  <thead>\n",
       "    <tr style=\"text-align: right;\">\n",
       "      <th></th>\n",
       "      <th>estimator</th>\n",
       "      <th>minimum_score</th>\n",
       "      <th>mean_score</th>\n",
       "      <th>maximum_score</th>\n",
       "      <th>standard_deviation_score</th>\n",
       "      <th>model__gamma</th>\n",
       "      <th>model__learning_rate</th>\n",
       "      <th>model__max_depth</th>\n",
       "      <th>model__n_estimators</th>\n",
       "    </tr>\n",
       "  </thead>\n",
       "  <tbody>\n",
       "    <tr>\n",
       "      <th>0</th>\n",
       "      <td>XGBClassifier</td>\n",
       "      <td>0.375</td>\n",
       "      <td>0.475</td>\n",
       "      <td>0.7</td>\n",
       "      <td>0.120416</td>\n",
       "      <td>0</td>\n",
       "      <td>0.01</td>\n",
       "      <td>None</td>\n",
       "      <td>30</td>\n",
       "    </tr>\n",
       "    <tr>\n",
       "      <th>24</th>\n",
       "      <td>XGBClassifier</td>\n",
       "      <td>0.375</td>\n",
       "      <td>0.475</td>\n",
       "      <td>0.7</td>\n",
       "      <td>0.120416</td>\n",
       "      <td>0</td>\n",
       "      <td>0.001</td>\n",
       "      <td>15</td>\n",
       "      <td>30</td>\n",
       "    </tr>\n",
       "    <tr>\n",
       "      <th>26</th>\n",
       "      <td>XGBClassifier</td>\n",
       "      <td>0.375</td>\n",
       "      <td>0.475</td>\n",
       "      <td>0.7</td>\n",
       "      <td>0.120416</td>\n",
       "      <td>0</td>\n",
       "      <td>0.001</td>\n",
       "      <td>15</td>\n",
       "      <td>200</td>\n",
       "    </tr>\n",
       "    <tr>\n",
       "      <th>1</th>\n",
       "      <td>XGBClassifier</td>\n",
       "      <td>0.375</td>\n",
       "      <td>0.475</td>\n",
       "      <td>0.7</td>\n",
       "      <td>0.120416</td>\n",
       "      <td>0</td>\n",
       "      <td>0.01</td>\n",
       "      <td>None</td>\n",
       "      <td>80</td>\n",
       "    </tr>\n",
       "    <tr>\n",
       "      <th>28</th>\n",
       "      <td>XGBClassifier</td>\n",
       "      <td>0.375</td>\n",
       "      <td>0.475</td>\n",
       "      <td>0.7</td>\n",
       "      <td>0.120416</td>\n",
       "      <td>0.1</td>\n",
       "      <td>0.01</td>\n",
       "      <td>None</td>\n",
       "      <td>80</td>\n",
       "    </tr>\n",
       "  </tbody>\n",
       "</table>\n",
       "</div>"
      ],
      "text/plain": [
       "        estimator minimum_score mean_score maximum_score  \\\n",
       "0   XGBClassifier         0.375      0.475           0.7   \n",
       "24  XGBClassifier         0.375      0.475           0.7   \n",
       "26  XGBClassifier         0.375      0.475           0.7   \n",
       "1   XGBClassifier         0.375      0.475           0.7   \n",
       "28  XGBClassifier         0.375      0.475           0.7   \n",
       "\n",
       "   standard_deviation_score model__gamma model__learning_rate  \\\n",
       "0                  0.120416            0                 0.01   \n",
       "24                 0.120416            0                0.001   \n",
       "26                 0.120416            0                0.001   \n",
       "1                  0.120416            0                 0.01   \n",
       "28                 0.120416          0.1                 0.01   \n",
       "\n",
       "   model__max_depth model__n_estimators  \n",
       "0              None                  30  \n",
       "24               15                  30  \n",
       "26               15                 200  \n",
       "1              None                  80  \n",
       "28             None                  80  "
      ]
     },
     "execution_count": 38,
     "metadata": {},
     "output_type": "execute_result"
    }
   ],
   "source": [
    "writing_efd_4_parameters_grid_search_summary, writing_efd_4_parameters_grid_search_pipelines = parameters_search_4.score_summary(sort_by='mean_score')\n",
    "writing_efd_4_parameters_grid_search_summary.head()"
   ]
  },
  {
   "cell_type": "markdown",
   "metadata": {},
   "source": [
    "Disappointing - it appears hyperparameter optimisation has failed to improve performance significantly. We can assess feature importance and generate a classification report and confusion matrix."
   ]
  },
  {
   "cell_type": "code",
   "execution_count": 39,
   "metadata": {},
   "outputs": [
    {
     "data": {
      "text/plain": [
       "'XGBClassifier'"
      ]
     },
     "execution_count": 39,
     "metadata": {},
     "output_type": "execute_result"
    }
   ],
   "source": [
    "writing_efd_4_best_model = writing_efd_4_parameters_grid_search_summary.iloc[0,0]\n",
    "writing_efd_4_best_model"
   ]
  },
  {
   "cell_type": "code",
   "execution_count": 40,
   "metadata": {},
   "outputs": [
    {
     "data": {
      "text/plain": [
       "{'model__gamma': 0,\n",
       " 'model__learning_rate': 0.01,\n",
       " 'model__max_depth': None,\n",
       " 'model__n_estimators': 30}"
      ]
     },
     "execution_count": 40,
     "metadata": {},
     "output_type": "execute_result"
    }
   ],
   "source": [
    "writing_efd_4_best_parameters = writing_efd_4_parameters_grid_search_pipelines[writing_efd_4_best_model].best_params_\n",
    "writing_efd_4_best_parameters"
   ]
  },
  {
   "cell_type": "code",
   "execution_count": 41,
   "metadata": {},
   "outputs": [
    {
     "data": {
      "text/plain": [
       "Pipeline(steps=[('OrdinalCategoricalEncoder',\n",
       "                 OrdinalEncoder(encoding_method='arbitrary',\n",
       "                                variables=['gender', 'ethnicity',\n",
       "                                           'parental_education',\n",
       "                                           'lunch_program',\n",
       "                                           'test_preparation_course'])),\n",
       "                ('feature_scaling', StandardScaler()),\n",
       "                ('feature_selection',\n",
       "                 SelectFromModel(estimator=XGBClassifier(base_score=None,\n",
       "                                                         booster=None,\n",
       "                                                         colsample_bylevel=None,\n",
       "                                                         colsample_byno...\n",
       "                               importance_type='gain',\n",
       "                               interaction_constraints='', learning_rate=0.01,\n",
       "                               max_delta_step=0, max_depth=6,\n",
       "                               min_child_weight=1, missing=nan,\n",
       "                               monotone_constraints='()', n_estimators=30,\n",
       "                               n_jobs=0, num_parallel_tree=1,\n",
       "                               objective='multi:softprob', random_state=0,\n",
       "                               reg_alpha=0, reg_lambda=1, scale_pos_weight=None,\n",
       "                               subsample=1, tree_method='exact',\n",
       "                               validate_parameters=1, verbosity=None))])"
      ]
     },
     "execution_count": 41,
     "metadata": {},
     "output_type": "execute_result"
    }
   ],
   "source": [
    "writing_efd_4_pipeline_clf = writing_efd_4_parameters_grid_search_pipelines[writing_efd_4_best_model].best_estimator_\n",
    "writing_efd_4_pipeline_clf"
   ]
  },
  {
   "cell_type": "markdown",
   "metadata": {},
   "source": [
    "Now for the confusion matrix and classification report"
   ]
  },
  {
   "cell_type": "code",
   "execution_count": 42,
   "metadata": {},
   "outputs": [
    {
     "name": "stdout",
     "output_type": "stream",
     "text": [
      "* These are the 2 most important features in descending order. The model was trained on them: \n",
      "['lunch_program', 'test_preparation_course']\n"
     ]
    },
    {
     "data": {
      "image/png": "[encoded data removed]",
      "text/plain": [
       "<Figure size 640x480 with 1 Axes>"
      ]
     },
     "metadata": {},
     "output_type": "display_data"
    }
   ],
   "source": [
    "# after data cleaning and feat engine, the feature may space changes\n",
    "data_cleaning_feat_eng_steps = 1 # how many data cleaning and feature engineering does your pipeline have?\n",
    "columns_after_data_cleaning_feat_eng = (Pipeline(writing_efd_4_pipeline_clf.steps[:data_cleaning_feat_eng_steps])\n",
    "                                        .transform(writing_train_vars_4)\n",
    "                                        .columns)\n",
    "\n",
    "# best_features = columns_after_data_cleaning_feat_eng\n",
    "best_features_4 = columns_after_data_cleaning_feat_eng[writing_efd_4_pipeline_clf['feature_selection'].get_support()].to_list()\n",
    "\n",
    "# create DataFrame to display feature importance\n",
    "df_feature_importance_4 = (pd.DataFrame(data={\n",
    "          'Feature': columns_after_data_cleaning_feat_eng[writing_efd_4_pipeline_clf['feature_selection'].get_support()],\n",
    "          'Importance': writing_efd_4_pipeline_clf['model'].feature_importances_})\n",
    "  .sort_values(by='Importance', ascending=False)\n",
    "  )\n",
    "\n",
    "writing_efd_4_best_features = df_feature_importance_4['Feature'].to_list() # reassign best features in order\n",
    "\n",
    "# Most important features statement and plot\n",
    "print(f\"* These are the {len(best_features_4)} most important features in descending order. \"\n",
    "      f\"The model was trained on them: \\n{best_features_4}\")\n",
    "\n",
    "df_feature_importance_4.plot(kind='bar',x='Feature',y='Importance')\n",
    "plt.show()"
   ]
  },
  {
   "cell_type": "markdown",
   "metadata": {},
   "source": [
    "Interesting - the 4-bin approach has identified the lunch_program and test_preparation_course feature variables as the most important. This is an intriguing outcome, since our data analysis notebooks identified these variables as having good predicitive power and good correlation levels with the target variables. Based on this, we could make an argument that we should accept the 4-bin approach. However, the 3-bin approach has stronger arguments - the model scores higher, and the feature variables used are the same as the other predictive models.\n",
    "\n",
    "Now for the classification report and confusion matrix:"
   ]
  },
  {
   "cell_type": "code",
   "execution_count": 47,
   "metadata": {},
   "outputs": [],
   "source": [
    "def confusion_matrix_and_report(x, y, pipeline, label_map):\n",
    "\n",
    "  prediction = pipeline.predict(x)\n",
    "\n",
    "  print('---  Confusion Matrix  ---')\n",
    "  print(pd.DataFrame(confusion_matrix(y_true=prediction, y_pred=y),\n",
    "        columns=[ [\"Actual \" + sub for sub in label_map] ], \n",
    "        index= [ [\"Prediction \" + sub for sub in label_map ]]\n",
    "        ))\n",
    "  print(\"\\n\")\n",
    "\n",
    "\n",
    "  print('---  Classification Report  ---')\n",
    "  print(classification_report(y, prediction, target_names=label_map),\"\\n\")\n",
    "\n",
    "\n",
    "\n",
    "def clf_performance(writing_train_vars, writing_train_score, writing_test_vars, writing_test_score, pipeline, label_map):\n",
    "  print(\"#### Train Set #### \\n\")\n",
    "  confusion_matrix_and_report(writing_train_vars_4, writing_train_score_4, pipeline, label_map)\n",
    "\n",
    "  print(\"#### Test Set ####\\n\")\n",
    "  confusion_matrix_and_report(writing_test_vars_4, writing_test_score_4, pipeline, label_map)"
   ]
  },
  {
   "cell_type": "code",
   "execution_count": 44,
   "metadata": {},
   "outputs": [
    {
     "data": {
      "text/plain": [
       "[-inf, 58.0, 68.0, 79.0, inf]"
      ]
     },
     "execution_count": 44,
     "metadata": {},
     "output_type": "execute_result"
    }
   ],
   "source": [
    "disc_efd_4.binner_dict_['writing_score']"
   ]
  },
  {
   "cell_type": "code",
   "execution_count": 45,
   "metadata": {},
   "outputs": [
    {
     "data": {
      "text/plain": [
       "['<58.0', '58 to 67', '68 to 79', '>79.0']"
      ]
     },
     "execution_count": 45,
     "metadata": {},
     "output_type": "execute_result"
    }
   ],
   "source": [
    "writing_efd_4_label_map = ['<58.0', '58 to 67', '68 to 79', '>79.0']\n",
    "writing_efd_4_label_map"
   ]
  },
  {
   "cell_type": "code",
   "execution_count": 48,
   "metadata": {},
   "outputs": [
    {
     "name": "stdout",
     "output_type": "stream",
     "text": [
      "#### Train Set #### \n",
      "\n",
      "---  Confusion Matrix  ---\n",
      "                    Actual <58.0 Actual 58 to 67 Actual 68 to 79 Actual >79.0\n",
      "Prediction <58.0              90              47              34           15\n",
      "Prediction 58 to 67          101             131             106           92\n",
      "Prediction 68 to 79            0               0               0            0\n",
      "Prediction >79.0               9              32              55           88\n",
      "\n",
      "\n",
      "---  Classification Report  ---\n",
      "              precision    recall  f1-score   support\n",
      "\n",
      "       <58.0       0.48      0.45      0.47       200\n",
      "    58 to 67       0.30      0.62      0.41       210\n",
      "    68 to 79       0.00      0.00      0.00       195\n",
      "       >79.0       0.48      0.45      0.46       195\n",
      "\n",
      "    accuracy                           0.39       800\n",
      "   macro avg       0.32      0.38      0.34       800\n",
      "weighted avg       0.32      0.39      0.34       800\n",
      " \n",
      "\n",
      "#### Test Set ####\n",
      "\n"
     ]
    },
    {
     "name": "stderr",
     "output_type": "stream",
     "text": [
      "/workspace/.pip-modules/lib/python3.8/site-packages/sklearn/metrics/_classification.py:1318: UndefinedMetricWarning: Precision and F-score are ill-defined and being set to 0.0 in labels with no predicted samples. Use `zero_division` parameter to control this behavior.\n",
      "  _warn_prf(average, modifier, msg_start, len(result))\n",
      "/workspace/.pip-modules/lib/python3.8/site-packages/sklearn/metrics/_classification.py:1318: UndefinedMetricWarning: Precision and F-score are ill-defined and being set to 0.0 in labels with no predicted samples. Use `zero_division` parameter to control this behavior.\n",
      "  _warn_prf(average, modifier, msg_start, len(result))\n",
      "/workspace/.pip-modules/lib/python3.8/site-packages/sklearn/metrics/_classification.py:1318: UndefinedMetricWarning: Precision and F-score are ill-defined and being set to 0.0 in labels with no predicted samples. Use `zero_division` parameter to control this behavior.\n",
      "  _warn_prf(average, modifier, msg_start, len(result))\n"
     ]
    },
    {
     "name": "stdout",
     "output_type": "stream",
     "text": [
      "---  Confusion Matrix  ---\n",
      "                    Actual <58.0 Actual 58 to 67 Actual 68 to 79 Actual >79.0\n",
      "Prediction <58.0              32               8               5            7\n",
      "Prediction 58 to 67           29              23              28           27\n",
      "Prediction 68 to 79            0               0               0            0\n",
      "Prediction >79.0               5               8              15           13\n",
      "\n",
      "\n",
      "---  Classification Report  ---\n",
      "              precision    recall  f1-score   support\n",
      "\n",
      "       <58.0       0.62      0.48      0.54        66\n",
      "    58 to 67       0.21      0.59      0.32        39\n",
      "    68 to 79       0.00      0.00      0.00        48\n",
      "       >79.0       0.32      0.28      0.30        47\n",
      "\n",
      "    accuracy                           0.34       200\n",
      "   macro avg       0.29      0.34      0.29       200\n",
      "weighted avg       0.32      0.34      0.31       200\n",
      " \n",
      "\n"
     ]
    },
    {
     "name": "stderr",
     "output_type": "stream",
     "text": [
      "/workspace/.pip-modules/lib/python3.8/site-packages/sklearn/metrics/_classification.py:1318: UndefinedMetricWarning: Precision and F-score are ill-defined and being set to 0.0 in labels with no predicted samples. Use `zero_division` parameter to control this behavior.\n",
      "  _warn_prf(average, modifier, msg_start, len(result))\n",
      "/workspace/.pip-modules/lib/python3.8/site-packages/sklearn/metrics/_classification.py:1318: UndefinedMetricWarning: Precision and F-score are ill-defined and being set to 0.0 in labels with no predicted samples. Use `zero_division` parameter to control this behavior.\n",
      "  _warn_prf(average, modifier, msg_start, len(result))\n",
      "/workspace/.pip-modules/lib/python3.8/site-packages/sklearn/metrics/_classification.py:1318: UndefinedMetricWarning: Precision and F-score are ill-defined and being set to 0.0 in labels with no predicted samples. Use `zero_division` parameter to control this behavior.\n",
      "  _warn_prf(average, modifier, msg_start, len(result))\n"
     ]
    }
   ],
   "source": [
    "clf_performance(writing_train_vars_4, writing_train_score_4, writing_test_vars_4, writing_test_score_4, writing_efd_4_pipeline_clf, writing_efd_4_label_map )"
   ]
  },
  {
   "cell_type": "markdown",
   "metadata": {},
   "source": [
    "Interesting - as with the 4-bin approaches used in the math_score and reading_score approaches, the writing_score 4-bin approach fails to be be able to predict the 68 to 79 class. As in those notebooks, this would acceptable given the reasons above if performance on the lowest-scoring class was sufficient. Unfortunately, it is not. Therefore, we must proceed with the 3-bin approach. We can redefine the pipeline without the feature selection steps, as we have already determined the most important features."
   ]
  },
  {
   "cell_type": "code",
   "execution_count": 49,
   "metadata": {},
   "outputs": [],
   "source": [
    "def PipelineOptimization(model):\n",
    "  pipeline_final = Pipeline([\n",
    "\n",
    "      (\"OrdinalCategoricalEncoder\", OrdinalEncoder(encoding_method='arbitrary', \n",
    "                                                  variables = [ 'ethnicity', 'parental_education'] ) ),      \n",
    "\n",
    "      (\"feature_scaling\", StandardScaler() ),\n",
    "\n",
    "      (\"model\", model ),\n",
    "       \n",
    "    ])\n",
    "\n",
    "  return pipeline_final"
   ]
  },
  {
   "cell_type": "markdown",
   "metadata": {},
   "source": [
    "Because we have used different names for the 3-bin and 4-bin training and test sets, we do not need to resplit the data. We can simply recall those sets and filter them appropriately."
   ]
  },
  {
   "cell_type": "code",
   "execution_count": 50,
   "metadata": {},
   "outputs": [],
   "source": [
    "writing_train_score_final = writing_train_score_3\n",
    "writing_test_score_final = writing_test_score_3"
   ]
  },
  {
   "cell_type": "code",
   "execution_count": 51,
   "metadata": {},
   "outputs": [
    {
     "data": {
      "text/html": [
       "<div>\n",
       "<style scoped>\n",
       "    .dataframe tbody tr th:only-of-type {\n",
       "        vertical-align: middle;\n",
       "    }\n",
       "\n",
       "    .dataframe tbody tr th {\n",
       "        vertical-align: top;\n",
       "    }\n",
       "\n",
       "    .dataframe thead th {\n",
       "        text-align: right;\n",
       "    }\n",
       "</style>\n",
       "<table border=\"1\" class=\"dataframe\">\n",
       "  <thead>\n",
       "    <tr style=\"text-align: right;\">\n",
       "      <th></th>\n",
       "      <th>ethnicity</th>\n",
       "      <th>parental_education</th>\n",
       "    </tr>\n",
       "  </thead>\n",
       "  <tbody>\n",
       "    <tr>\n",
       "      <th>600</th>\n",
       "      <td>group C</td>\n",
       "      <td>some college</td>\n",
       "    </tr>\n",
       "    <tr>\n",
       "      <th>80</th>\n",
       "      <td>group B</td>\n",
       "      <td>bachelor's degree</td>\n",
       "    </tr>\n",
       "    <tr>\n",
       "      <th>158</th>\n",
       "      <td>group D</td>\n",
       "      <td>associate's degree</td>\n",
       "    </tr>\n",
       "    <tr>\n",
       "      <th>423</th>\n",
       "      <td>group D</td>\n",
       "      <td>associate's degree</td>\n",
       "    </tr>\n",
       "    <tr>\n",
       "      <th>747</th>\n",
       "      <td>group A</td>\n",
       "      <td>high school</td>\n",
       "    </tr>\n",
       "  </tbody>\n",
       "</table>\n",
       "</div>"
      ],
      "text/plain": [
       "    ethnicity  parental_education\n",
       "600   group C        some college\n",
       "80    group B   bachelor's degree\n",
       "158   group D  associate's degree\n",
       "423   group D  associate's degree\n",
       "747   group A         high school"
      ]
     },
     "execution_count": 51,
     "metadata": {},
     "output_type": "execute_result"
    }
   ],
   "source": [
    "writing_train_vars_final = writing_train_vars_3.filter(writing_efd_3_best_features)\n",
    "writing_train_vars_final.head()"
   ]
  },
  {
   "cell_type": "code",
   "execution_count": 52,
   "metadata": {},
   "outputs": [
    {
     "data": {
      "text/html": [
       "<div>\n",
       "<style scoped>\n",
       "    .dataframe tbody tr th:only-of-type {\n",
       "        vertical-align: middle;\n",
       "    }\n",
       "\n",
       "    .dataframe tbody tr th {\n",
       "        vertical-align: top;\n",
       "    }\n",
       "\n",
       "    .dataframe thead th {\n",
       "        text-align: right;\n",
       "    }\n",
       "</style>\n",
       "<table border=\"1\" class=\"dataframe\">\n",
       "  <thead>\n",
       "    <tr style=\"text-align: right;\">\n",
       "      <th></th>\n",
       "      <th>ethnicity</th>\n",
       "      <th>parental_education</th>\n",
       "    </tr>\n",
       "  </thead>\n",
       "  <tbody>\n",
       "    <tr>\n",
       "      <th>778</th>\n",
       "      <td>group C</td>\n",
       "      <td>master's degree</td>\n",
       "    </tr>\n",
       "    <tr>\n",
       "      <th>334</th>\n",
       "      <td>group C</td>\n",
       "      <td>high school</td>\n",
       "    </tr>\n",
       "    <tr>\n",
       "      <th>271</th>\n",
       "      <td>group D</td>\n",
       "      <td>some high school</td>\n",
       "    </tr>\n",
       "    <tr>\n",
       "      <th>802</th>\n",
       "      <td>group B</td>\n",
       "      <td>some college</td>\n",
       "    </tr>\n",
       "    <tr>\n",
       "      <th>216</th>\n",
       "      <td>group B</td>\n",
       "      <td>associate's degree</td>\n",
       "    </tr>\n",
       "  </tbody>\n",
       "</table>\n",
       "</div>"
      ],
      "text/plain": [
       "    ethnicity  parental_education\n",
       "778   group C     master's degree\n",
       "334   group C         high school\n",
       "271   group D    some high school\n",
       "802   group B        some college\n",
       "216   group B  associate's degree"
      ]
     },
     "execution_count": 52,
     "metadata": {},
     "output_type": "execute_result"
    }
   ],
   "source": [
    "writing_test_vars_final = writing_test_vars_3.filter(writing_efd_3_best_features)\n",
    "writing_test_vars_final.head()"
   ]
  },
  {
   "cell_type": "markdown",
   "metadata": {},
   "source": [
    "Let's recap the best model and hyperparameters:"
   ]
  },
  {
   "cell_type": "code",
   "execution_count": 53,
   "metadata": {},
   "outputs": [
    {
     "data": {
      "text/plain": [
       "'ExtraTreesClassifier'"
      ]
     },
     "execution_count": 53,
     "metadata": {},
     "output_type": "execute_result"
    }
   ],
   "source": [
    "writing_efd_3_best_model"
   ]
  },
  {
   "cell_type": "code",
   "execution_count": 54,
   "metadata": {},
   "outputs": [
    {
     "data": {
      "text/plain": [
       "{'model__max_depth': 3,\n",
       " 'model__min_samples_leaf': 50,\n",
       " 'model__min_samples_split': 2,\n",
       " 'model__n_estimators': 100}"
      ]
     },
     "execution_count": 54,
     "metadata": {},
     "output_type": "execute_result"
    }
   ],
   "source": [
    "writing_efd_3_best_parameters"
   ]
  },
  {
   "cell_type": "markdown",
   "metadata": {},
   "source": [
    "We'll now define these manually:"
   ]
  },
  {
   "cell_type": "code",
   "execution_count": 57,
   "metadata": {},
   "outputs": [],
   "source": [
    "final_model = {\n",
    "    'ExtraTreesClassifier': ExtraTreesClassifier(random_state=0)\n",
    "}\n",
    "\n",
    "final_parameters = {\n",
    "    'ExtraTreesClassifier': {\n",
    "        'model__max_depth': [3],\n",
    "        'model__min_samples_leaf': [50],\n",
    "        'model__min_samples_split': [2],\n",
    "        'model__n_estimators': [100]\n",
    "        }\n",
    "}"
   ]
  },
  {
   "cell_type": "code",
   "execution_count": 58,
   "metadata": {},
   "outputs": [
    {
     "name": "stdout",
     "output_type": "stream",
     "text": [
      "\n",
      "Running GridSearchCV for ExtraTreesClassifier \n",
      "\n",
      "Fitting 5 folds for each of 1 candidates, totalling 5 fits\n"
     ]
    }
   ],
   "source": [
    "search_final = HyperparameterOptimizationSearch(models=final_model, parameters=final_parameters)\n",
    "search_final.fit(writing_train_vars_final, writing_train_score_final,\n",
    "           scoring = make_scorer(recall_score, labels=[0], average=None),\n",
    "           n_jobs=-1,cv=5)"
   ]
  },
  {
   "cell_type": "code",
   "execution_count": 59,
   "metadata": {},
   "outputs": [
    {
     "data": {
      "text/html": [
       "<div>\n",
       "<style scoped>\n",
       "    .dataframe tbody tr th:only-of-type {\n",
       "        vertical-align: middle;\n",
       "    }\n",
       "\n",
       "    .dataframe tbody tr th {\n",
       "        vertical-align: top;\n",
       "    }\n",
       "\n",
       "    .dataframe thead th {\n",
       "        text-align: right;\n",
       "    }\n",
       "</style>\n",
       "<table border=\"1\" class=\"dataframe\">\n",
       "  <thead>\n",
       "    <tr style=\"text-align: right;\">\n",
       "      <th></th>\n",
       "      <th>estimator</th>\n",
       "      <th>minimum_score</th>\n",
       "      <th>mean_score</th>\n",
       "      <th>maximum_score</th>\n",
       "      <th>standard_deviation_score</th>\n",
       "      <th>model__max_depth</th>\n",
       "      <th>model__min_samples_leaf</th>\n",
       "      <th>model__min_samples_split</th>\n",
       "      <th>model__n_estimators</th>\n",
       "    </tr>\n",
       "  </thead>\n",
       "  <tbody>\n",
       "    <tr>\n",
       "      <th>0</th>\n",
       "      <td>ExtraTreesClassifier</td>\n",
       "      <td>0.410714</td>\n",
       "      <td>0.602078</td>\n",
       "      <td>0.696429</td>\n",
       "      <td>0.102771</td>\n",
       "      <td>3</td>\n",
       "      <td>50</td>\n",
       "      <td>2</td>\n",
       "      <td>100</td>\n",
       "    </tr>\n",
       "  </tbody>\n",
       "</table>\n",
       "</div>"
      ],
      "text/plain": [
       "              estimator minimum_score mean_score maximum_score  \\\n",
       "0  ExtraTreesClassifier      0.410714   0.602078      0.696429   \n",
       "\n",
       "  standard_deviation_score model__max_depth model__min_samples_leaf  \\\n",
       "0                 0.102771                3                      50   \n",
       "\n",
       "  model__min_samples_split model__n_estimators  \n",
       "0                        2                 100  "
      ]
     },
     "execution_count": 59,
     "metadata": {},
     "output_type": "execute_result"
    }
   ],
   "source": [
    "grid_search_summary_writing_final, grid_search_pipelines_writing_final = search_final.score_summary(sort_by='mean_score')\n",
    "grid_search_summary_writing_final"
   ]
  },
  {
   "cell_type": "markdown",
   "metadata": {},
   "source": [
    "Excellent - it appears model performance is not reduced. We can now check this:"
   ]
  },
  {
   "cell_type": "code",
   "execution_count": 61,
   "metadata": {},
   "outputs": [
    {
     "data": {
      "text/plain": [
       "'ExtraTreesClassifier'"
      ]
     },
     "execution_count": 61,
     "metadata": {},
     "output_type": "execute_result"
    }
   ],
   "source": [
    "final_writing_model = grid_search_summary_writing_final.iloc[0,0]\n",
    "final_writing_model"
   ]
  },
  {
   "cell_type": "code",
   "execution_count": 62,
   "metadata": {},
   "outputs": [
    {
     "data": {
      "text/plain": [
       "Pipeline(steps=[('OrdinalCategoricalEncoder',\n",
       "                 OrdinalEncoder(encoding_method='arbitrary',\n",
       "                                variables=['ethnicity', 'parental_education'])),\n",
       "                ('feature_scaling', StandardScaler()),\n",
       "                ('model',\n",
       "                 ExtraTreesClassifier(max_depth=3, min_samples_leaf=50,\n",
       "                                      random_state=0))])"
      ]
     },
     "execution_count": 62,
     "metadata": {},
     "output_type": "execute_result"
    }
   ],
   "source": [
    "pipeline_clf_writing_final = grid_search_pipelines_writing_final[final_writing_model].best_estimator_\n",
    "pipeline_clf_writing_final"
   ]
  },
  {
   "cell_type": "code",
   "execution_count": 63,
   "metadata": {},
   "outputs": [
    {
     "name": "stdout",
     "output_type": "stream",
     "text": [
      "* These are the 2 most important features in descending order. The model was trained on them: \n",
      "['ethnicity', 'parental_education']\n"
     ]
    },
    {
     "data": {
      "image/png": "[encoded data removed]",
      "text/plain": [
       "<Figure size 640x480 with 1 Axes>"
      ]
     },
     "metadata": {},
     "output_type": "display_data"
    }
   ],
   "source": [
    "# after data cleaning and feat engine, the feature may space changes\n",
    "data_cleaning_feat_eng_steps = 1 # how many data cleaning and feature engineering does your pipeline have?\n",
    "columns_after_data_cleaning_feat_eng = (Pipeline(pipeline_clf_writing_final.steps[:data_cleaning_feat_eng_steps])\n",
    "                                        .transform(writing_train_vars_final)\n",
    "                                        .columns)\n",
    "\n",
    "# create DataFrame to display feature importance\n",
    "df_feature_importance = (pd.DataFrame(data={\n",
    "          'Feature': columns_after_data_cleaning_feat_eng,\n",
    "          'Importance': pipeline_clf_writing_final['model'].feature_importances_})\n",
    "  .sort_values(by='Importance', ascending=False)\n",
    "  )\n",
    "\n",
    "best_features_final = df_feature_importance['Feature'].to_list() # reassign best features in order\n",
    "\n",
    "# Most important features statement and plot\n",
    "print(f\"* These are the {len(best_features_final)} most important features in descending order. \"\n",
    "      f\"The model was trained on them: \\n{best_features_final}\")\n",
    "\n",
    "df_feature_importance.plot(kind='bar',x='Feature',y='Importance')\n",
    "plt.show()"
   ]
  },
  {
   "cell_type": "markdown",
   "metadata": {},
   "source": [
    "Excellent - feature importance is unchanged - the 2 most important features are still important."
   ]
  },
  {
   "cell_type": "code",
   "execution_count": 65,
   "metadata": {},
   "outputs": [],
   "source": [
    "def confusion_matrix_and_report(x, y, pipeline, label_map):\n",
    "\n",
    "  prediction = pipeline.predict(x)\n",
    "\n",
    "  print('---  Confusion Matrix  ---')\n",
    "  print(pd.DataFrame(confusion_matrix(y_true=prediction, y_pred=y),\n",
    "        columns=[ [\"Actual \" + sub for sub in label_map] ], \n",
    "        index= [ [\"Prediction \" + sub for sub in label_map ]]\n",
    "        ))\n",
    "  print(\"\\n\")\n",
    "\n",
    "\n",
    "  print('---  Classification Report  ---')\n",
    "  print(classification_report(y, prediction, target_names=label_map),\"\\n\")\n",
    "\n",
    "\n",
    "\n",
    "def clf_performance(writing_train_vars, writing_train_score, writing_test_vars, writing_test_score, pipeline, label_map):\n",
    "  print(\"#### Train Set #### \\n\")\n",
    "  confusion_matrix_and_report(writing_train_vars_final, writing_train_score_final, pipeline, label_map)\n",
    "\n",
    "  print(\"#### Test Set ####\\n\")\n",
    "  confusion_matrix_and_report(writing_test_vars_final, writing_test_score_final, pipeline, label_map)"
   ]
  },
  {
   "cell_type": "code",
   "execution_count": 66,
   "metadata": {},
   "outputs": [
    {
     "name": "stdout",
     "output_type": "stream",
     "text": [
      "#### Train Set #### \n",
      "\n",
      "---  Confusion Matrix  ---\n",
      "                    Actual <62.0 Actual 62 to 75 Actual >75.0\n",
      "Prediction <62.0             189             150          104\n",
      "Prediction 62 to 75           20              37           22\n",
      "Prediction >75.0              70              83          125\n",
      "\n",
      "\n",
      "---  Classification Report  ---\n",
      "              precision    recall  f1-score   support\n",
      "\n",
      "       <62.0       0.43      0.68      0.52       279\n",
      "    62 to 75       0.47      0.14      0.21       270\n",
      "       >75.0       0.45      0.50      0.47       251\n",
      "\n",
      "    accuracy                           0.44       800\n",
      "   macro avg       0.45      0.44      0.40       800\n",
      "weighted avg       0.45      0.44      0.40       800\n",
      " \n",
      "\n",
      "#### Test Set ####\n",
      "\n",
      "---  Confusion Matrix  ---\n",
      "                    Actual <62.0 Actual 62 to 75 Actual >75.0\n",
      "Prediction <62.0              55              30           27\n",
      "Prediction 62 to 75            6               6            8\n",
      "Prediction >75.0              17              21           30\n",
      "\n",
      "\n",
      "---  Classification Report  ---\n",
      "              precision    recall  f1-score   support\n",
      "\n",
      "       <62.0       0.49      0.71      0.58        78\n",
      "    62 to 75       0.30      0.11      0.16        57\n",
      "       >75.0       0.44      0.46      0.45        65\n",
      "\n",
      "    accuracy                           0.46       200\n",
      "   macro avg       0.41      0.42      0.40       200\n",
      "weighted avg       0.42      0.46      0.42       200\n",
      " \n",
      "\n"
     ]
    }
   ],
   "source": [
    "clf_performance(writing_train_vars_final, writing_train_score_final, writing_test_vars_final, writing_test_score_final, pipeline_clf_writing_final, writing_efd_3_label_map )"
   ]
  },
  {
   "cell_type": "markdown",
   "metadata": {},
   "source": [
    "Excellent - performance is unchanged, proving that the feature variables identified as unimportant have no bearing on model performance. We can now save the files:"
   ]
  },
  {
   "cell_type": "code",
   "execution_count": 67,
   "metadata": {},
   "outputs": [],
   "source": [
    "import joblib\n",
    "import os\n",
    "\n",
    "version = 'v1'\n",
    "file_path = f'outputs/ml_pipeline/predict_writing/{version}'\n",
    "\n",
    "try:\n",
    "  os.makedirs(name=file_path)\n",
    "except Exception as e:\n",
    "  print(e)"
   ]
  },
  {
   "cell_type": "code",
   "execution_count": 68,
   "metadata": {},
   "outputs": [
    {
     "name": "stdout",
     "output_type": "stream",
     "text": [
      "rm: cannot remove 'outputs/ml_pipeline/predict_writing/v1/writing-train-vars.csv': No such file or directory\n",
      "writing-train-vars.csv created in outputs/ml_pipeline/predict_writing/v1\n",
      "rm: cannot remove 'outputs/ml_pipeline/predict_writing/v1/writing-train-score.csv': No such file or directory\n",
      "writing-train-score.csv created in outputs/ml_pipeline/predict_writing/v1\n",
      "rm: cannot remove 'outputs/ml_pipeline/predict_writing/v1/writing-test-vars.csv': No such file or directory\n",
      "writing-test-vars.csv created in outputs/ml_pipeline/predict_writing/v1\n",
      "rm: cannot remove 'outputs/ml_pipeline/predict_writing/v1/writing-test-score.csv': No such file or directory\n",
      "writing-test-score.csv created in outputs/ml_pipeline/predict_writing/v1\n"
     ]
    }
   ],
   "source": [
    "! rm outputs/ml_pipeline/predict_writing/v1/writing-train-vars.csv\n",
    "writing_train_vars_final.to_csv(f'{file_path}/writing-train-vars.csv', index=False)\n",
    "print(f'writing-train-vars.csv created in {file_path}')\n",
    "\n",
    "! rm outputs/ml_pipeline/predict_writing/v1/writing-train-score.csv\n",
    "writing_train_score_final.to_csv(f'{file_path}/writing-train-score.csv', index=False)\n",
    "print(f'writing-train-score.csv created in {file_path}')\n",
    "\n",
    "! rm outputs/ml_pipeline/predict_writing/v1/writing-test-vars.csv\n",
    "writing_test_vars_final.to_csv(f'{file_path}/writing-test-vars.csv', index=False)\n",
    "print(f'writing-test-vars.csv created in {file_path}')\n",
    "\n",
    "! rm outputs/ml_pipeline/predict_writing/v1/writing-test-score.csv\n",
    "writing_test_score_final.to_csv(f'{file_path}/writing-test-score.csv', index=False)\n",
    "print(f'writing-test-score.csv created in {file_path}')"
   ]
  },
  {
   "cell_type": "code",
   "execution_count": 69,
   "metadata": {},
   "outputs": [
    {
     "name": "stdout",
     "output_type": "stream",
     "text": [
      "rm: cannot remove 'outputs/ml_pipeline/predict_writing/v1/pipeline-clf-writing.pkl': No such file or directory\n",
      "pipeline-clf-writing.pkl created in outputs/ml_pipeline/predict_writing/v1\n"
     ]
    }
   ],
   "source": [
    "! rm outputs/ml_pipeline/predict_writing/v1/pipeline-clf-writing.pkl\n",
    "\n",
    "joblib.dump(value=pipeline_clf_writing_final, filename=f\"{file_path}/pipeline-clf-writing.pkl\")\n",
    "print(f'pipeline-clf-writing.pkl created in {file_path}')"
   ]
  },
  {
   "cell_type": "code",
   "execution_count": 70,
   "metadata": {},
   "outputs": [
    {
     "name": "stdout",
     "output_type": "stream",
     "text": [
      "rm: cannot remove 'outputs/ml_pipeline/predict_writing/v1/label-map-writing.pkl': No such file or directory\n",
      "label-map-writing created in outputs/ml_pipeline/predict_writing/v1\n"
     ]
    }
   ],
   "source": [
    "! rm outputs/ml_pipeline/predict_writing/v1/label-map-writing.pkl\n",
    "\n",
    "joblib.dump(value=writing_efd_3_label_map, filename=f\"{file_path}/label-map-writing.pkl\")\n",
    "print(f'label-map-writing created in {file_path}')"
   ]
  },
  {
   "cell_type": "code",
   "execution_count": 71,
   "metadata": {},
   "outputs": [
    {
     "name": "stdout",
     "output_type": "stream",
     "text": [
      "rm: cannot remove 'outputs/ml_pipeline/predict_writing/v1/feature-importance-plot-writing.png': No such file or directory\n"
     ]
    },
    {
     "data": {
      "image/png": "[encoded data removed]",
      "text/plain": [
       "<Figure size 640x480 with 1 Axes>"
      ]
     },
     "metadata": {},
     "output_type": "display_data"
    }
   ],
   "source": [
    "! rm outputs/ml_pipeline/predict_writing/v1/feature-importance-plot-writing.png\n",
    "\n",
    "df_feature_importance.plot(kind='bar',x='Feature',y='Importance')\n",
    "plt.savefig(f'{file_path}/feature-importance-plot-writing.png', bbox_inches='tight')"
   ]
  },
  {
   "cell_type": "markdown",
   "metadata": {},
   "source": [
    "Excellent - we have now trained a model for predicting a student's writing score. After requiring a classification task for the math_score and reading_score prediction tasks, we went straight for a classification method for the writing_score prediction task, reasoning that a regression model would offer poor performance."
   ]
  }
 ],
 "metadata": {
  "kernelspec": {
   "display_name": "Python 3",
   "language": "python",
   "name": "python3"
  },
  "language_info": {
   "codemirror_mode": {
    "name": "ipython",
    "version": 3
   },
   "file_extension": ".py",
   "mimetype": "text/x-python",
   "name": "python",
   "nbconvert_exporter": "python",
   "pygments_lexer": "ipython3",
   "version": "3.8.11 (default, Nov  9 2022, 10:36:22) \n[GCC 9.4.0]"
  },
  "orig_nbformat": 4,
  "vscode": {
   "interpreter": {
    "hash": "03672d1d5ffbbadc3038e50358243ff6e1c939c705228639babab7898b4f75b3"
   }
  }
 },
 "nbformat": 4,
 "nbformat_minor": 2
}
